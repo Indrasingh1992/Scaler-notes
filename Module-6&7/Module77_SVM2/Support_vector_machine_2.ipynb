{
 "cells": [
  {
   "cell_type": "code",
   "execution_count": 1,
   "id": "d51b3da6-fdec-4584-93aa-f69d0a9c4f7e",
   "metadata": {},
   "outputs": [],
   "source": [
    "import numpy as np\n",
    "import pandas as pd\n",
    "from sklearn.model_selection import train_test_split\n",
    "from sklearn.svm import SVC\n",
    "from sklearn import metrics\n",
    "from sklearn.metrics import confusion_matrix\n",
    "from sklearn.model_selection import validation_curve\n",
    "from sklearn.model_selection import KFold\n",
    "from sklearn.model_selection import cross_val_score\n",
    "from sklearn.model_selection import GridSearchCV\n",
    "import matplotlib.pyplot as plt\n",
    "import seaborn as sns\n",
    "from sklearn.preprocessing import scale"
   ]
  },
  {
   "cell_type": "code",
   "execution_count": 20,
   "id": "f6d891bb-c34d-43d2-be9b-fb350b9ee451",
   "metadata": {},
   "outputs": [
    {
     "name": "stdout",
     "output_type": "stream",
     "text": [
      "     0     1     2    3     4     5     6     7     8     9   ...    48  \\\n",
      "0  0.00  0.64  0.64  0.0  0.32  0.00  0.00  0.00  0.00  0.00  ...  0.00   \n",
      "1  0.21  0.28  0.50  0.0  0.14  0.28  0.21  0.07  0.00  0.94  ...  0.00   \n",
      "2  0.06  0.00  0.71  0.0  1.23  0.19  0.19  0.12  0.64  0.25  ...  0.01   \n",
      "3  0.00  0.00  0.00  0.0  0.63  0.00  0.31  0.63  0.31  0.63  ...  0.00   \n",
      "4  0.00  0.00  0.00  0.0  0.63  0.00  0.31  0.63  0.31  0.63  ...  0.00   \n",
      "\n",
      "      49   50     51     52     53     54   55    56  57  \n",
      "0  0.000  0.0  0.778  0.000  0.000  3.756   61   278   1  \n",
      "1  0.132  0.0  0.372  0.180  0.048  5.114  101  1028   1  \n",
      "2  0.143  0.0  0.276  0.184  0.010  9.821  485  2259   1  \n",
      "3  0.137  0.0  0.137  0.000  0.000  3.537   40   191   1  \n",
      "4  0.135  0.0  0.135  0.000  0.000  3.537   40   191   1  \n",
      "\n",
      "[5 rows x 58 columns]\n"
     ]
    }
   ],
   "source": [
    "# load the data\n",
    "email_rec = pd.read_csv(\"Spam.txt\",  sep = ',', header= None )\n",
    "print(email_rec.head())"
   ]
  },
  {
   "cell_type": "code",
   "execution_count": 21,
   "id": "fcb5233e-1974-4871-b78a-a5fd86b5dd35",
   "metadata": {},
   "outputs": [
    {
     "name": "stdout",
     "output_type": "stream",
     "text": [
      "   word_freq_make  word_freq_address  word_freq_all  word_freq_3d  \\\n",
      "0            0.00               0.64           0.64           0.0   \n",
      "1            0.21               0.28           0.50           0.0   \n",
      "2            0.06               0.00           0.71           0.0   \n",
      "3            0.00               0.00           0.00           0.0   \n",
      "4            0.00               0.00           0.00           0.0   \n",
      "\n",
      "   word_freq_our  word_freq_over  word_freq_remove  word_freq_internet  \\\n",
      "0           0.32            0.00              0.00                0.00   \n",
      "1           0.14            0.28              0.21                0.07   \n",
      "2           1.23            0.19              0.19                0.12   \n",
      "3           0.63            0.00              0.31                0.63   \n",
      "4           0.63            0.00              0.31                0.63   \n",
      "\n",
      "   word_freq_order  word_freq_mail  ...  char_freq_;  char_freq_(  \\\n",
      "0             0.00            0.00  ...         0.00        0.000   \n",
      "1             0.00            0.94  ...         0.00        0.132   \n",
      "2             0.64            0.25  ...         0.01        0.143   \n",
      "3             0.31            0.63  ...         0.00        0.137   \n",
      "4             0.31            0.63  ...         0.00        0.135   \n",
      "\n",
      "   char_freq_[  char_freq_!  char_freq_$  char_freq_hash  \\\n",
      "0          0.0        0.778        0.000           0.000   \n",
      "1          0.0        0.372        0.180           0.048   \n",
      "2          0.0        0.276        0.184           0.010   \n",
      "3          0.0        0.137        0.000           0.000   \n",
      "4          0.0        0.135        0.000           0.000   \n",
      "\n",
      "   capital_run_length_average  capital_run_length_longest  \\\n",
      "0                       3.756                          61   \n",
      "1                       5.114                         101   \n",
      "2                       9.821                         485   \n",
      "3                       3.537                          40   \n",
      "4                       3.537                          40   \n",
      "\n",
      "   capital_run_length_total  spam  \n",
      "0                       278     1  \n",
      "1                      1028     1  \n",
      "2                      2259     1  \n",
      "3                       191     1  \n",
      "4                       191     1  \n",
      "\n",
      "[5 rows x 58 columns]\n"
     ]
    }
   ],
   "source": [
    "# renaming the columns\n",
    "email_rec.columns  = [\"word_freq_make\", \"word_freq_address\", \"word_freq_all\", \"word_freq_3d\", \n",
    "                      \"word_freq_our\", \"word_freq_over\", \"word_freq_remove\", \"word_freq_internet\", \n",
    "                      \"word_freq_order\", \"word_freq_mail\", \"word_freq_receive\", \"word_freq_will\", \n",
    "                      \"word_freq_people\", \"word_freq_report\", \"word_freq_addresses\", \"word_freq_free\", \n",
    "                      \"word_freq_business\", \"word_freq_email\", \"word_freq_you\", \"word_freq_credit\", \n",
    "                      \"word_freq_your\", \"word_freq_font\", \"word_freq_000\", \"word_freq_money\", \"word_freq_hp\", \n",
    "                      \"word_freq_hpl\", \"word_freq_george\", \"word_freq_650\", \"word_freq_lab\", \"word_freq_labs\", \n",
    "                      \"word_freq_telnet\", \"word_freq_857\", \"word_freq_data\", \"word_freq_415\", \"word_freq_85\", \n",
    "                      \"word_freq_technology\", \"word_freq_1999\", \"word_freq_parts\", \"word_freq_pm\", \"word_freq_direct\",\n",
    "                      \"word_freq_cs\", \"word_freq_meeting\", \"word_freq_original\", \"word_freq_project\", \"word_freq_re\", \n",
    "                      \"word_freq_edu\", \"word_freq_table\", \"word_freq_conference\", \"char_freq_;\", \"char_freq_(\", \n",
    "                      \"char_freq_[\", \"char_freq_!\", \"char_freq_$\", \"char_freq_hash\", \"capital_run_length_average\", \n",
    "                      \"capital_run_length_longest\", \"capital_run_length_total\", \"spam\"]\n",
    "print(email_rec.head())"
   ]
  },
  {
   "cell_type": "code",
   "execution_count": 22,
   "id": "fc190af4-8b6c-449a-9ba9-71d7fc21a4b3",
   "metadata": {},
   "outputs": [
    {
     "data": {
      "text/plain": [
       "(4601, 58)"
      ]
     },
     "execution_count": 22,
     "metadata": {},
     "output_type": "execute_result"
    }
   ],
   "source": [
    "email_rec.shape"
   ]
  },
  {
   "cell_type": "code",
   "execution_count": 23,
   "id": "5b77f1c4-2414-4825-b3f2-24d501060b51",
   "metadata": {},
   "outputs": [
    {
     "data": {
      "text/plain": [
       "0    2788\n",
       "1    1813\n",
       "Name: spam, dtype: int64"
      ]
     },
     "execution_count": 23,
     "metadata": {},
     "output_type": "execute_result"
    }
   ],
   "source": [
    "email_rec.spam.value_counts()"
   ]
  },
  {
   "cell_type": "code",
   "execution_count": 24,
   "id": "f8d07b46-4bfb-4eaf-88b8-497d0709d16e",
   "metadata": {},
   "outputs": [
    {
     "data": {
      "text/plain": [
       "0.39404477287546186"
      ]
     },
     "execution_count": 24,
     "metadata": {},
     "output_type": "execute_result"
    }
   ],
   "source": [
    "1813/(1813+2788)"
   ]
  },
  {
   "cell_type": "code",
   "execution_count": 25,
   "id": "31f9f9cf-b803-4da2-a76e-be65929ed4d9",
   "metadata": {},
   "outputs": [
    {
     "name": "stdout",
     "output_type": "stream",
     "text": [
      "<class 'pandas.core.frame.DataFrame'>\n",
      "RangeIndex: 4601 entries, 0 to 4600\n",
      "Data columns (total 58 columns):\n",
      " #   Column                      Non-Null Count  Dtype  \n",
      "---  ------                      --------------  -----  \n",
      " 0   word_freq_make              4601 non-null   float64\n",
      " 1   word_freq_address           4601 non-null   float64\n",
      " 2   word_freq_all               4601 non-null   float64\n",
      " 3   word_freq_3d                4601 non-null   float64\n",
      " 4   word_freq_our               4601 non-null   float64\n",
      " 5   word_freq_over              4601 non-null   float64\n",
      " 6   word_freq_remove            4601 non-null   float64\n",
      " 7   word_freq_internet          4601 non-null   float64\n",
      " 8   word_freq_order             4601 non-null   float64\n",
      " 9   word_freq_mail              4601 non-null   float64\n",
      " 10  word_freq_receive           4601 non-null   float64\n",
      " 11  word_freq_will              4601 non-null   float64\n",
      " 12  word_freq_people            4601 non-null   float64\n",
      " 13  word_freq_report            4601 non-null   float64\n",
      " 14  word_freq_addresses         4601 non-null   float64\n",
      " 15  word_freq_free              4601 non-null   float64\n",
      " 16  word_freq_business          4601 non-null   float64\n",
      " 17  word_freq_email             4601 non-null   float64\n",
      " 18  word_freq_you               4601 non-null   float64\n",
      " 19  word_freq_credit            4601 non-null   float64\n",
      " 20  word_freq_your              4601 non-null   float64\n",
      " 21  word_freq_font              4601 non-null   float64\n",
      " 22  word_freq_000               4601 non-null   float64\n",
      " 23  word_freq_money             4601 non-null   float64\n",
      " 24  word_freq_hp                4601 non-null   float64\n",
      " 25  word_freq_hpl               4601 non-null   float64\n",
      " 26  word_freq_george            4601 non-null   float64\n",
      " 27  word_freq_650               4601 non-null   float64\n",
      " 28  word_freq_lab               4601 non-null   float64\n",
      " 29  word_freq_labs              4601 non-null   float64\n",
      " 30  word_freq_telnet            4601 non-null   float64\n",
      " 31  word_freq_857               4601 non-null   float64\n",
      " 32  word_freq_data              4601 non-null   float64\n",
      " 33  word_freq_415               4601 non-null   float64\n",
      " 34  word_freq_85                4601 non-null   float64\n",
      " 35  word_freq_technology        4601 non-null   float64\n",
      " 36  word_freq_1999              4601 non-null   float64\n",
      " 37  word_freq_parts             4601 non-null   float64\n",
      " 38  word_freq_pm                4601 non-null   float64\n",
      " 39  word_freq_direct            4601 non-null   float64\n",
      " 40  word_freq_cs                4601 non-null   float64\n",
      " 41  word_freq_meeting           4601 non-null   float64\n",
      " 42  word_freq_original          4601 non-null   float64\n",
      " 43  word_freq_project           4601 non-null   float64\n",
      " 44  word_freq_re                4601 non-null   float64\n",
      " 45  word_freq_edu               4601 non-null   float64\n",
      " 46  word_freq_table             4601 non-null   float64\n",
      " 47  word_freq_conference        4601 non-null   float64\n",
      " 48  char_freq_;                 4601 non-null   float64\n",
      " 49  char_freq_(                 4601 non-null   float64\n",
      " 50  char_freq_[                 4601 non-null   float64\n",
      " 51  char_freq_!                 4601 non-null   float64\n",
      " 52  char_freq_$                 4601 non-null   float64\n",
      " 53  char_freq_hash              4601 non-null   float64\n",
      " 54  capital_run_length_average  4601 non-null   float64\n",
      " 55  capital_run_length_longest  4601 non-null   int64  \n",
      " 56  capital_run_length_total    4601 non-null   int64  \n",
      " 57  spam                        4601 non-null   int64  \n",
      "dtypes: float64(55), int64(3)\n",
      "memory usage: 2.0 MB\n"
     ]
    }
   ],
   "source": [
    "email_rec.info()"
   ]
  },
  {
   "cell_type": "code",
   "execution_count": 26,
   "id": "3619f972-3cc3-4a87-aec4-48584a030a98",
   "metadata": {},
   "outputs": [],
   "source": [
    "# splitting into X and y\n",
    "X = email_rec.drop(\"spam\", axis = 1)\n",
    "y = email_rec.spam.values.astype(int)"
   ]
  },
  {
   "cell_type": "code",
   "execution_count": 27,
   "id": "03e8428e-3d99-413a-96ee-178a7edfcb74",
   "metadata": {},
   "outputs": [],
   "source": [
    "from sklearn.preprocessing import scale\n",
    "X = scale(X)"
   ]
  },
  {
   "cell_type": "code",
   "execution_count": 28,
   "id": "2ceb1099-3ea2-47f7-8724-024f425bb715",
   "metadata": {},
   "outputs": [],
   "source": [
    "X_train, X_test, y_train, y_test = train_test_split(X, y, test_size = 0.3, random_state = 4)"
   ]
  },
  {
   "cell_type": "code",
   "execution_count": 29,
   "id": "8df64d30-a233-4f05-af20-57b9178c683b",
   "metadata": {},
   "outputs": [],
   "source": [
    "model = SVC(C=1, kernel = \"linear\")"
   ]
  },
  {
   "cell_type": "code",
   "execution_count": 30,
   "id": "98846660-ad83-42a8-a6fe-0176055d1b5a",
   "metadata": {},
   "outputs": [
    {
     "data": {
      "text/plain": [
       "SVC(C=1, kernel='linear')"
      ]
     },
     "execution_count": 30,
     "metadata": {},
     "output_type": "execute_result"
    }
   ],
   "source": [
    "model.fit(X_train,y_train)"
   ]
  },
  {
   "cell_type": "code",
   "execution_count": 32,
   "id": "427fb767-f37b-42e3-a61c-8a4a09a4284d",
   "metadata": {},
   "outputs": [
    {
     "data": {
      "text/plain": [
       "(627, 57)"
      ]
     },
     "execution_count": 32,
     "metadata": {},
     "output_type": "execute_result"
    }
   ],
   "source": [
    "model.support_vectors_.shape"
   ]
  },
  {
   "cell_type": "code",
   "execution_count": 37,
   "id": "42402db3-9cf3-4db6-ab21-d78e47464be4",
   "metadata": {},
   "outputs": [
    {
     "data": {
      "text/plain": [
       "(627,)"
      ]
     },
     "execution_count": 37,
     "metadata": {},
     "output_type": "execute_result"
    }
   ],
   "source": [
    "np.round(model.decision_function(model.support_vectors_), 2)"
   ]
  },
  {
   "cell_type": "code",
   "execution_count": 38,
   "id": "5227785c-820d-45db-b073-741ed774a8df",
   "metadata": {},
   "outputs": [],
   "source": [
    "pred = model.predict(X_test)"
   ]
  },
  {
   "cell_type": "code",
   "execution_count": 39,
   "id": "857013b7-4c93-4e8d-84fb-8f0a4c977266",
   "metadata": {},
   "outputs": [],
   "source": [
    "from sklearn.metrics import confusion_matrix"
   ]
  },
  {
   "cell_type": "code",
   "execution_count": 40,
   "id": "2617a424-e450-4462-b127-5fdc0dedddb5",
   "metadata": {},
   "outputs": [
    {
     "data": {
      "text/plain": [
       "array([[807,  42],\n",
       "       [ 57, 475]], dtype=int64)"
      ]
     },
     "execution_count": 40,
     "metadata": {},
     "output_type": "execute_result"
    }
   ],
   "source": [
    "confusion_matrix(y_test, pred)"
   ]
  },
  {
   "cell_type": "code",
   "execution_count": 41,
   "id": "19fbd472-e357-4c0a-af9c-2da68de6845b",
   "metadata": {},
   "outputs": [],
   "source": [
    "from sklearn.metrics import classification_report"
   ]
  },
  {
   "cell_type": "code",
   "execution_count": 42,
   "id": "63596075-3b98-4a00-9fc2-727bb4d4aebe",
   "metadata": {},
   "outputs": [
    {
     "name": "stdout",
     "output_type": "stream",
     "text": [
      "              precision    recall  f1-score   support\n",
      "\n",
      "           0       0.93      0.95      0.94       849\n",
      "           1       0.92      0.89      0.91       532\n",
      "\n",
      "    accuracy                           0.93      1381\n",
      "   macro avg       0.93      0.92      0.92      1381\n",
      "weighted avg       0.93      0.93      0.93      1381\n",
      "\n"
     ]
    }
   ],
   "source": [
    "print(classification_report(y_test, pred))"
   ]
  },
  {
   "cell_type": "code",
   "execution_count": 45,
   "id": "aeaca185-9911-44e8-8cbe-e540b5fdd80c",
   "metadata": {},
   "outputs": [
    {
     "name": "stdout",
     "output_type": "stream",
     "text": [
      "              precision    recall  f1-score   support\n",
      "\n",
      "           0       0.93      0.96      0.94       849\n",
      "           1       0.93      0.89      0.91       532\n",
      "\n",
      "    accuracy                           0.93      1381\n",
      "   macro avg       0.93      0.92      0.93      1381\n",
      "weighted avg       0.93      0.93      0.93      1381\n",
      "\n"
     ]
    }
   ],
   "source": [
    "model = SVC(C=1000, kernel = \"linear\")\n",
    "model.fit(X_train,y_train)\n",
    "pred = model.predict(X_test)\n",
    "print(classification_report(y_test, pred))"
   ]
  },
  {
   "cell_type": "code",
   "execution_count": 46,
   "id": "806980e0-cf02-42d3-879c-b3ff0a8e55f4",
   "metadata": {},
   "outputs": [],
   "source": [
    "# specify range of parameters (C) as a list\n",
    "params = {\"C\": [0.1, 1, 10, 100, 1000]}\n",
    "\n",
    "model = SVC(kernel = 'linear')\n",
    "\n",
    "# set up grid search scheme\n",
    "# note that we are still using the 5 fold CV scheme we set up earlier\n",
    "model_cv = GridSearchCV(estimator = model, param_grid = params, \n",
    "                        scoring= 'accuracy', \n",
    "                        cv = folds, \n",
    "                        verbose = 1,\n",
    "                       return_train_score=True)     "
   ]
  },
  {
   "cell_type": "code",
   "execution_count": 47,
   "id": "9d105483-4f62-4dde-9dc0-2cd8b1880f6c",
   "metadata": {},
   "outputs": [
    {
     "name": "stdout",
     "output_type": "stream",
     "text": [
      "Fitting 5 folds for each of 5 candidates, totalling 25 fits\n"
     ]
    },
    {
     "data": {
      "text/plain": [
       "GridSearchCV(cv=KFold(n_splits=5, random_state=4, shuffle=True),\n",
       "             estimator=SVC(kernel='linear'),\n",
       "             param_grid={'C': [0.1, 1, 10, 100, 1000]}, return_train_score=True,\n",
       "             scoring='accuracy', verbose=1)"
      ]
     },
     "execution_count": 47,
     "metadata": {},
     "output_type": "execute_result"
    }
   ],
   "source": [
    "model_cv.fit(X_train, y_train)  "
   ]
  },
  {
   "cell_type": "code",
   "execution_count": 48,
   "id": "54e99b39-bc02-407e-88ed-59338572626f",
   "metadata": {},
   "outputs": [
    {
     "data": {
      "text/html": [
       "<div>\n",
       "<style scoped>\n",
       "    .dataframe tbody tr th:only-of-type {\n",
       "        vertical-align: middle;\n",
       "    }\n",
       "\n",
       "    .dataframe tbody tr th {\n",
       "        vertical-align: top;\n",
       "    }\n",
       "\n",
       "    .dataframe thead th {\n",
       "        text-align: right;\n",
       "    }\n",
       "</style>\n",
       "<table border=\"1\" class=\"dataframe\">\n",
       "  <thead>\n",
       "    <tr style=\"text-align: right;\">\n",
       "      <th></th>\n",
       "      <th>mean_fit_time</th>\n",
       "      <th>std_fit_time</th>\n",
       "      <th>mean_score_time</th>\n",
       "      <th>std_score_time</th>\n",
       "      <th>param_C</th>\n",
       "      <th>params</th>\n",
       "      <th>split0_test_score</th>\n",
       "      <th>split1_test_score</th>\n",
       "      <th>split2_test_score</th>\n",
       "      <th>split3_test_score</th>\n",
       "      <th>...</th>\n",
       "      <th>mean_test_score</th>\n",
       "      <th>std_test_score</th>\n",
       "      <th>rank_test_score</th>\n",
       "      <th>split0_train_score</th>\n",
       "      <th>split1_train_score</th>\n",
       "      <th>split2_train_score</th>\n",
       "      <th>split3_train_score</th>\n",
       "      <th>split4_train_score</th>\n",
       "      <th>mean_train_score</th>\n",
       "      <th>std_train_score</th>\n",
       "    </tr>\n",
       "  </thead>\n",
       "  <tbody>\n",
       "    <tr>\n",
       "      <th>0</th>\n",
       "      <td>0.088447</td>\n",
       "      <td>0.004252</td>\n",
       "      <td>0.011871</td>\n",
       "      <td>0.000896</td>\n",
       "      <td>0.1</td>\n",
       "      <td>{'C': 0.1}</td>\n",
       "      <td>0.916149</td>\n",
       "      <td>0.933230</td>\n",
       "      <td>0.917702</td>\n",
       "      <td>0.930124</td>\n",
       "      <td>...</td>\n",
       "      <td>0.927329</td>\n",
       "      <td>0.009022</td>\n",
       "      <td>5</td>\n",
       "      <td>0.936335</td>\n",
       "      <td>0.933618</td>\n",
       "      <td>0.935171</td>\n",
       "      <td>0.937888</td>\n",
       "      <td>0.930124</td>\n",
       "      <td>0.934627</td>\n",
       "      <td>0.002651</td>\n",
       "    </tr>\n",
       "    <tr>\n",
       "      <th>1</th>\n",
       "      <td>0.184912</td>\n",
       "      <td>0.008889</td>\n",
       "      <td>0.010327</td>\n",
       "      <td>0.000731</td>\n",
       "      <td>1</td>\n",
       "      <td>{'C': 1}</td>\n",
       "      <td>0.923913</td>\n",
       "      <td>0.931677</td>\n",
       "      <td>0.927019</td>\n",
       "      <td>0.931677</td>\n",
       "      <td>...</td>\n",
       "      <td>0.930435</td>\n",
       "      <td>0.004751</td>\n",
       "      <td>4</td>\n",
       "      <td>0.941382</td>\n",
       "      <td>0.935559</td>\n",
       "      <td>0.939441</td>\n",
       "      <td>0.938276</td>\n",
       "      <td>0.936335</td>\n",
       "      <td>0.938199</td>\n",
       "      <td>0.002103</td>\n",
       "    </tr>\n",
       "    <tr>\n",
       "      <th>2</th>\n",
       "      <td>0.996502</td>\n",
       "      <td>0.232544</td>\n",
       "      <td>0.009835</td>\n",
       "      <td>0.000518</td>\n",
       "      <td>10</td>\n",
       "      <td>{'C': 10}</td>\n",
       "      <td>0.923913</td>\n",
       "      <td>0.933230</td>\n",
       "      <td>0.928571</td>\n",
       "      <td>0.934783</td>\n",
       "      <td>...</td>\n",
       "      <td>0.931366</td>\n",
       "      <td>0.004543</td>\n",
       "      <td>2</td>\n",
       "      <td>0.942935</td>\n",
       "      <td>0.935559</td>\n",
       "      <td>0.940217</td>\n",
       "      <td>0.939829</td>\n",
       "      <td>0.937888</td>\n",
       "      <td>0.939286</td>\n",
       "      <td>0.002463</td>\n",
       "    </tr>\n",
       "    <tr>\n",
       "      <th>3</th>\n",
       "      <td>8.687446</td>\n",
       "      <td>2.098421</td>\n",
       "      <td>0.010021</td>\n",
       "      <td>0.000709</td>\n",
       "      <td>100</td>\n",
       "      <td>{'C': 100}</td>\n",
       "      <td>0.922360</td>\n",
       "      <td>0.936335</td>\n",
       "      <td>0.927019</td>\n",
       "      <td>0.937888</td>\n",
       "      <td>...</td>\n",
       "      <td>0.931988</td>\n",
       "      <td>0.006164</td>\n",
       "      <td>1</td>\n",
       "      <td>0.942935</td>\n",
       "      <td>0.937112</td>\n",
       "      <td>0.941382</td>\n",
       "      <td>0.939441</td>\n",
       "      <td>0.938665</td>\n",
       "      <td>0.939907</td>\n",
       "      <td>0.002045</td>\n",
       "    </tr>\n",
       "    <tr>\n",
       "      <th>4</th>\n",
       "      <td>82.445584</td>\n",
       "      <td>28.000518</td>\n",
       "      <td>0.009304</td>\n",
       "      <td>0.000412</td>\n",
       "      <td>1000</td>\n",
       "      <td>{'C': 1000}</td>\n",
       "      <td>0.922360</td>\n",
       "      <td>0.933230</td>\n",
       "      <td>0.928571</td>\n",
       "      <td>0.936335</td>\n",
       "      <td>...</td>\n",
       "      <td>0.931056</td>\n",
       "      <td>0.005065</td>\n",
       "      <td>3</td>\n",
       "      <td>0.944099</td>\n",
       "      <td>0.935947</td>\n",
       "      <td>0.940217</td>\n",
       "      <td>0.939829</td>\n",
       "      <td>0.938276</td>\n",
       "      <td>0.939674</td>\n",
       "      <td>0.002674</td>\n",
       "    </tr>\n",
       "  </tbody>\n",
       "</table>\n",
       "<p>5 rows × 21 columns</p>\n",
       "</div>"
      ],
      "text/plain": [
       "   mean_fit_time  std_fit_time  mean_score_time  std_score_time param_C  \\\n",
       "0       0.088447      0.004252         0.011871        0.000896     0.1   \n",
       "1       0.184912      0.008889         0.010327        0.000731       1   \n",
       "2       0.996502      0.232544         0.009835        0.000518      10   \n",
       "3       8.687446      2.098421         0.010021        0.000709     100   \n",
       "4      82.445584     28.000518         0.009304        0.000412    1000   \n",
       "\n",
       "        params  split0_test_score  split1_test_score  split2_test_score  \\\n",
       "0   {'C': 0.1}           0.916149           0.933230           0.917702   \n",
       "1     {'C': 1}           0.923913           0.931677           0.927019   \n",
       "2    {'C': 10}           0.923913           0.933230           0.928571   \n",
       "3   {'C': 100}           0.922360           0.936335           0.927019   \n",
       "4  {'C': 1000}           0.922360           0.933230           0.928571   \n",
       "\n",
       "   split3_test_score  ...  mean_test_score  std_test_score  rank_test_score  \\\n",
       "0           0.930124  ...         0.927329        0.009022                5   \n",
       "1           0.931677  ...         0.930435        0.004751                4   \n",
       "2           0.934783  ...         0.931366        0.004543                2   \n",
       "3           0.937888  ...         0.931988        0.006164                1   \n",
       "4           0.936335  ...         0.931056        0.005065                3   \n",
       "\n",
       "   split0_train_score  split1_train_score  split2_train_score  \\\n",
       "0            0.936335            0.933618            0.935171   \n",
       "1            0.941382            0.935559            0.939441   \n",
       "2            0.942935            0.935559            0.940217   \n",
       "3            0.942935            0.937112            0.941382   \n",
       "4            0.944099            0.935947            0.940217   \n",
       "\n",
       "   split3_train_score  split4_train_score  mean_train_score  std_train_score  \n",
       "0            0.937888            0.930124          0.934627         0.002651  \n",
       "1            0.938276            0.936335          0.938199         0.002103  \n",
       "2            0.939829            0.937888          0.939286         0.002463  \n",
       "3            0.939441            0.938665          0.939907         0.002045  \n",
       "4            0.939829            0.938276          0.939674         0.002674  \n",
       "\n",
       "[5 rows x 21 columns]"
      ]
     },
     "execution_count": 48,
     "metadata": {},
     "output_type": "execute_result"
    }
   ],
   "source": [
    "# results of grid search CV\n",
    "cv_results = pd.DataFrame(model_cv.cv_results_)\n",
    "cv_results"
   ]
  },
  {
   "cell_type": "code",
   "execution_count": 53,
   "id": "6252fd7b-2944-49c6-903b-0aae740f45b9",
   "metadata": {},
   "outputs": [
    {
     "name": "stdout",
     "output_type": "stream",
     "text": [
      "              precision    recall  f1-score   support\n",
      "\n",
      "           0       0.92      0.95      0.93       849\n",
      "           1       0.91      0.86      0.88       532\n",
      "\n",
      "    accuracy                           0.91      1381\n",
      "   macro avg       0.91      0.90      0.91      1381\n",
      "weighted avg       0.91      0.91      0.91      1381\n",
      "\n"
     ]
    }
   ],
   "source": [
    "model = SVC(C=1000, kernel = \"poly\")\n",
    "model.fit(X_train,y_train)\n",
    "pred = model.predict(X_test)\n",
    "print(classification_report(y_test, pred))"
   ]
  },
  {
   "cell_type": "code",
   "execution_count": 54,
   "id": "e85c4511-10d5-4271-bc81-f71f83f14a89",
   "metadata": {},
   "outputs": [],
   "source": [
    "# specify range of parameters (C) as a list\n",
    "params = {\"C\": [0.1, 1, 10, 100, 1000]}\n",
    "\n",
    "model = SVC(kernel = 'poly')\n",
    "\n",
    "# set up grid search scheme\n",
    "# note that we are still using the 5 fold CV scheme we set up earlier\n",
    "model_cv = GridSearchCV(estimator = model, param_grid = params, \n",
    "                        scoring= 'accuracy', \n",
    "                        cv = folds, \n",
    "                        verbose = 1,\n",
    "                       return_train_score=True) "
   ]
  },
  {
   "cell_type": "code",
   "execution_count": 55,
   "id": "b51b55c3-39c7-4169-b7f2-a76bba14b33d",
   "metadata": {},
   "outputs": [
    {
     "name": "stdout",
     "output_type": "stream",
     "text": [
      "Fitting 5 folds for each of 5 candidates, totalling 25 fits\n"
     ]
    },
    {
     "data": {
      "text/plain": [
       "GridSearchCV(cv=KFold(n_splits=5, random_state=4, shuffle=True),\n",
       "             estimator=SVC(kernel='poly'),\n",
       "             param_grid={'C': [0.1, 1, 10, 100, 1000]}, return_train_score=True,\n",
       "             scoring='accuracy', verbose=1)"
      ]
     },
     "execution_count": 55,
     "metadata": {},
     "output_type": "execute_result"
    }
   ],
   "source": [
    "model_cv.fit(X_train, y_train) "
   ]
  },
  {
   "cell_type": "code",
   "execution_count": 56,
   "id": "f5bb86b8-8455-40e8-8783-9c2e0be6c6bd",
   "metadata": {},
   "outputs": [
    {
     "data": {
      "text/html": [
       "<div>\n",
       "<style scoped>\n",
       "    .dataframe tbody tr th:only-of-type {\n",
       "        vertical-align: middle;\n",
       "    }\n",
       "\n",
       "    .dataframe tbody tr th {\n",
       "        vertical-align: top;\n",
       "    }\n",
       "\n",
       "    .dataframe thead th {\n",
       "        text-align: right;\n",
       "    }\n",
       "</style>\n",
       "<table border=\"1\" class=\"dataframe\">\n",
       "  <thead>\n",
       "    <tr style=\"text-align: right;\">\n",
       "      <th></th>\n",
       "      <th>mean_fit_time</th>\n",
       "      <th>std_fit_time</th>\n",
       "      <th>mean_score_time</th>\n",
       "      <th>std_score_time</th>\n",
       "      <th>param_C</th>\n",
       "      <th>params</th>\n",
       "      <th>split0_test_score</th>\n",
       "      <th>split1_test_score</th>\n",
       "      <th>split2_test_score</th>\n",
       "      <th>split3_test_score</th>\n",
       "      <th>...</th>\n",
       "      <th>mean_test_score</th>\n",
       "      <th>std_test_score</th>\n",
       "      <th>rank_test_score</th>\n",
       "      <th>split0_train_score</th>\n",
       "      <th>split1_train_score</th>\n",
       "      <th>split2_train_score</th>\n",
       "      <th>split3_train_score</th>\n",
       "      <th>split4_train_score</th>\n",
       "      <th>mean_train_score</th>\n",
       "      <th>std_train_score</th>\n",
       "    </tr>\n",
       "  </thead>\n",
       "  <tbody>\n",
       "    <tr>\n",
       "      <th>0</th>\n",
       "      <td>0.222627</td>\n",
       "      <td>0.010990</td>\n",
       "      <td>0.041303</td>\n",
       "      <td>0.000836</td>\n",
       "      <td>0.1</td>\n",
       "      <td>{'C': 0.1}</td>\n",
       "      <td>0.667702</td>\n",
       "      <td>0.690994</td>\n",
       "      <td>0.683230</td>\n",
       "      <td>0.675466</td>\n",
       "      <td>...</td>\n",
       "      <td>0.682919</td>\n",
       "      <td>0.010550</td>\n",
       "      <td>5</td>\n",
       "      <td>0.697981</td>\n",
       "      <td>0.691770</td>\n",
       "      <td>0.688276</td>\n",
       "      <td>0.694488</td>\n",
       "      <td>0.693323</td>\n",
       "      <td>0.693168</td>\n",
       "      <td>0.003188</td>\n",
       "    </tr>\n",
       "    <tr>\n",
       "      <th>1</th>\n",
       "      <td>0.195046</td>\n",
       "      <td>0.005001</td>\n",
       "      <td>0.034526</td>\n",
       "      <td>0.001783</td>\n",
       "      <td>1</td>\n",
       "      <td>{'C': 1}</td>\n",
       "      <td>0.740683</td>\n",
       "      <td>0.784161</td>\n",
       "      <td>0.756211</td>\n",
       "      <td>0.734472</td>\n",
       "      <td>...</td>\n",
       "      <td>0.757764</td>\n",
       "      <td>0.018839</td>\n",
       "      <td>4</td>\n",
       "      <td>0.782220</td>\n",
       "      <td>0.778339</td>\n",
       "      <td>0.772904</td>\n",
       "      <td>0.787267</td>\n",
       "      <td>0.781444</td>\n",
       "      <td>0.780435</td>\n",
       "      <td>0.004733</td>\n",
       "    </tr>\n",
       "    <tr>\n",
       "      <th>2</th>\n",
       "      <td>0.169818</td>\n",
       "      <td>0.006572</td>\n",
       "      <td>0.025274</td>\n",
       "      <td>0.001093</td>\n",
       "      <td>10</td>\n",
       "      <td>{'C': 10}</td>\n",
       "      <td>0.827640</td>\n",
       "      <td>0.871118</td>\n",
       "      <td>0.854037</td>\n",
       "      <td>0.822981</td>\n",
       "      <td>...</td>\n",
       "      <td>0.849068</td>\n",
       "      <td>0.020351</td>\n",
       "      <td>3</td>\n",
       "      <td>0.895963</td>\n",
       "      <td>0.892081</td>\n",
       "      <td>0.885870</td>\n",
       "      <td>0.889363</td>\n",
       "      <td>0.893245</td>\n",
       "      <td>0.891304</td>\n",
       "      <td>0.003446</td>\n",
       "    </tr>\n",
       "    <tr>\n",
       "      <th>3</th>\n",
       "      <td>0.140436</td>\n",
       "      <td>0.012864</td>\n",
       "      <td>0.018232</td>\n",
       "      <td>0.001212</td>\n",
       "      <td>100</td>\n",
       "      <td>{'C': 100}</td>\n",
       "      <td>0.902174</td>\n",
       "      <td>0.914596</td>\n",
       "      <td>0.923913</td>\n",
       "      <td>0.905280</td>\n",
       "      <td>...</td>\n",
       "      <td>0.914286</td>\n",
       "      <td>0.009440</td>\n",
       "      <td>2</td>\n",
       "      <td>0.967780</td>\n",
       "      <td>0.964286</td>\n",
       "      <td>0.964286</td>\n",
       "      <td>0.961568</td>\n",
       "      <td>0.967780</td>\n",
       "      <td>0.965140</td>\n",
       "      <td>0.002373</td>\n",
       "    </tr>\n",
       "    <tr>\n",
       "      <th>4</th>\n",
       "      <td>0.148610</td>\n",
       "      <td>0.011117</td>\n",
       "      <td>0.014143</td>\n",
       "      <td>0.001003</td>\n",
       "      <td>1000</td>\n",
       "      <td>{'C': 1000}</td>\n",
       "      <td>0.905280</td>\n",
       "      <td>0.920807</td>\n",
       "      <td>0.930124</td>\n",
       "      <td>0.925466</td>\n",
       "      <td>...</td>\n",
       "      <td>0.922981</td>\n",
       "      <td>0.009801</td>\n",
       "      <td>1</td>\n",
       "      <td>0.991071</td>\n",
       "      <td>0.988742</td>\n",
       "      <td>0.987966</td>\n",
       "      <td>0.986801</td>\n",
       "      <td>0.989519</td>\n",
       "      <td>0.988820</td>\n",
       "      <td>0.001440</td>\n",
       "    </tr>\n",
       "  </tbody>\n",
       "</table>\n",
       "<p>5 rows × 21 columns</p>\n",
       "</div>"
      ],
      "text/plain": [
       "   mean_fit_time  std_fit_time  mean_score_time  std_score_time param_C  \\\n",
       "0       0.222627      0.010990         0.041303        0.000836     0.1   \n",
       "1       0.195046      0.005001         0.034526        0.001783       1   \n",
       "2       0.169818      0.006572         0.025274        0.001093      10   \n",
       "3       0.140436      0.012864         0.018232        0.001212     100   \n",
       "4       0.148610      0.011117         0.014143        0.001003    1000   \n",
       "\n",
       "        params  split0_test_score  split1_test_score  split2_test_score  \\\n",
       "0   {'C': 0.1}           0.667702           0.690994           0.683230   \n",
       "1     {'C': 1}           0.740683           0.784161           0.756211   \n",
       "2    {'C': 10}           0.827640           0.871118           0.854037   \n",
       "3   {'C': 100}           0.902174           0.914596           0.923913   \n",
       "4  {'C': 1000}           0.905280           0.920807           0.930124   \n",
       "\n",
       "   split3_test_score  ...  mean_test_score  std_test_score  rank_test_score  \\\n",
       "0           0.675466  ...         0.682919        0.010550                5   \n",
       "1           0.734472  ...         0.757764        0.018839                4   \n",
       "2           0.822981  ...         0.849068        0.020351                3   \n",
       "3           0.905280  ...         0.914286        0.009440                2   \n",
       "4           0.925466  ...         0.922981        0.009801                1   \n",
       "\n",
       "   split0_train_score  split1_train_score  split2_train_score  \\\n",
       "0            0.697981            0.691770            0.688276   \n",
       "1            0.782220            0.778339            0.772904   \n",
       "2            0.895963            0.892081            0.885870   \n",
       "3            0.967780            0.964286            0.964286   \n",
       "4            0.991071            0.988742            0.987966   \n",
       "\n",
       "   split3_train_score  split4_train_score  mean_train_score  std_train_score  \n",
       "0            0.694488            0.693323          0.693168         0.003188  \n",
       "1            0.787267            0.781444          0.780435         0.004733  \n",
       "2            0.889363            0.893245          0.891304         0.003446  \n",
       "3            0.961568            0.967780          0.965140         0.002373  \n",
       "4            0.986801            0.989519          0.988820         0.001440  \n",
       "\n",
       "[5 rows x 21 columns]"
      ]
     },
     "execution_count": 56,
     "metadata": {},
     "output_type": "execute_result"
    }
   ],
   "source": [
    "# results of grid search CV\n",
    "cv_results = pd.DataFrame(model_cv.cv_results_)\n",
    "cv_results"
   ]
  },
  {
   "cell_type": "code",
   "execution_count": 57,
   "id": "0cf839a5-41f0-4100-99b3-a520c75414bc",
   "metadata": {},
   "outputs": [
    {
     "data": {
      "image/png": "[encoded data removed]",
      "text/plain": [
       "<Figure size 576x432 with 1 Axes>"
      ]
     },
     "metadata": {
      "needs_background": "light"
     },
     "output_type": "display_data"
    }
   ],
   "source": [
    "\n",
    "plt.figure(figsize=(8, 6))\n",
    "plt.plot(cv_results['param_C'], cv_results['mean_test_score'])\n",
    "plt.plot(cv_results['param_C'], cv_results['mean_train_score'])\n",
    "plt.xlabel('C')\n",
    "plt.ylabel('Accuracy')\n",
    "plt.legend(['test accuracy', 'train accuracy'], loc='upper left')\n",
    "plt.xscale('log')"
   ]
  },
  {
   "cell_type": "code",
   "execution_count": 58,
   "id": "56c9f277-19af-43ef-bfd9-b31e662b2b5c",
   "metadata": {},
   "outputs": [],
   "source": [
    "# specify range of parameters (C) as a list\n",
    "params = {\"C\": [0.1, 1, 10, 100, 1000]}\n",
    "\n",
    "model = SVC(kernel = 'rbf')\n",
    "\n",
    "# set up grid search scheme\n",
    "# note that we are still using the 5 fold CV scheme we set up earlier\n",
    "model_cv = GridSearchCV(estimator = model, param_grid = params, \n",
    "                        scoring= 'accuracy', \n",
    "                        cv = folds, \n",
    "                        verbose = 1,\n",
    "                       return_train_score=True) "
   ]
  },
  {
   "cell_type": "code",
   "execution_count": 59,
   "id": "6028406b-1c17-4875-8f20-84991c04b2d8",
   "metadata": {},
   "outputs": [
    {
     "name": "stdout",
     "output_type": "stream",
     "text": [
      "Fitting 5 folds for each of 5 candidates, totalling 25 fits\n"
     ]
    },
    {
     "data": {
      "text/plain": [
       "GridSearchCV(cv=KFold(n_splits=5, random_state=4, shuffle=True),\n",
       "             estimator=SVC(), param_grid={'C': [0.1, 1, 10, 100, 1000]},\n",
       "             return_train_score=True, scoring='accuracy', verbose=1)"
      ]
     },
     "execution_count": 59,
     "metadata": {},
     "output_type": "execute_result"
    }
   ],
   "source": [
    "model_cv.fit(X_train, y_train) "
   ]
  },
  {
   "cell_type": "code",
   "execution_count": 60,
   "id": "27e45023-2a86-4908-be50-64e3f08c758f",
   "metadata": {},
   "outputs": [
    {
     "data": {
      "text/html": [
       "<div>\n",
       "<style scoped>\n",
       "    .dataframe tbody tr th:only-of-type {\n",
       "        vertical-align: middle;\n",
       "    }\n",
       "\n",
       "    .dataframe tbody tr th {\n",
       "        vertical-align: top;\n",
       "    }\n",
       "\n",
       "    .dataframe thead th {\n",
       "        text-align: right;\n",
       "    }\n",
       "</style>\n",
       "<table border=\"1\" class=\"dataframe\">\n",
       "  <thead>\n",
       "    <tr style=\"text-align: right;\">\n",
       "      <th></th>\n",
       "      <th>mean_fit_time</th>\n",
       "      <th>std_fit_time</th>\n",
       "      <th>mean_score_time</th>\n",
       "      <th>std_score_time</th>\n",
       "      <th>param_C</th>\n",
       "      <th>params</th>\n",
       "      <th>split0_test_score</th>\n",
       "      <th>split1_test_score</th>\n",
       "      <th>split2_test_score</th>\n",
       "      <th>split3_test_score</th>\n",
       "      <th>...</th>\n",
       "      <th>mean_test_score</th>\n",
       "      <th>std_test_score</th>\n",
       "      <th>rank_test_score</th>\n",
       "      <th>split0_train_score</th>\n",
       "      <th>split1_train_score</th>\n",
       "      <th>split2_train_score</th>\n",
       "      <th>split3_train_score</th>\n",
       "      <th>split4_train_score</th>\n",
       "      <th>mean_train_score</th>\n",
       "      <th>std_train_score</th>\n",
       "    </tr>\n",
       "  </thead>\n",
       "  <tbody>\n",
       "    <tr>\n",
       "      <th>0</th>\n",
       "      <td>0.192877</td>\n",
       "      <td>0.005449</td>\n",
       "      <td>0.091176</td>\n",
       "      <td>0.001935</td>\n",
       "      <td>0.1</td>\n",
       "      <td>{'C': 0.1}</td>\n",
       "      <td>0.895963</td>\n",
       "      <td>0.902174</td>\n",
       "      <td>0.906832</td>\n",
       "      <td>0.902174</td>\n",
       "      <td>...</td>\n",
       "      <td>0.905280</td>\n",
       "      <td>0.007795</td>\n",
       "      <td>5</td>\n",
       "      <td>0.912655</td>\n",
       "      <td>0.911879</td>\n",
       "      <td>0.912267</td>\n",
       "      <td>0.911102</td>\n",
       "      <td>0.906056</td>\n",
       "      <td>0.910792</td>\n",
       "      <td>0.002423</td>\n",
       "    </tr>\n",
       "    <tr>\n",
       "      <th>1</th>\n",
       "      <td>0.130776</td>\n",
       "      <td>0.005344</td>\n",
       "      <td>0.053758</td>\n",
       "      <td>0.001244</td>\n",
       "      <td>1</td>\n",
       "      <td>{'C': 1}</td>\n",
       "      <td>0.917702</td>\n",
       "      <td>0.940994</td>\n",
       "      <td>0.920807</td>\n",
       "      <td>0.930124</td>\n",
       "      <td>...</td>\n",
       "      <td>0.929814</td>\n",
       "      <td>0.009440</td>\n",
       "      <td>2</td>\n",
       "      <td>0.951475</td>\n",
       "      <td>0.946040</td>\n",
       "      <td>0.949922</td>\n",
       "      <td>0.946040</td>\n",
       "      <td>0.945652</td>\n",
       "      <td>0.947826</td>\n",
       "      <td>0.002401</td>\n",
       "    </tr>\n",
       "    <tr>\n",
       "      <th>2</th>\n",
       "      <td>0.111423</td>\n",
       "      <td>0.006116</td>\n",
       "      <td>0.043468</td>\n",
       "      <td>0.001753</td>\n",
       "      <td>10</td>\n",
       "      <td>{'C': 10}</td>\n",
       "      <td>0.908385</td>\n",
       "      <td>0.944099</td>\n",
       "      <td>0.933230</td>\n",
       "      <td>0.928571</td>\n",
       "      <td>...</td>\n",
       "      <td>0.930745</td>\n",
       "      <td>0.012368</td>\n",
       "      <td>1</td>\n",
       "      <td>0.975543</td>\n",
       "      <td>0.970885</td>\n",
       "      <td>0.973991</td>\n",
       "      <td>0.968944</td>\n",
       "      <td>0.971273</td>\n",
       "      <td>0.972127</td>\n",
       "      <td>0.002347</td>\n",
       "    </tr>\n",
       "    <tr>\n",
       "      <th>3</th>\n",
       "      <td>0.134848</td>\n",
       "      <td>0.007179</td>\n",
       "      <td>0.039599</td>\n",
       "      <td>0.002341</td>\n",
       "      <td>100</td>\n",
       "      <td>{'C': 100}</td>\n",
       "      <td>0.913043</td>\n",
       "      <td>0.927019</td>\n",
       "      <td>0.936335</td>\n",
       "      <td>0.930124</td>\n",
       "      <td>...</td>\n",
       "      <td>0.928571</td>\n",
       "      <td>0.008562</td>\n",
       "      <td>3</td>\n",
       "      <td>0.989519</td>\n",
       "      <td>0.989907</td>\n",
       "      <td>0.989907</td>\n",
       "      <td>0.988354</td>\n",
       "      <td>0.987966</td>\n",
       "      <td>0.989130</td>\n",
       "      <td>0.000814</td>\n",
       "    </tr>\n",
       "    <tr>\n",
       "      <th>4</th>\n",
       "      <td>0.185980</td>\n",
       "      <td>0.026315</td>\n",
       "      <td>0.037048</td>\n",
       "      <td>0.003222</td>\n",
       "      <td>1000</td>\n",
       "      <td>{'C': 1000}</td>\n",
       "      <td>0.908385</td>\n",
       "      <td>0.931677</td>\n",
       "      <td>0.922360</td>\n",
       "      <td>0.919255</td>\n",
       "      <td>...</td>\n",
       "      <td>0.920497</td>\n",
       "      <td>0.007440</td>\n",
       "      <td>4</td>\n",
       "      <td>0.996118</td>\n",
       "      <td>0.993789</td>\n",
       "      <td>0.994177</td>\n",
       "      <td>0.993789</td>\n",
       "      <td>0.994177</td>\n",
       "      <td>0.994410</td>\n",
       "      <td>0.000872</td>\n",
       "    </tr>\n",
       "  </tbody>\n",
       "</table>\n",
       "<p>5 rows × 21 columns</p>\n",
       "</div>"
      ],
      "text/plain": [
       "   mean_fit_time  std_fit_time  mean_score_time  std_score_time param_C  \\\n",
       "0       0.192877      0.005449         0.091176        0.001935     0.1   \n",
       "1       0.130776      0.005344         0.053758        0.001244       1   \n",
       "2       0.111423      0.006116         0.043468        0.001753      10   \n",
       "3       0.134848      0.007179         0.039599        0.002341     100   \n",
       "4       0.185980      0.026315         0.037048        0.003222    1000   \n",
       "\n",
       "        params  split0_test_score  split1_test_score  split2_test_score  \\\n",
       "0   {'C': 0.1}           0.895963           0.902174           0.906832   \n",
       "1     {'C': 1}           0.917702           0.940994           0.920807   \n",
       "2    {'C': 10}           0.908385           0.944099           0.933230   \n",
       "3   {'C': 100}           0.913043           0.927019           0.936335   \n",
       "4  {'C': 1000}           0.908385           0.931677           0.922360   \n",
       "\n",
       "   split3_test_score  ...  mean_test_score  std_test_score  rank_test_score  \\\n",
       "0           0.902174  ...         0.905280        0.007795                5   \n",
       "1           0.930124  ...         0.929814        0.009440                2   \n",
       "2           0.928571  ...         0.930745        0.012368                1   \n",
       "3           0.930124  ...         0.928571        0.008562                3   \n",
       "4           0.919255  ...         0.920497        0.007440                4   \n",
       "\n",
       "   split0_train_score  split1_train_score  split2_train_score  \\\n",
       "0            0.912655            0.911879            0.912267   \n",
       "1            0.951475            0.946040            0.949922   \n",
       "2            0.975543            0.970885            0.973991   \n",
       "3            0.989519            0.989907            0.989907   \n",
       "4            0.996118            0.993789            0.994177   \n",
       "\n",
       "   split3_train_score  split4_train_score  mean_train_score  std_train_score  \n",
       "0            0.911102            0.906056          0.910792         0.002423  \n",
       "1            0.946040            0.945652          0.947826         0.002401  \n",
       "2            0.968944            0.971273          0.972127         0.002347  \n",
       "3            0.988354            0.987966          0.989130         0.000814  \n",
       "4            0.993789            0.994177          0.994410         0.000872  \n",
       "\n",
       "[5 rows x 21 columns]"
      ]
     },
     "execution_count": 60,
     "metadata": {},
     "output_type": "execute_result"
    }
   ],
   "source": [
    "# results of grid search CV\n",
    "cv_results = pd.DataFrame(model_cv.cv_results_)\n",
    "cv_results"
   ]
  },
  {
   "cell_type": "code",
   "execution_count": 61,
   "id": "ed5f15ae-b92c-4876-bcfd-96e26b74cbdc",
   "metadata": {},
   "outputs": [
    {
     "data": {
      "image/png": "[encoded data removed]",
      "text/plain": [
       "<Figure size 576x432 with 1 Axes>"
      ]
     },
     "metadata": {
      "needs_background": "light"
     },
     "output_type": "display_data"
    }
   ],
   "source": [
    "\n",
    "plt.figure(figsize=(8, 6))\n",
    "plt.plot(cv_results['param_C'], cv_results['mean_test_score'])\n",
    "plt.plot(cv_results['param_C'], cv_results['mean_train_score'])\n",
    "plt.xlabel('C')\n",
    "plt.ylabel('Accuracy')\n",
    "plt.legend(['test accuracy', 'train accuracy'], loc='upper left')\n",
    "plt.xscale('log')"
   ]
  },
  {
   "cell_type": "code",
   "execution_count": 62,
   "id": "9f0f53af-e340-473d-9a81-dedbda567b16",
   "metadata": {},
   "outputs": [],
   "source": [
    "# specify range of parameters (C) as a list\n",
    "params = {\"gamma\": [0.01, 0.1, 1, 10, 100]}\n",
    "\n",
    "model = SVC(C = 1, kernel = 'rbf')\n",
    "\n",
    "# set up grid search scheme\n",
    "# note that we are still using the 5 fold CV scheme we set up earlier\n",
    "model_cv = GridSearchCV(estimator = model, param_grid = params, \n",
    "                        scoring= 'accuracy', \n",
    "                        cv = folds, \n",
    "                        verbose = 1,\n",
    "                       return_train_score=True) "
   ]
  },
  {
   "cell_type": "code",
   "execution_count": 63,
   "id": "52476b89-3650-478d-9e70-7e9645d258c4",
   "metadata": {},
   "outputs": [
    {
     "name": "stdout",
     "output_type": "stream",
     "text": [
      "Fitting 5 folds for each of 5 candidates, totalling 25 fits\n"
     ]
    },
    {
     "data": {
      "text/plain": [
       "GridSearchCV(cv=KFold(n_splits=5, random_state=4, shuffle=True),\n",
       "             estimator=SVC(C=1), param_grid={'gamma': [0.01, 0.1, 1, 10, 100]},\n",
       "             return_train_score=True, scoring='accuracy', verbose=1)"
      ]
     },
     "execution_count": 63,
     "metadata": {},
     "output_type": "execute_result"
    }
   ],
   "source": [
    "model_cv.fit(X_train, y_train) "
   ]
  },
  {
   "cell_type": "code",
   "execution_count": 64,
   "id": "768e4ee9-8d40-4055-ac91-e2b203683c7c",
   "metadata": {},
   "outputs": [
    {
     "data": {
      "text/html": [
       "<div>\n",
       "<style scoped>\n",
       "    .dataframe tbody tr th:only-of-type {\n",
       "        vertical-align: middle;\n",
       "    }\n",
       "\n",
       "    .dataframe tbody tr th {\n",
       "        vertical-align: top;\n",
       "    }\n",
       "\n",
       "    .dataframe thead th {\n",
       "        text-align: right;\n",
       "    }\n",
       "</style>\n",
       "<table border=\"1\" class=\"dataframe\">\n",
       "  <thead>\n",
       "    <tr style=\"text-align: right;\">\n",
       "      <th></th>\n",
       "      <th>mean_fit_time</th>\n",
       "      <th>std_fit_time</th>\n",
       "      <th>mean_score_time</th>\n",
       "      <th>std_score_time</th>\n",
       "      <th>param_gamma</th>\n",
       "      <th>params</th>\n",
       "      <th>split0_test_score</th>\n",
       "      <th>split1_test_score</th>\n",
       "      <th>split2_test_score</th>\n",
       "      <th>split3_test_score</th>\n",
       "      <th>...</th>\n",
       "      <th>mean_test_score</th>\n",
       "      <th>std_test_score</th>\n",
       "      <th>rank_test_score</th>\n",
       "      <th>split0_train_score</th>\n",
       "      <th>split1_train_score</th>\n",
       "      <th>split2_train_score</th>\n",
       "      <th>split3_train_score</th>\n",
       "      <th>split4_train_score</th>\n",
       "      <th>mean_train_score</th>\n",
       "      <th>std_train_score</th>\n",
       "    </tr>\n",
       "  </thead>\n",
       "  <tbody>\n",
       "    <tr>\n",
       "      <th>0</th>\n",
       "      <td>0.120890</td>\n",
       "      <td>0.004511</td>\n",
       "      <td>0.052205</td>\n",
       "      <td>0.001257</td>\n",
       "      <td>0.01</td>\n",
       "      <td>{'gamma': 0.01}</td>\n",
       "      <td>0.917702</td>\n",
       "      <td>0.939441</td>\n",
       "      <td>0.922360</td>\n",
       "      <td>0.931677</td>\n",
       "      <td>...</td>\n",
       "      <td>0.929814</td>\n",
       "      <td>0.008528</td>\n",
       "      <td>1</td>\n",
       "      <td>0.943323</td>\n",
       "      <td>0.940994</td>\n",
       "      <td>0.945264</td>\n",
       "      <td>0.937112</td>\n",
       "      <td>0.939829</td>\n",
       "      <td>0.941304</td>\n",
       "      <td>0.002814</td>\n",
       "    </tr>\n",
       "    <tr>\n",
       "      <th>1</th>\n",
       "      <td>0.227079</td>\n",
       "      <td>0.003189</td>\n",
       "      <td>0.093112</td>\n",
       "      <td>0.001264</td>\n",
       "      <td>0.1</td>\n",
       "      <td>{'gamma': 0.1}</td>\n",
       "      <td>0.888199</td>\n",
       "      <td>0.895963</td>\n",
       "      <td>0.889752</td>\n",
       "      <td>0.911491</td>\n",
       "      <td>...</td>\n",
       "      <td>0.900621</td>\n",
       "      <td>0.011866</td>\n",
       "      <td>2</td>\n",
       "      <td>0.977873</td>\n",
       "      <td>0.973602</td>\n",
       "      <td>0.975543</td>\n",
       "      <td>0.974767</td>\n",
       "      <td>0.973214</td>\n",
       "      <td>0.975000</td>\n",
       "      <td>0.001658</td>\n",
       "    </tr>\n",
       "    <tr>\n",
       "      <th>2</th>\n",
       "      <td>0.393130</td>\n",
       "      <td>0.009283</td>\n",
       "      <td>0.154095</td>\n",
       "      <td>0.000617</td>\n",
       "      <td>1</td>\n",
       "      <td>{'gamma': 1}</td>\n",
       "      <td>0.770186</td>\n",
       "      <td>0.776398</td>\n",
       "      <td>0.785714</td>\n",
       "      <td>0.784161</td>\n",
       "      <td>...</td>\n",
       "      <td>0.780435</td>\n",
       "      <td>0.006180</td>\n",
       "      <td>3</td>\n",
       "      <td>0.996506</td>\n",
       "      <td>0.994177</td>\n",
       "      <td>0.994177</td>\n",
       "      <td>0.994565</td>\n",
       "      <td>0.994177</td>\n",
       "      <td>0.994720</td>\n",
       "      <td>0.000905</td>\n",
       "    </tr>\n",
       "    <tr>\n",
       "      <th>3</th>\n",
       "      <td>0.516269</td>\n",
       "      <td>0.013208</td>\n",
       "      <td>0.222316</td>\n",
       "      <td>0.038424</td>\n",
       "      <td>10</td>\n",
       "      <td>{'gamma': 10}</td>\n",
       "      <td>0.728261</td>\n",
       "      <td>0.734472</td>\n",
       "      <td>0.739130</td>\n",
       "      <td>0.728261</td>\n",
       "      <td>...</td>\n",
       "      <td>0.733540</td>\n",
       "      <td>0.004564</td>\n",
       "      <td>4</td>\n",
       "      <td>0.998835</td>\n",
       "      <td>0.996894</td>\n",
       "      <td>0.998059</td>\n",
       "      <td>0.997671</td>\n",
       "      <td>0.997671</td>\n",
       "      <td>0.997826</td>\n",
       "      <td>0.000631</td>\n",
       "    </tr>\n",
       "    <tr>\n",
       "      <th>4</th>\n",
       "      <td>0.571748</td>\n",
       "      <td>0.008973</td>\n",
       "      <td>0.219110</td>\n",
       "      <td>0.001185</td>\n",
       "      <td>100</td>\n",
       "      <td>{'gamma': 100}</td>\n",
       "      <td>0.704969</td>\n",
       "      <td>0.708075</td>\n",
       "      <td>0.712733</td>\n",
       "      <td>0.706522</td>\n",
       "      <td>...</td>\n",
       "      <td>0.709006</td>\n",
       "      <td>0.003197</td>\n",
       "      <td>5</td>\n",
       "      <td>0.999224</td>\n",
       "      <td>0.998059</td>\n",
       "      <td>0.998835</td>\n",
       "      <td>0.998059</td>\n",
       "      <td>0.998447</td>\n",
       "      <td>0.998525</td>\n",
       "      <td>0.000453</td>\n",
       "    </tr>\n",
       "  </tbody>\n",
       "</table>\n",
       "<p>5 rows × 21 columns</p>\n",
       "</div>"
      ],
      "text/plain": [
       "   mean_fit_time  std_fit_time  mean_score_time  std_score_time param_gamma  \\\n",
       "0       0.120890      0.004511         0.052205        0.001257        0.01   \n",
       "1       0.227079      0.003189         0.093112        0.001264         0.1   \n",
       "2       0.393130      0.009283         0.154095        0.000617           1   \n",
       "3       0.516269      0.013208         0.222316        0.038424          10   \n",
       "4       0.571748      0.008973         0.219110        0.001185         100   \n",
       "\n",
       "            params  split0_test_score  split1_test_score  split2_test_score  \\\n",
       "0  {'gamma': 0.01}           0.917702           0.939441           0.922360   \n",
       "1   {'gamma': 0.1}           0.888199           0.895963           0.889752   \n",
       "2     {'gamma': 1}           0.770186           0.776398           0.785714   \n",
       "3    {'gamma': 10}           0.728261           0.734472           0.739130   \n",
       "4   {'gamma': 100}           0.704969           0.708075           0.712733   \n",
       "\n",
       "   split3_test_score  ...  mean_test_score  std_test_score  rank_test_score  \\\n",
       "0           0.931677  ...         0.929814        0.008528                1   \n",
       "1           0.911491  ...         0.900621        0.011866                2   \n",
       "2           0.784161  ...         0.780435        0.006180                3   \n",
       "3           0.728261  ...         0.733540        0.004564                4   \n",
       "4           0.706522  ...         0.709006        0.003197                5   \n",
       "\n",
       "   split0_train_score  split1_train_score  split2_train_score  \\\n",
       "0            0.943323            0.940994            0.945264   \n",
       "1            0.977873            0.973602            0.975543   \n",
       "2            0.996506            0.994177            0.994177   \n",
       "3            0.998835            0.996894            0.998059   \n",
       "4            0.999224            0.998059            0.998835   \n",
       "\n",
       "   split3_train_score  split4_train_score  mean_train_score  std_train_score  \n",
       "0            0.937112            0.939829          0.941304         0.002814  \n",
       "1            0.974767            0.973214          0.975000         0.001658  \n",
       "2            0.994565            0.994177          0.994720         0.000905  \n",
       "3            0.997671            0.997671          0.997826         0.000631  \n",
       "4            0.998059            0.998447          0.998525         0.000453  \n",
       "\n",
       "[5 rows x 21 columns]"
      ]
     },
     "execution_count": 64,
     "metadata": {},
     "output_type": "execute_result"
    }
   ],
   "source": [
    "# results of grid search CV\n",
    "cv_results = pd.DataFrame(model_cv.cv_results_)\n",
    "cv_results"
   ]
  },
  {
   "cell_type": "code",
   "execution_count": 66,
   "id": "6be228c6-7169-4a7b-9ce8-04767fbff117",
   "metadata": {},
   "outputs": [
    {
     "data": {
      "image/png": "[encoded data removed]",
      "text/plain": [
       "<Figure size 576x432 with 1 Axes>"
      ]
     },
     "metadata": {
      "needs_background": "light"
     },
     "output_type": "display_data"
    }
   ],
   "source": [
    "\n",
    "plt.figure(figsize=(8, 6))\n",
    "plt.plot(cv_results['param_gamma'], cv_results['mean_test_score'])\n",
    "plt.plot(cv_results['param_gamma'], cv_results['mean_train_score'])\n",
    "plt.xlabel('Gamma')\n",
    "plt.ylabel('Accuracy')\n",
    "plt.legend(['test accuracy', 'train accuracy'], loc='upper left')\n",
    "plt.xscale('log')"
   ]
  },
  {
   "cell_type": "code",
   "execution_count": 68,
   "id": "3f265535-d37c-4e1c-b6f3-478e5ae7d2b4",
   "metadata": {},
   "outputs": [],
   "source": [
    "# specify range of parameters (C) as a list\n",
    "params = {\"C\": [0.1, 1, 10, 100],\n",
    "    \"gamma\": [0.01, 0.1, 1],\n",
    "        \"kernel\" : ['linear', 'poly','rbf'] }\n",
    "\n",
    "model = SVC()\n",
    "\n",
    "# set up grid search scheme\n",
    "# note that we are still using the 5 fold CV scheme we set up earlier\n",
    "model_cv = GridSearchCV(estimator = model, param_grid = params, \n",
    "                        scoring= 'accuracy', \n",
    "                        cv = folds, \n",
    "                        verbose = 1,\n",
    "                       return_train_score=True) "
   ]
  },
  {
   "cell_type": "code",
   "execution_count": 69,
   "id": "96a4ae2f-cb50-43f6-b7dd-0fbcc9d87c1c",
   "metadata": {},
   "outputs": [
    {
     "name": "stdout",
     "output_type": "stream",
     "text": [
      "Fitting 5 folds for each of 36 candidates, totalling 180 fits\n"
     ]
    },
    {
     "data": {
      "text/plain": [
       "GridSearchCV(cv=KFold(n_splits=5, random_state=4, shuffle=True),\n",
       "             estimator=SVC(),\n",
       "             param_grid={'C': [0.1, 1, 10, 100], 'gamma': [0.01, 0.1, 1],\n",
       "                         'kernel': ['linear', 'poly', 'rbf']},\n",
       "             return_train_score=True, scoring='accuracy', verbose=1)"
      ]
     },
     "execution_count": 69,
     "metadata": {},
     "output_type": "execute_result"
    }
   ],
   "source": [
    "model_cv.fit(X_train, y_train)"
   ]
  },
  {
   "cell_type": "code",
   "execution_count": 70,
   "id": "8592fc93-31db-475d-b77e-c7cfdb5bb8cf",
   "metadata": {},
   "outputs": [
    {
     "data": {
      "text/plain": [
       "SVC(C=10, gamma=0.01)"
      ]
     },
     "execution_count": 70,
     "metadata": {},
     "output_type": "execute_result"
    }
   ],
   "source": [
    "model_cv.best_estimator_"
   ]
  },
  {
   "cell_type": "code",
   "execution_count": 71,
   "id": "3f2fab7c-4af7-4560-bdb0-2d69698faf9f",
   "metadata": {},
   "outputs": [
    {
     "data": {
      "text/plain": [
       "0.9332298136645963"
      ]
     },
     "execution_count": 71,
     "metadata": {},
     "output_type": "execute_result"
    }
   ],
   "source": [
    "model_cv.best_score_"
   ]
  },
  {
   "cell_type": "code",
   "execution_count": null,
   "id": "6f1628cf-8342-4ba3-8621-de96b3ed849e",
   "metadata": {},
   "outputs": [],
   "source": [
    "model_cv"
   ]
  },
  {
   "cell_type": "code",
   "execution_count": 72,
   "id": "72ff254e-afbb-40c3-98f7-c11f20cf0f00",
   "metadata": {},
   "outputs": [],
   "source": [
    "pred = model_cv.predict(X_test)"
   ]
  },
  {
   "cell_type": "code",
   "execution_count": 73,
   "id": "dee81094-faaa-473f-b3bd-8f93fa06133e",
   "metadata": {},
   "outputs": [
    {
     "name": "stdout",
     "output_type": "stream",
     "text": [
      "[[845  19]\n",
      " [ 20 497]]\n"
     ]
    }
   ],
   "source": [
    "print(confusion_matrix(y_pred, pred))"
   ]
  },
  {
   "cell_type": "code",
   "execution_count": 75,
   "id": "52de7bb3-17b8-400e-9767-ed2a5aa4f7fc",
   "metadata": {},
   "outputs": [
    {
     "name": "stdout",
     "output_type": "stream",
     "text": [
      "              precision    recall  f1-score   support\n",
      "\n",
      "           0       0.98      0.98      0.98       864\n",
      "           1       0.96      0.96      0.96       517\n",
      "\n",
      "    accuracy                           0.97      1381\n",
      "   macro avg       0.97      0.97      0.97      1381\n",
      "weighted avg       0.97      0.97      0.97      1381\n",
      "\n"
     ]
    }
   ],
   "source": [
    "print(classification_report(y_pred, pred))"
   ]
  },
  {
   "cell_type": "code",
   "execution_count": null,
   "id": "5b539a27-1061-4eb2-875d-c18b803487e7",
   "metadata": {},
   "outputs": [],
   "source": []
  }
 ],
 "metadata": {
  "kernelspec": {
   "display_name": "Python 3",
   "language": "python",
   "name": "python3"
  },
  "language_info": {
   "codemirror_mode": {
    "name": "ipython",
    "version": 3
   },
   "file_extension": ".py",
   "mimetype": "text/x-python",
   "name": "python",
   "nbconvert_exporter": "python",
   "pygments_lexer": "ipython3",
   "version": "3.8.8"
  }
 },
 "nbformat": 4,
 "nbformat_minor": 5
}
