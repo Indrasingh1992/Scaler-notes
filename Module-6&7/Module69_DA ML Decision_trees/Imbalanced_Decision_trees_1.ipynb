{
  "nbformat": 4,
  "nbformat_minor": 0,
  "metadata": {
    "colab": {
      "provenance": []
    },
    "kernelspec": {
      "name": "python3",
      "display_name": "Python 3"
    },
    "language_info": {
      "name": "python"
    }
  },
  "cells": [
    {
      "cell_type": "code",
      "source": [
        "#Credit Card fraud detection\n",
        "!pip install pendulum\n",
        "!pip install category_encoders"
      ],
      "metadata": {
        "colab": {
          "base_uri": "https://localhost:8080/"
        },
        "id": "dp3Jn34iJCBE",
        "outputId": "07b716de-47ae-4cf2-e711-9f3b2800f59a"
      },
      "execution_count": null,
      "outputs": [
        {
          "output_type": "stream",
          "name": "stdout",
          "text": [
            "Collecting pendulum\n",
            "  Downloading pendulum-2.1.2-cp37-cp37m-manylinux1_x86_64.whl (155 kB)\n",
            "\u001b[K     |████████████████████████████████| 155 kB 4.9 MB/s \n",
            "\u001b[?25hCollecting pytzdata>=2020.1\n",
            "  Downloading pytzdata-2020.1-py2.py3-none-any.whl (489 kB)\n",
            "\u001b[K     |████████████████████████████████| 489 kB 45.1 MB/s \n",
            "\u001b[?25hRequirement already satisfied: python-dateutil<3.0,>=2.6 in /usr/local/lib/python3.7/dist-packages (from pendulum) (2.8.2)\n",
            "Requirement already satisfied: six>=1.5 in /usr/local/lib/python3.7/dist-packages (from python-dateutil<3.0,>=2.6->pendulum) (1.15.0)\n",
            "Installing collected packages: pytzdata, pendulum\n",
            "Successfully installed pendulum-2.1.2 pytzdata-2020.1\n",
            "Collecting category_encoders\n",
            "  Downloading category_encoders-2.4.0-py2.py3-none-any.whl (86 kB)\n",
            "\u001b[K     |████████████████████████████████| 86 kB 3.0 MB/s \n",
            "\u001b[?25hRequirement already satisfied: scikit-learn>=0.20.0 in /usr/local/lib/python3.7/dist-packages (from category_encoders) (1.0.2)\n",
            "Requirement already satisfied: pandas>=0.21.1 in /usr/local/lib/python3.7/dist-packages (from category_encoders) (1.3.5)\n",
            "Requirement already satisfied: statsmodels>=0.9.0 in /usr/local/lib/python3.7/dist-packages (from category_encoders) (0.10.2)\n",
            "Requirement already satisfied: patsy>=0.5.1 in /usr/local/lib/python3.7/dist-packages (from category_encoders) (0.5.2)\n",
            "Requirement already satisfied: numpy>=1.14.0 in /usr/local/lib/python3.7/dist-packages (from category_encoders) (1.21.6)\n",
            "Requirement already satisfied: scipy>=1.0.0 in /usr/local/lib/python3.7/dist-packages (from category_encoders) (1.4.1)\n",
            "Requirement already satisfied: python-dateutil>=2.7.3 in /usr/local/lib/python3.7/dist-packages (from pandas>=0.21.1->category_encoders) (2.8.2)\n",
            "Requirement already satisfied: pytz>=2017.3 in /usr/local/lib/python3.7/dist-packages (from pandas>=0.21.1->category_encoders) (2022.1)\n",
            "Requirement already satisfied: six in /usr/local/lib/python3.7/dist-packages (from patsy>=0.5.1->category_encoders) (1.15.0)\n",
            "Requirement already satisfied: joblib>=0.11 in /usr/local/lib/python3.7/dist-packages (from scikit-learn>=0.20.0->category_encoders) (1.1.0)\n",
            "Requirement already satisfied: threadpoolctl>=2.0.0 in /usr/local/lib/python3.7/dist-packages (from scikit-learn>=0.20.0->category_encoders) (3.1.0)\n",
            "Installing collected packages: category-encoders\n",
            "Successfully installed category-encoders-2.4.0\n"
          ]
        }
      ]
    },
    {
      "cell_type": "code",
      "execution_count": null,
      "metadata": {
        "id": "80f_vcH2Iw1X",
        "colab": {
          "base_uri": "https://localhost:8080/"
        },
        "outputId": "0059d047-3b87-46a6-d8c3-b080beccb1db"
      },
      "outputs": [
        {
          "output_type": "stream",
          "name": "stderr",
          "text": [
            "/usr/local/lib/python3.7/dist-packages/statsmodels/tools/_testing.py:19: FutureWarning: pandas.util.testing is deprecated. Use the functions in the public API at pandas.testing instead.\n",
            "  import pandas.util.testing as tm\n"
          ]
        }
      ],
      "source": [
        "import pandas as pd\n",
        "import numpy as np\n",
        "from numpy import argmax\n",
        "\n",
        "from datetime import date, time, timedelta\n",
        "import pendulum # for time formatting\n",
        "\n",
        "import matplotlib.pyplot as plt\n",
        "import seaborn as sns\n",
        "\n",
        "import category_encoders as ce # for categorical encoding\n",
        "from sklearn.preprocessing import LabelEncoder, StandardScaler\n",
        "\n",
        "from sklearn.model_selection import train_test_split, cross_val_score\n",
        "from sklearn.metrics import confusion_matrix, accuracy_score, precision_score, recall_score, f1_score, precision_recall_curve"
      ]
    },
    {
      "cell_type": "code",
      "source": [
        "!wget \"https://drive.google.com/uc?export=download&id=1HC7MfMyg4KphO51bc21JKIxeubmcl8C_\" -O orders.csv\n"
      ],
      "metadata": {
        "colab": {
          "base_uri": "https://localhost:8080/"
        },
        "id": "rCjrB4kaI_WZ",
        "outputId": "00aa2c0b-6cf0-40b6-f5de-05215029c47b"
      },
      "execution_count": null,
      "outputs": [
        {
          "output_type": "stream",
          "name": "stdout",
          "text": [
            "--2022-05-04 15:50:09--  https://drive.google.com/uc?export=download&id=1HC7MfMyg4KphO51bc21JKIxeubmcl8C_\n",
            "Resolving drive.google.com (drive.google.com)... 173.194.216.102, 173.194.216.139, 173.194.216.113, ...\n",
            "Connecting to drive.google.com (drive.google.com)|173.194.216.102|:443... connected.\n",
            "HTTP request sent, awaiting response... 303 See Other\n",
            "Location: https://doc-0k-14-docs.googleusercontent.com/docs/securesc/ha0ro937gcuc7l7deffksulhg5h7mbp1/1pjq1s6pt2gkccpiqi6uh0t7fhkhfjce/1651679400000/06496627672658439642/*/1HC7MfMyg4KphO51bc21JKIxeubmcl8C_?e=download [following]\n",
            "Warning: wildcards not supported in HTTP.\n",
            "--2022-05-04 15:50:11--  https://doc-0k-14-docs.googleusercontent.com/docs/securesc/ha0ro937gcuc7l7deffksulhg5h7mbp1/1pjq1s6pt2gkccpiqi6uh0t7fhkhfjce/1651679400000/06496627672658439642/*/1HC7MfMyg4KphO51bc21JKIxeubmcl8C_?e=download\n",
            "Resolving doc-0k-14-docs.googleusercontent.com (doc-0k-14-docs.googleusercontent.com)... 172.217.193.132, 2607:f8b0:400c:c18::84\n",
            "Connecting to doc-0k-14-docs.googleusercontent.com (doc-0k-14-docs.googleusercontent.com)|172.217.193.132|:443... connected.\n",
            "HTTP request sent, awaiting response... 200 OK\n",
            "Length: 37517511 (36M) [text/csv]\n",
            "Saving to: ‘orders.csv’\n",
            "\n",
            "orders.csv          100%[===================>]  35.78M  98.3MB/s    in 0.4s    \n",
            "\n",
            "2022-05-04 15:50:12 (98.3 MB/s) - ‘orders.csv’ saved [37517511/37517511]\n",
            "\n"
          ]
        }
      ]
    },
    {
      "cell_type": "code",
      "source": [
        "df = pd.read_csv('orders.csv') "
      ],
      "metadata": {
        "id": "tn0NX-FgJQSP"
      },
      "execution_count": null,
      "outputs": []
    },
    {
      "cell_type": "code",
      "source": [
        "df.head()\n"
      ],
      "metadata": {
        "colab": {
          "base_uri": "https://localhost:8080/",
          "height": 473
        },
        "id": "TBBIRTBSJctP",
        "outputId": "28beb634-3311-47b0-db51-21bb4fc39533"
      },
      "execution_count": null,
      "outputs": [
        {
          "output_type": "execute_result",
          "data": {
            "text/plain": [
              "   order_id       city                category_name  product_id  \\\n",
              "0   2166688  SINGAPORE                Singapore Zoo        7360   \n",
              "1   2166694  SINGAPORE                Singapore Zoo        7360   \n",
              "2   2166764      DUBAI                  Dubai Frame        8541   \n",
              "3   2166991  SINGAPORE          Singapore Cable Car        7372   \n",
              "4   2167074  SINGAPORE  Universal Studios Singapore        7442   \n",
              "\n",
              "                               product_name  amount           device  \\\n",
              "0              Singapore Zoo with Tram Ride  110.80  HIGH_END_MOBILE   \n",
              "1              Singapore Zoo with Tram Ride  110.80  HIGH_END_MOBILE   \n",
              "2         Dubai Frame Anytime Entry Tickets   32.67  HIGH_END_MOBILE   \n",
              "3  Singapore Cable Car Sky Pass: Round Trip   66.14  HIGH_END_MOBILE   \n",
              "4      Universal Studios Singapore™ Tickets  106.77          DESKTOP   \n",
              "\n",
              "                       payment_id               customer_ip  \\\n",
              "0  pay_6bc2eb4hzg2u7dmfktmakyqex4  vzH6NNH4iwxhe+eSr1L84w==   \n",
              "1  pay_xpjji7qdllhupaus3jad42meuy  vzH6NNH4iwxhe+eSr1L84w==   \n",
              "2  pay_z3e3bici56muhas3wfj4s5iq2u  cr7Phm0QLRXcaKa/bjpTDg==   \n",
              "3  pay_c7skbbtd7ree3ji3io4i3dde34  ckoTvtWdM4zKRdFyDH4YcQ==   \n",
              "4  pay_dyz4xj7cdnuurgq4rapandtsyu  5H/u0Mbh8cMZxsXNDZ2QYw==   \n",
              "\n",
              "                customer_id  ... created_dow_sin created_dow_cos  \\\n",
              "0  /8+13Ig7x5JbiszC0f4AHw==  ...        0.866025             0.5   \n",
              "1  /8+13Ig7x5JbiszC0f4AHw==  ...        0.866025             0.5   \n",
              "2  gjP75WqjRZ9ZtSkHoFd+mw==  ...        0.866025             0.5   \n",
              "3  XDZdavE7L2SLdQ1zdp5FAw==  ...        0.866025             0.5   \n",
              "4  9M/VfPTvlko/2Zdtg5Pg1A==  ...        0.866025             0.5   \n",
              "\n",
              "   created_wom_sin created_wom_cos experience_dom_sin experience_dom_cos  \\\n",
              "0         0.951057        0.309017           0.201299           0.979530   \n",
              "1         0.951057        0.309017           0.201299           0.979530   \n",
              "2         0.951057        0.309017           0.988468           0.151428   \n",
              "3         0.951057        0.309017           0.201299           0.979530   \n",
              "4         0.951057        0.309017           0.394356           0.918958   \n",
              "\n",
              "  experience_dow_sin experience_dow_cos  experience_wom_sin  \\\n",
              "0           0.866025                0.5            0.951057   \n",
              "1           0.866025                0.5            0.951057   \n",
              "2          -0.866025                0.5            0.587785   \n",
              "3           0.866025                0.5            0.951057   \n",
              "4           0.866025               -0.5            0.951057   \n",
              "\n",
              "   experience_wom_cos  \n",
              "0            0.309017  \n",
              "1            0.309017  \n",
              "2           -0.809017  \n",
              "3            0.309017  \n",
              "4            0.309017  \n",
              "\n",
              "[5 rows x 34 columns]"
            ],
            "text/html": [
              "\n",
              "  <div id=\"df-f4de199d-83ae-4d67-b265-e41f62e2ba38\">\n",
              "    <div class=\"colab-df-container\">\n",
              "      <div>\n",
              "<style scoped>\n",
              "    .dataframe tbody tr th:only-of-type {\n",
              "        vertical-align: middle;\n",
              "    }\n",
              "\n",
              "    .dataframe tbody tr th {\n",
              "        vertical-align: top;\n",
              "    }\n",
              "\n",
              "    .dataframe thead th {\n",
              "        text-align: right;\n",
              "    }\n",
              "</style>\n",
              "<table border=\"1\" class=\"dataframe\">\n",
              "  <thead>\n",
              "    <tr style=\"text-align: right;\">\n",
              "      <th></th>\n",
              "      <th>order_id</th>\n",
              "      <th>city</th>\n",
              "      <th>category_name</th>\n",
              "      <th>product_id</th>\n",
              "      <th>product_name</th>\n",
              "      <th>amount</th>\n",
              "      <th>device</th>\n",
              "      <th>payment_id</th>\n",
              "      <th>customer_ip</th>\n",
              "      <th>customer_id</th>\n",
              "      <th>...</th>\n",
              "      <th>created_dow_sin</th>\n",
              "      <th>created_dow_cos</th>\n",
              "      <th>created_wom_sin</th>\n",
              "      <th>created_wom_cos</th>\n",
              "      <th>experience_dom_sin</th>\n",
              "      <th>experience_dom_cos</th>\n",
              "      <th>experience_dow_sin</th>\n",
              "      <th>experience_dow_cos</th>\n",
              "      <th>experience_wom_sin</th>\n",
              "      <th>experience_wom_cos</th>\n",
              "    </tr>\n",
              "  </thead>\n",
              "  <tbody>\n",
              "    <tr>\n",
              "      <th>0</th>\n",
              "      <td>2166688</td>\n",
              "      <td>SINGAPORE</td>\n",
              "      <td>Singapore Zoo</td>\n",
              "      <td>7360</td>\n",
              "      <td>Singapore Zoo with Tram Ride</td>\n",
              "      <td>110.80</td>\n",
              "      <td>HIGH_END_MOBILE</td>\n",
              "      <td>pay_6bc2eb4hzg2u7dmfktmakyqex4</td>\n",
              "      <td>vzH6NNH4iwxhe+eSr1L84w==</td>\n",
              "      <td>/8+13Ig7x5JbiszC0f4AHw==</td>\n",
              "      <td>...</td>\n",
              "      <td>0.866025</td>\n",
              "      <td>0.5</td>\n",
              "      <td>0.951057</td>\n",
              "      <td>0.309017</td>\n",
              "      <td>0.201299</td>\n",
              "      <td>0.979530</td>\n",
              "      <td>0.866025</td>\n",
              "      <td>0.5</td>\n",
              "      <td>0.951057</td>\n",
              "      <td>0.309017</td>\n",
              "    </tr>\n",
              "    <tr>\n",
              "      <th>1</th>\n",
              "      <td>2166694</td>\n",
              "      <td>SINGAPORE</td>\n",
              "      <td>Singapore Zoo</td>\n",
              "      <td>7360</td>\n",
              "      <td>Singapore Zoo with Tram Ride</td>\n",
              "      <td>110.80</td>\n",
              "      <td>HIGH_END_MOBILE</td>\n",
              "      <td>pay_xpjji7qdllhupaus3jad42meuy</td>\n",
              "      <td>vzH6NNH4iwxhe+eSr1L84w==</td>\n",
              "      <td>/8+13Ig7x5JbiszC0f4AHw==</td>\n",
              "      <td>...</td>\n",
              "      <td>0.866025</td>\n",
              "      <td>0.5</td>\n",
              "      <td>0.951057</td>\n",
              "      <td>0.309017</td>\n",
              "      <td>0.201299</td>\n",
              "      <td>0.979530</td>\n",
              "      <td>0.866025</td>\n",
              "      <td>0.5</td>\n",
              "      <td>0.951057</td>\n",
              "      <td>0.309017</td>\n",
              "    </tr>\n",
              "    <tr>\n",
              "      <th>2</th>\n",
              "      <td>2166764</td>\n",
              "      <td>DUBAI</td>\n",
              "      <td>Dubai Frame</td>\n",
              "      <td>8541</td>\n",
              "      <td>Dubai Frame Anytime Entry Tickets</td>\n",
              "      <td>32.67</td>\n",
              "      <td>HIGH_END_MOBILE</td>\n",
              "      <td>pay_z3e3bici56muhas3wfj4s5iq2u</td>\n",
              "      <td>cr7Phm0QLRXcaKa/bjpTDg==</td>\n",
              "      <td>gjP75WqjRZ9ZtSkHoFd+mw==</td>\n",
              "      <td>...</td>\n",
              "      <td>0.866025</td>\n",
              "      <td>0.5</td>\n",
              "      <td>0.951057</td>\n",
              "      <td>0.309017</td>\n",
              "      <td>0.988468</td>\n",
              "      <td>0.151428</td>\n",
              "      <td>-0.866025</td>\n",
              "      <td>0.5</td>\n",
              "      <td>0.587785</td>\n",
              "      <td>-0.809017</td>\n",
              "    </tr>\n",
              "    <tr>\n",
              "      <th>3</th>\n",
              "      <td>2166991</td>\n",
              "      <td>SINGAPORE</td>\n",
              "      <td>Singapore Cable Car</td>\n",
              "      <td>7372</td>\n",
              "      <td>Singapore Cable Car Sky Pass: Round Trip</td>\n",
              "      <td>66.14</td>\n",
              "      <td>HIGH_END_MOBILE</td>\n",
              "      <td>pay_c7skbbtd7ree3ji3io4i3dde34</td>\n",
              "      <td>ckoTvtWdM4zKRdFyDH4YcQ==</td>\n",
              "      <td>XDZdavE7L2SLdQ1zdp5FAw==</td>\n",
              "      <td>...</td>\n",
              "      <td>0.866025</td>\n",
              "      <td>0.5</td>\n",
              "      <td>0.951057</td>\n",
              "      <td>0.309017</td>\n",
              "      <td>0.201299</td>\n",
              "      <td>0.979530</td>\n",
              "      <td>0.866025</td>\n",
              "      <td>0.5</td>\n",
              "      <td>0.951057</td>\n",
              "      <td>0.309017</td>\n",
              "    </tr>\n",
              "    <tr>\n",
              "      <th>4</th>\n",
              "      <td>2167074</td>\n",
              "      <td>SINGAPORE</td>\n",
              "      <td>Universal Studios Singapore</td>\n",
              "      <td>7442</td>\n",
              "      <td>Universal Studios Singapore™ Tickets</td>\n",
              "      <td>106.77</td>\n",
              "      <td>DESKTOP</td>\n",
              "      <td>pay_dyz4xj7cdnuurgq4rapandtsyu</td>\n",
              "      <td>5H/u0Mbh8cMZxsXNDZ2QYw==</td>\n",
              "      <td>9M/VfPTvlko/2Zdtg5Pg1A==</td>\n",
              "      <td>...</td>\n",
              "      <td>0.866025</td>\n",
              "      <td>0.5</td>\n",
              "      <td>0.951057</td>\n",
              "      <td>0.309017</td>\n",
              "      <td>0.394356</td>\n",
              "      <td>0.918958</td>\n",
              "      <td>0.866025</td>\n",
              "      <td>-0.5</td>\n",
              "      <td>0.951057</td>\n",
              "      <td>0.309017</td>\n",
              "    </tr>\n",
              "  </tbody>\n",
              "</table>\n",
              "<p>5 rows × 34 columns</p>\n",
              "</div>\n",
              "      <button class=\"colab-df-convert\" onclick=\"convertToInteractive('df-f4de199d-83ae-4d67-b265-e41f62e2ba38')\"\n",
              "              title=\"Convert this dataframe to an interactive table.\"\n",
              "              style=\"display:none;\">\n",
              "        \n",
              "  <svg xmlns=\"http://www.w3.org/2000/svg\" height=\"24px\"viewBox=\"0 0 24 24\"\n",
              "       width=\"24px\">\n",
              "    <path d=\"M0 0h24v24H0V0z\" fill=\"none\"/>\n",
              "    <path d=\"M18.56 5.44l.94 2.06.94-2.06 2.06-.94-2.06-.94-.94-2.06-.94 2.06-2.06.94zm-11 1L8.5 8.5l.94-2.06 2.06-.94-2.06-.94L8.5 2.5l-.94 2.06-2.06.94zm10 10l.94 2.06.94-2.06 2.06-.94-2.06-.94-.94-2.06-.94 2.06-2.06.94z\"/><path d=\"M17.41 7.96l-1.37-1.37c-.4-.4-.92-.59-1.43-.59-.52 0-1.04.2-1.43.59L10.3 9.45l-7.72 7.72c-.78.78-.78 2.05 0 2.83L4 21.41c.39.39.9.59 1.41.59.51 0 1.02-.2 1.41-.59l7.78-7.78 2.81-2.81c.8-.78.8-2.07 0-2.86zM5.41 20L4 18.59l7.72-7.72 1.47 1.35L5.41 20z\"/>\n",
              "  </svg>\n",
              "      </button>\n",
              "      \n",
              "  <style>\n",
              "    .colab-df-container {\n",
              "      display:flex;\n",
              "      flex-wrap:wrap;\n",
              "      gap: 12px;\n",
              "    }\n",
              "\n",
              "    .colab-df-convert {\n",
              "      background-color: #E8F0FE;\n",
              "      border: none;\n",
              "      border-radius: 50%;\n",
              "      cursor: pointer;\n",
              "      display: none;\n",
              "      fill: #1967D2;\n",
              "      height: 32px;\n",
              "      padding: 0 0 0 0;\n",
              "      width: 32px;\n",
              "    }\n",
              "\n",
              "    .colab-df-convert:hover {\n",
              "      background-color: #E2EBFA;\n",
              "      box-shadow: 0px 1px 2px rgba(60, 64, 67, 0.3), 0px 1px 3px 1px rgba(60, 64, 67, 0.15);\n",
              "      fill: #174EA6;\n",
              "    }\n",
              "\n",
              "    [theme=dark] .colab-df-convert {\n",
              "      background-color: #3B4455;\n",
              "      fill: #D2E3FC;\n",
              "    }\n",
              "\n",
              "    [theme=dark] .colab-df-convert:hover {\n",
              "      background-color: #434B5C;\n",
              "      box-shadow: 0px 1px 3px 1px rgba(0, 0, 0, 0.15);\n",
              "      filter: drop-shadow(0px 1px 2px rgba(0, 0, 0, 0.3));\n",
              "      fill: #FFFFFF;\n",
              "    }\n",
              "  </style>\n",
              "\n",
              "      <script>\n",
              "        const buttonEl =\n",
              "          document.querySelector('#df-f4de199d-83ae-4d67-b265-e41f62e2ba38 button.colab-df-convert');\n",
              "        buttonEl.style.display =\n",
              "          google.colab.kernel.accessAllowed ? 'block' : 'none';\n",
              "\n",
              "        async function convertToInteractive(key) {\n",
              "          const element = document.querySelector('#df-f4de199d-83ae-4d67-b265-e41f62e2ba38');\n",
              "          const dataTable =\n",
              "            await google.colab.kernel.invokeFunction('convertToInteractive',\n",
              "                                                     [key], {});\n",
              "          if (!dataTable) return;\n",
              "\n",
              "          const docLinkHtml = 'Like what you see? Visit the ' +\n",
              "            '<a target=\"_blank\" href=https://colab.research.google.com/notebooks/data_table.ipynb>data table notebook</a>'\n",
              "            + ' to learn more about interactive tables.';\n",
              "          element.innerHTML = '';\n",
              "          dataTable['output_type'] = 'display_data';\n",
              "          await google.colab.output.renderOutput(dataTable, element);\n",
              "          const docLink = document.createElement('div');\n",
              "          docLink.innerHTML = docLinkHtml;\n",
              "          element.appendChild(docLink);\n",
              "        }\n",
              "      </script>\n",
              "    </div>\n",
              "  </div>\n",
              "  "
            ]
          },
          "metadata": {},
          "execution_count": 9
        }
      ]
    },
    {
      "cell_type": "markdown",
      "source": [],
      "metadata": {
        "id": "C2gsilvJu9Lm"
      }
    },
    {
      "cell_type": "code",
      "source": [
        "df.info()\n",
        "\n"
      ],
      "metadata": {
        "colab": {
          "base_uri": "https://localhost:8080/"
        },
        "id": "14uHpGP3JsSl",
        "outputId": "73e7f85d-e254-490a-e7cc-c9a35cbd48f2"
      },
      "execution_count": null,
      "outputs": [
        {
          "output_type": "stream",
          "name": "stdout",
          "text": [
            "<class 'pandas.core.frame.DataFrame'>\n",
            "RangeIndex: 76829 entries, 0 to 76828\n",
            "Data columns (total 34 columns):\n",
            " #   Column                         Non-Null Count  Dtype  \n",
            "---  ------                         --------------  -----  \n",
            " 0   order_id                       76829 non-null  int64  \n",
            " 1   city                           76829 non-null  object \n",
            " 2   category_name                  76743 non-null  object \n",
            " 3   product_id                     76829 non-null  int64  \n",
            " 4   product_name                   76829 non-null  object \n",
            " 5   amount                         76829 non-null  float64\n",
            " 6   device                         76829 non-null  object \n",
            " 7   payment_id                     76829 non-null  object \n",
            " 8   customer_ip                    76829 non-null  object \n",
            " 9   customer_id                    76829 non-null  object \n",
            " 10  payment_method                 76829 non-null  object \n",
            " 11  payment_method_provider        76829 non-null  object \n",
            " 12  payment_method_bin             76778 non-null  float64\n",
            " 13  payment_method_type            76741 non-null  object \n",
            " 14  payment_method_product         74731 non-null  object \n",
            " 15  payment_method_card_category   74228 non-null  object \n",
            " 16  payment_method_issuer_bank     73690 non-null  object \n",
            " 17  payment_method_issuer_country  76730 non-null  object \n",
            " 18  is_fraudulent                  76829 non-null  bool   \n",
            " 19  time_diff                      76829 non-null  int64  \n",
            " 20  created_at_hod_sin             76829 non-null  float64\n",
            " 21  created_at_hod_cos             76829 non-null  float64\n",
            " 22  created_dom_sin                76829 non-null  float64\n",
            " 23  created_dom_cos                76829 non-null  float64\n",
            " 24  created_dow_sin                76829 non-null  float64\n",
            " 25  created_dow_cos                76829 non-null  float64\n",
            " 26  created_wom_sin                76829 non-null  float64\n",
            " 27  created_wom_cos                76829 non-null  float64\n",
            " 28  experience_dom_sin             76829 non-null  float64\n",
            " 29  experience_dom_cos             76829 non-null  float64\n",
            " 30  experience_dow_sin             76829 non-null  float64\n",
            " 31  experience_dow_cos             76829 non-null  float64\n",
            " 32  experience_wom_sin             76829 non-null  float64\n",
            " 33  experience_wom_cos             76829 non-null  float64\n",
            "dtypes: bool(1), float64(16), int64(3), object(14)\n",
            "memory usage: 19.4+ MB\n"
          ]
        }
      ]
    },
    {
      "cell_type": "code",
      "source": [
        "df.columns\n"
      ],
      "metadata": {
        "colab": {
          "base_uri": "https://localhost:8080/"
        },
        "id": "XtpGHQCNKIwr",
        "outputId": "2bdb3709-d618-4323-80a0-0026988f3489"
      },
      "execution_count": null,
      "outputs": [
        {
          "output_type": "execute_result",
          "data": {
            "text/plain": [
              "Index(['order_id', 'city', 'category_name', 'product_id', 'product_name',\n",
              "       'amount', 'device', 'payment_id', 'customer_ip', 'customer_id',\n",
              "       'payment_method', 'payment_method_provider', 'payment_method_bin',\n",
              "       'payment_method_type', 'payment_method_product',\n",
              "       'payment_method_card_category', 'payment_method_issuer_bank',\n",
              "       'payment_method_issuer_country', 'is_fraudulent', 'time_diff',\n",
              "       'created_at_hod_sin', 'created_at_hod_cos', 'created_dom_sin',\n",
              "       'created_dom_cos', 'created_dow_sin', 'created_dow_cos',\n",
              "       'created_wom_sin', 'created_wom_cos', 'experience_dom_sin',\n",
              "       'experience_dom_cos', 'experience_dow_sin', 'experience_dow_cos',\n",
              "       'experience_wom_sin', 'experience_wom_cos'],\n",
              "      dtype='object')"
            ]
          },
          "metadata": {},
          "execution_count": 11
        }
      ]
    },
    {
      "cell_type": "code",
      "source": [
        "df[\"is_fraudulent\"].value_counts()"
      ],
      "metadata": {
        "id": "wN4r7EK88w10",
        "outputId": "989f9f65-255e-4b38-eecf-1f89673c2030",
        "colab": {
          "base_uri": "https://localhost:8080/"
        }
      },
      "execution_count": null,
      "outputs": [
        {
          "output_type": "execute_result",
          "data": {
            "text/plain": [
              "False    75817\n",
              "True      1012\n",
              "Name: is_fraudulent, dtype: int64"
            ]
          },
          "metadata": {},
          "execution_count": 198
        }
      ]
    },
    {
      "cell_type": "code",
      "source": [
        "df.nunique() # unique values per feature\n"
      ],
      "metadata": {
        "colab": {
          "base_uri": "https://localhost:8080/"
        },
        "id": "3tU0JQJ8KKsC",
        "outputId": "5d90d988-8d9f-485c-a8ee-6ee366e20628"
      },
      "execution_count": null,
      "outputs": [
        {
          "output_type": "execute_result",
          "data": {
            "text/plain": [
              "order_id                         76829\n",
              "city                                 2\n",
              "category_name                       96\n",
              "product_id                         353\n",
              "product_name                       340\n",
              "amount                            8627\n",
              "device                               5\n",
              "payment_id                       76829\n",
              "customer_ip                      44208\n",
              "customer_id                      51109\n",
              "payment_method                       1\n",
              "payment_method_provider              5\n",
              "payment_method_bin                6991\n",
              "payment_method_type                  8\n",
              "payment_method_product             144\n",
              "payment_method_card_category         2\n",
              "payment_method_issuer_bank        2046\n",
              "payment_method_issuer_country      151\n",
              "is_fraudulent                        2\n",
              "time_diff                          117\n",
              "created_at_hod_sin                  24\n",
              "created_at_hod_cos                  13\n",
              "created_dom_sin                     31\n",
              "created_dom_cos                     18\n",
              "created_dow_sin                      6\n",
              "created_dow_cos                      4\n",
              "created_wom_sin                      5\n",
              "created_wom_cos                      4\n",
              "experience_dom_sin                  31\n",
              "experience_dom_cos                  18\n",
              "experience_dow_sin                   6\n",
              "experience_dow_cos                   4\n",
              "experience_wom_sin                   5\n",
              "experience_wom_cos                   4\n",
              "dtype: int64"
            ]
          },
          "metadata": {},
          "execution_count": 13
        }
      ]
    },
    {
      "cell_type": "code",
      "source": [
        "# dropping product_name as we have product_id\n",
        "df = df.drop(columns=[\"order_id\", \"payment_method\", \"payment_id\", \"product_name\"])\n",
        "df.head()"
      ],
      "metadata": {
        "colab": {
          "base_uri": "https://localhost:8080/",
          "height": 334
        },
        "id": "ase0_lbrwN90",
        "outputId": "d2549e6e-063c-4f1b-fbc5-f1d540e596f2"
      },
      "execution_count": null,
      "outputs": [
        {
          "output_type": "execute_result",
          "data": {
            "text/plain": [
              "        city                category_name  product_id  amount  \\\n",
              "0  SINGAPORE                Singapore Zoo        7360  110.80   \n",
              "1  SINGAPORE                Singapore Zoo        7360  110.80   \n",
              "2      DUBAI                  Dubai Frame        8541   32.67   \n",
              "3  SINGAPORE          Singapore Cable Car        7372   66.14   \n",
              "4  SINGAPORE  Universal Studios Singapore        7442  106.77   \n",
              "\n",
              "            device               customer_ip               customer_id  \\\n",
              "0  HIGH_END_MOBILE  vzH6NNH4iwxhe+eSr1L84w==  /8+13Ig7x5JbiszC0f4AHw==   \n",
              "1  HIGH_END_MOBILE  vzH6NNH4iwxhe+eSr1L84w==  /8+13Ig7x5JbiszC0f4AHw==   \n",
              "2  HIGH_END_MOBILE  cr7Phm0QLRXcaKa/bjpTDg==  gjP75WqjRZ9ZtSkHoFd+mw==   \n",
              "3  HIGH_END_MOBILE  ckoTvtWdM4zKRdFyDH4YcQ==  XDZdavE7L2SLdQ1zdp5FAw==   \n",
              "4          DESKTOP  5H/u0Mbh8cMZxsXNDZ2QYw==  9M/VfPTvlko/2Zdtg5Pg1A==   \n",
              "\n",
              "  payment_method_provider  payment_method_bin payment_method_type  ...  \\\n",
              "0              Mastercard            542550.0              Credit  ...   \n",
              "1              Mastercard            542550.0              Credit  ...   \n",
              "2              Mastercard            515590.0              Credit  ...   \n",
              "3              Mastercard            554637.0              Credit  ...   \n",
              "4              Mastercard            551619.0               Debit  ...   \n",
              "\n",
              "  created_dow_sin created_dow_cos created_wom_sin created_wom_cos  \\\n",
              "0        0.866025             0.5        0.951057        0.309017   \n",
              "1        0.866025             0.5        0.951057        0.309017   \n",
              "2        0.866025             0.5        0.951057        0.309017   \n",
              "3        0.866025             0.5        0.951057        0.309017   \n",
              "4        0.866025             0.5        0.951057        0.309017   \n",
              "\n",
              "   experience_dom_sin  experience_dom_cos  experience_dow_sin  \\\n",
              "0            0.201299            0.979530            0.866025   \n",
              "1            0.201299            0.979530            0.866025   \n",
              "2            0.988468            0.151428           -0.866025   \n",
              "3            0.201299            0.979530            0.866025   \n",
              "4            0.394356            0.918958            0.866025   \n",
              "\n",
              "   experience_dow_cos  experience_wom_sin  experience_wom_cos  \n",
              "0                 0.5            0.951057            0.309017  \n",
              "1                 0.5            0.951057            0.309017  \n",
              "2                 0.5            0.587785           -0.809017  \n",
              "3                 0.5            0.951057            0.309017  \n",
              "4                -0.5            0.951057            0.309017  \n",
              "\n",
              "[5 rows x 30 columns]"
            ],
            "text/html": [
              "\n",
              "  <div id=\"df-ff503b93-6ab9-4132-9a19-f7975d19c151\">\n",
              "    <div class=\"colab-df-container\">\n",
              "      <div>\n",
              "<style scoped>\n",
              "    .dataframe tbody tr th:only-of-type {\n",
              "        vertical-align: middle;\n",
              "    }\n",
              "\n",
              "    .dataframe tbody tr th {\n",
              "        vertical-align: top;\n",
              "    }\n",
              "\n",
              "    .dataframe thead th {\n",
              "        text-align: right;\n",
              "    }\n",
              "</style>\n",
              "<table border=\"1\" class=\"dataframe\">\n",
              "  <thead>\n",
              "    <tr style=\"text-align: right;\">\n",
              "      <th></th>\n",
              "      <th>city</th>\n",
              "      <th>category_name</th>\n",
              "      <th>product_id</th>\n",
              "      <th>amount</th>\n",
              "      <th>device</th>\n",
              "      <th>customer_ip</th>\n",
              "      <th>customer_id</th>\n",
              "      <th>payment_method_provider</th>\n",
              "      <th>payment_method_bin</th>\n",
              "      <th>payment_method_type</th>\n",
              "      <th>...</th>\n",
              "      <th>created_dow_sin</th>\n",
              "      <th>created_dow_cos</th>\n",
              "      <th>created_wom_sin</th>\n",
              "      <th>created_wom_cos</th>\n",
              "      <th>experience_dom_sin</th>\n",
              "      <th>experience_dom_cos</th>\n",
              "      <th>experience_dow_sin</th>\n",
              "      <th>experience_dow_cos</th>\n",
              "      <th>experience_wom_sin</th>\n",
              "      <th>experience_wom_cos</th>\n",
              "    </tr>\n",
              "  </thead>\n",
              "  <tbody>\n",
              "    <tr>\n",
              "      <th>0</th>\n",
              "      <td>SINGAPORE</td>\n",
              "      <td>Singapore Zoo</td>\n",
              "      <td>7360</td>\n",
              "      <td>110.80</td>\n",
              "      <td>HIGH_END_MOBILE</td>\n",
              "      <td>vzH6NNH4iwxhe+eSr1L84w==</td>\n",
              "      <td>/8+13Ig7x5JbiszC0f4AHw==</td>\n",
              "      <td>Mastercard</td>\n",
              "      <td>542550.0</td>\n",
              "      <td>Credit</td>\n",
              "      <td>...</td>\n",
              "      <td>0.866025</td>\n",
              "      <td>0.5</td>\n",
              "      <td>0.951057</td>\n",
              "      <td>0.309017</td>\n",
              "      <td>0.201299</td>\n",
              "      <td>0.979530</td>\n",
              "      <td>0.866025</td>\n",
              "      <td>0.5</td>\n",
              "      <td>0.951057</td>\n",
              "      <td>0.309017</td>\n",
              "    </tr>\n",
              "    <tr>\n",
              "      <th>1</th>\n",
              "      <td>SINGAPORE</td>\n",
              "      <td>Singapore Zoo</td>\n",
              "      <td>7360</td>\n",
              "      <td>110.80</td>\n",
              "      <td>HIGH_END_MOBILE</td>\n",
              "      <td>vzH6NNH4iwxhe+eSr1L84w==</td>\n",
              "      <td>/8+13Ig7x5JbiszC0f4AHw==</td>\n",
              "      <td>Mastercard</td>\n",
              "      <td>542550.0</td>\n",
              "      <td>Credit</td>\n",
              "      <td>...</td>\n",
              "      <td>0.866025</td>\n",
              "      <td>0.5</td>\n",
              "      <td>0.951057</td>\n",
              "      <td>0.309017</td>\n",
              "      <td>0.201299</td>\n",
              "      <td>0.979530</td>\n",
              "      <td>0.866025</td>\n",
              "      <td>0.5</td>\n",
              "      <td>0.951057</td>\n",
              "      <td>0.309017</td>\n",
              "    </tr>\n",
              "    <tr>\n",
              "      <th>2</th>\n",
              "      <td>DUBAI</td>\n",
              "      <td>Dubai Frame</td>\n",
              "      <td>8541</td>\n",
              "      <td>32.67</td>\n",
              "      <td>HIGH_END_MOBILE</td>\n",
              "      <td>cr7Phm0QLRXcaKa/bjpTDg==</td>\n",
              "      <td>gjP75WqjRZ9ZtSkHoFd+mw==</td>\n",
              "      <td>Mastercard</td>\n",
              "      <td>515590.0</td>\n",
              "      <td>Credit</td>\n",
              "      <td>...</td>\n",
              "      <td>0.866025</td>\n",
              "      <td>0.5</td>\n",
              "      <td>0.951057</td>\n",
              "      <td>0.309017</td>\n",
              "      <td>0.988468</td>\n",
              "      <td>0.151428</td>\n",
              "      <td>-0.866025</td>\n",
              "      <td>0.5</td>\n",
              "      <td>0.587785</td>\n",
              "      <td>-0.809017</td>\n",
              "    </tr>\n",
              "    <tr>\n",
              "      <th>3</th>\n",
              "      <td>SINGAPORE</td>\n",
              "      <td>Singapore Cable Car</td>\n",
              "      <td>7372</td>\n",
              "      <td>66.14</td>\n",
              "      <td>HIGH_END_MOBILE</td>\n",
              "      <td>ckoTvtWdM4zKRdFyDH4YcQ==</td>\n",
              "      <td>XDZdavE7L2SLdQ1zdp5FAw==</td>\n",
              "      <td>Mastercard</td>\n",
              "      <td>554637.0</td>\n",
              "      <td>Credit</td>\n",
              "      <td>...</td>\n",
              "      <td>0.866025</td>\n",
              "      <td>0.5</td>\n",
              "      <td>0.951057</td>\n",
              "      <td>0.309017</td>\n",
              "      <td>0.201299</td>\n",
              "      <td>0.979530</td>\n",
              "      <td>0.866025</td>\n",
              "      <td>0.5</td>\n",
              "      <td>0.951057</td>\n",
              "      <td>0.309017</td>\n",
              "    </tr>\n",
              "    <tr>\n",
              "      <th>4</th>\n",
              "      <td>SINGAPORE</td>\n",
              "      <td>Universal Studios Singapore</td>\n",
              "      <td>7442</td>\n",
              "      <td>106.77</td>\n",
              "      <td>DESKTOP</td>\n",
              "      <td>5H/u0Mbh8cMZxsXNDZ2QYw==</td>\n",
              "      <td>9M/VfPTvlko/2Zdtg5Pg1A==</td>\n",
              "      <td>Mastercard</td>\n",
              "      <td>551619.0</td>\n",
              "      <td>Debit</td>\n",
              "      <td>...</td>\n",
              "      <td>0.866025</td>\n",
              "      <td>0.5</td>\n",
              "      <td>0.951057</td>\n",
              "      <td>0.309017</td>\n",
              "      <td>0.394356</td>\n",
              "      <td>0.918958</td>\n",
              "      <td>0.866025</td>\n",
              "      <td>-0.5</td>\n",
              "      <td>0.951057</td>\n",
              "      <td>0.309017</td>\n",
              "    </tr>\n",
              "  </tbody>\n",
              "</table>\n",
              "<p>5 rows × 30 columns</p>\n",
              "</div>\n",
              "      <button class=\"colab-df-convert\" onclick=\"convertToInteractive('df-ff503b93-6ab9-4132-9a19-f7975d19c151')\"\n",
              "              title=\"Convert this dataframe to an interactive table.\"\n",
              "              style=\"display:none;\">\n",
              "        \n",
              "  <svg xmlns=\"http://www.w3.org/2000/svg\" height=\"24px\"viewBox=\"0 0 24 24\"\n",
              "       width=\"24px\">\n",
              "    <path d=\"M0 0h24v24H0V0z\" fill=\"none\"/>\n",
              "    <path d=\"M18.56 5.44l.94 2.06.94-2.06 2.06-.94-2.06-.94-.94-2.06-.94 2.06-2.06.94zm-11 1L8.5 8.5l.94-2.06 2.06-.94-2.06-.94L8.5 2.5l-.94 2.06-2.06.94zm10 10l.94 2.06.94-2.06 2.06-.94-2.06-.94-.94-2.06-.94 2.06-2.06.94z\"/><path d=\"M17.41 7.96l-1.37-1.37c-.4-.4-.92-.59-1.43-.59-.52 0-1.04.2-1.43.59L10.3 9.45l-7.72 7.72c-.78.78-.78 2.05 0 2.83L4 21.41c.39.39.9.59 1.41.59.51 0 1.02-.2 1.41-.59l7.78-7.78 2.81-2.81c.8-.78.8-2.07 0-2.86zM5.41 20L4 18.59l7.72-7.72 1.47 1.35L5.41 20z\"/>\n",
              "  </svg>\n",
              "      </button>\n",
              "      \n",
              "  <style>\n",
              "    .colab-df-container {\n",
              "      display:flex;\n",
              "      flex-wrap:wrap;\n",
              "      gap: 12px;\n",
              "    }\n",
              "\n",
              "    .colab-df-convert {\n",
              "      background-color: #E8F0FE;\n",
              "      border: none;\n",
              "      border-radius: 50%;\n",
              "      cursor: pointer;\n",
              "      display: none;\n",
              "      fill: #1967D2;\n",
              "      height: 32px;\n",
              "      padding: 0 0 0 0;\n",
              "      width: 32px;\n",
              "    }\n",
              "\n",
              "    .colab-df-convert:hover {\n",
              "      background-color: #E2EBFA;\n",
              "      box-shadow: 0px 1px 2px rgba(60, 64, 67, 0.3), 0px 1px 3px 1px rgba(60, 64, 67, 0.15);\n",
              "      fill: #174EA6;\n",
              "    }\n",
              "\n",
              "    [theme=dark] .colab-df-convert {\n",
              "      background-color: #3B4455;\n",
              "      fill: #D2E3FC;\n",
              "    }\n",
              "\n",
              "    [theme=dark] .colab-df-convert:hover {\n",
              "      background-color: #434B5C;\n",
              "      box-shadow: 0px 1px 3px 1px rgba(0, 0, 0, 0.15);\n",
              "      filter: drop-shadow(0px 1px 2px rgba(0, 0, 0, 0.3));\n",
              "      fill: #FFFFFF;\n",
              "    }\n",
              "  </style>\n",
              "\n",
              "      <script>\n",
              "        const buttonEl =\n",
              "          document.querySelector('#df-ff503b93-6ab9-4132-9a19-f7975d19c151 button.colab-df-convert');\n",
              "        buttonEl.style.display =\n",
              "          google.colab.kernel.accessAllowed ? 'block' : 'none';\n",
              "\n",
              "        async function convertToInteractive(key) {\n",
              "          const element = document.querySelector('#df-ff503b93-6ab9-4132-9a19-f7975d19c151');\n",
              "          const dataTable =\n",
              "            await google.colab.kernel.invokeFunction('convertToInteractive',\n",
              "                                                     [key], {});\n",
              "          if (!dataTable) return;\n",
              "\n",
              "          const docLinkHtml = 'Like what you see? Visit the ' +\n",
              "            '<a target=\"_blank\" href=https://colab.research.google.com/notebooks/data_table.ipynb>data table notebook</a>'\n",
              "            + ' to learn more about interactive tables.';\n",
              "          element.innerHTML = '';\n",
              "          dataTable['output_type'] = 'display_data';\n",
              "          await google.colab.output.renderOutput(dataTable, element);\n",
              "          const docLink = document.createElement('div');\n",
              "          docLink.innerHTML = docLinkHtml;\n",
              "          element.appendChild(docLink);\n",
              "        }\n",
              "      </script>\n",
              "    </div>\n",
              "  </div>\n",
              "  "
            ]
          },
          "metadata": {},
          "execution_count": 14
        }
      ]
    },
    {
      "cell_type": "code",
      "source": [
        "df.shape"
      ],
      "metadata": {
        "colab": {
          "base_uri": "https://localhost:8080/"
        },
        "id": "XnrMLZd8wua-",
        "outputId": "ae8e6001-7214-42fe-a255-9925eb18de59"
      },
      "execution_count": null,
      "outputs": [
        {
          "output_type": "execute_result",
          "data": {
            "text/plain": [
              "(76829, 30)"
            ]
          },
          "metadata": {},
          "execution_count": 15
        }
      ]
    },
    {
      "cell_type": "code",
      "source": [
        "# drop duplicates\n",
        "if df.shape[0] == df.drop_duplicates().shape[0] :\n",
        "    print('No duplicates Found')\n",
        "else:\n",
        "    duplicates = df.shape[0] - df.drop_duplicates().shape[0]\n",
        "    print('{} duplicates found'.format(duplicates))"
      ],
      "metadata": {
        "colab": {
          "base_uri": "https://localhost:8080/"
        },
        "id": "R79B_o5dLPOR",
        "outputId": "97e02076-190f-402b-d408-4e158a7a48fd"
      },
      "execution_count": null,
      "outputs": [
        {
          "output_type": "stream",
          "name": "stdout",
          "text": [
            "6821 duplicates found\n"
          ]
        }
      ]
    },
    {
      "cell_type": "code",
      "source": [
        "df = df.drop_duplicates()"
      ],
      "metadata": {
        "id": "LXYXOxXmLdNL"
      },
      "execution_count": null,
      "outputs": []
    },
    {
      "cell_type": "code",
      "source": [
        "#NAN values\n",
        "df.isna().sum()\n"
      ],
      "metadata": {
        "colab": {
          "base_uri": "https://localhost:8080/"
        },
        "id": "Z-mmt6a3Lm47",
        "outputId": "8cad12a1-d5b5-42b5-c89d-9c204de6f4c9"
      },
      "execution_count": null,
      "outputs": [
        {
          "output_type": "execute_result",
          "data": {
            "text/plain": [
              "city                                0\n",
              "category_name                      83\n",
              "product_id                          0\n",
              "amount                              0\n",
              "device                              0\n",
              "customer_ip                         0\n",
              "customer_id                         0\n",
              "payment_method_provider             0\n",
              "payment_method_bin                 46\n",
              "payment_method_type                61\n",
              "payment_method_product           1886\n",
              "payment_method_card_category     2413\n",
              "payment_method_issuer_bank       2838\n",
              "payment_method_issuer_country      66\n",
              "is_fraudulent                       0\n",
              "time_diff                           0\n",
              "created_at_hod_sin                  0\n",
              "created_at_hod_cos                  0\n",
              "created_dom_sin                     0\n",
              "created_dom_cos                     0\n",
              "created_dow_sin                     0\n",
              "created_dow_cos                     0\n",
              "created_wom_sin                     0\n",
              "created_wom_cos                     0\n",
              "experience_dom_sin                  0\n",
              "experience_dom_cos                  0\n",
              "experience_dow_sin                  0\n",
              "experience_dow_cos                  0\n",
              "experience_wom_sin                  0\n",
              "experience_wom_cos                  0\n",
              "dtype: int64"
            ]
          },
          "metadata": {},
          "execution_count": 204
        }
      ]
    },
    {
      "cell_type": "code",
      "source": [
        "df = df.dropna(axis = 0, how= 'any', \n",
        "               subset = ['payment_method_issuer_bank','payment_method_product', 'payment_method_card_category'])"
      ],
      "metadata": {
        "id": "SbI0P4EfL99_"
      },
      "execution_count": null,
      "outputs": []
    },
    {
      "cell_type": "code",
      "source": [
        "df.isna().sum()\n"
      ],
      "metadata": {
        "colab": {
          "base_uri": "https://localhost:8080/"
        },
        "id": "jGV0BtdxMH0s",
        "outputId": "610f5cde-3e20-4b90-90e9-93b4cfcf2a16"
      },
      "execution_count": null,
      "outputs": [
        {
          "output_type": "execute_result",
          "data": {
            "text/plain": [
              "city                              0\n",
              "category_name                    75\n",
              "product_id                        0\n",
              "amount                            0\n",
              "device                            0\n",
              "customer_ip                       0\n",
              "customer_id                       0\n",
              "payment_method_provider           0\n",
              "payment_method_bin                0\n",
              "payment_method_type               0\n",
              "payment_method_product            0\n",
              "payment_method_card_category      0\n",
              "payment_method_issuer_bank        0\n",
              "payment_method_issuer_country    11\n",
              "is_fraudulent                     0\n",
              "time_diff                         0\n",
              "created_at_hod_sin                0\n",
              "created_at_hod_cos                0\n",
              "created_dom_sin                   0\n",
              "created_dom_cos                   0\n",
              "created_dow_sin                   0\n",
              "created_dow_cos                   0\n",
              "created_wom_sin                   0\n",
              "created_wom_cos                   0\n",
              "experience_dom_sin                0\n",
              "experience_dom_cos                0\n",
              "experience_dow_sin                0\n",
              "experience_dow_cos                0\n",
              "experience_wom_sin                0\n",
              "experience_wom_cos                0\n",
              "dtype: int64"
            ]
          },
          "metadata": {},
          "execution_count": 19
        }
      ]
    },
    {
      "cell_type": "code",
      "source": [
        "df['category_name']"
      ],
      "metadata": {
        "colab": {
          "base_uri": "https://localhost:8080/"
        },
        "id": "AASh9gkUMVxe",
        "outputId": "1e8190d0-ecfa-43ce-ca3e-0e87319220e8"
      },
      "execution_count": null,
      "outputs": [
        {
          "output_type": "execute_result",
          "data": {
            "text/plain": [
              "0                      Singapore Zoo\n",
              "2                        Dubai Frame\n",
              "3                Singapore Cable Car\n",
              "4        Universal Studios Singapore\n",
              "6                    Trickeye Museum\n",
              "                    ...             \n",
              "76822             At The Top Tickets\n",
              "76823           Dubai Dinner Cruises\n",
              "76824                 Dubai Aquarium\n",
              "76825                 Dubai Aquarium\n",
              "76828      Lifestyle & Entertainment\n",
              "Name: category_name, Length: 63344, dtype: object"
            ]
          },
          "metadata": {},
          "execution_count": 207
        }
      ]
    },
    {
      "cell_type": "code",
      "source": [
        "# fill other for catgeory_name=null\n",
        "df['category_name'] = df['category_name'].fillna('other')\n"
      ],
      "metadata": {
        "id": "DTaSKBa3MSQr"
      },
      "execution_count": null,
      "outputs": []
    },
    {
      "cell_type": "code",
      "source": [
        "df['payment_method_issuer_country']"
      ],
      "metadata": {
        "colab": {
          "base_uri": "https://localhost:8080/"
        },
        "id": "yfqJbW0OMrS8",
        "outputId": "802d4194-86f3-4092-c211-e1ff3e086e22"
      },
      "execution_count": null,
      "outputs": [
        {
          "output_type": "execute_result",
          "data": {
            "text/plain": [
              "0                   Singapore\n",
              "1                   Singapore\n",
              "2                      Brazil\n",
              "3                       India\n",
              "4                      Brunei\n",
              "                 ...         \n",
              "76824                 Hungary\n",
              "76825                  France\n",
              "76826           United States\n",
              "76827    United Arab Emirates\n",
              "76828           United States\n",
              "Name: payment_method_issuer_country, Length: 69547, dtype: object"
            ]
          },
          "metadata": {},
          "execution_count": 21
        }
      ]
    },
    {
      "cell_type": "code",
      "source": [
        "df['payment_method_issuer_country'] = df['payment_method_issuer_country'].fillna('other')\n"
      ],
      "metadata": {
        "id": "ZYqPLH0cMtm4"
      },
      "execution_count": null,
      "outputs": []
    },
    {
      "cell_type": "code",
      "source": [
        "df.isna().sum()"
      ],
      "metadata": {
        "colab": {
          "base_uri": "https://localhost:8080/"
        },
        "id": "WSqiBdfvMx2_",
        "outputId": "d4be763c-075f-4870-a2ce-b3b45160a62f"
      },
      "execution_count": null,
      "outputs": [
        {
          "output_type": "execute_result",
          "data": {
            "text/plain": [
              "city                             0\n",
              "category_name                    0\n",
              "product_id                       0\n",
              "amount                           0\n",
              "device                           0\n",
              "customer_ip                      0\n",
              "customer_id                      0\n",
              "payment_method_provider          0\n",
              "payment_method_bin               0\n",
              "payment_method_type              0\n",
              "payment_method_product           0\n",
              "payment_method_card_category     0\n",
              "payment_method_issuer_bank       0\n",
              "payment_method_issuer_country    0\n",
              "is_fraudulent                    0\n",
              "time_diff                        0\n",
              "created_at_hod_sin               0\n",
              "created_at_hod_cos               0\n",
              "created_dom_sin                  0\n",
              "created_dom_cos                  0\n",
              "created_dow_sin                  0\n",
              "created_dow_cos                  0\n",
              "created_wom_sin                  0\n",
              "created_wom_cos                  0\n",
              "experience_dom_sin               0\n",
              "experience_dom_cos               0\n",
              "experience_dow_sin               0\n",
              "experience_dow_cos               0\n",
              "experience_wom_sin               0\n",
              "experience_wom_cos               0\n",
              "dtype: int64"
            ]
          },
          "metadata": {},
          "execution_count": 23
        }
      ]
    },
    {
      "cell_type": "code",
      "source": [
        "# Dataset\n",
        "X = df.drop(['is_fraudulent'], axis = 1)\n",
        "y = df['is_fraudulent']"
      ],
      "metadata": {
        "id": "zZCbgyX3M2Dj"
      },
      "execution_count": null,
      "outputs": []
    },
    {
      "cell_type": "code",
      "source": [
        "# Train, CV, test split\n",
        "from sklearn.model_selection import train_test_split\n",
        "#0.6, 0.2, 0.2 split\n",
        "\n",
        "X_tr_cv, X_test, y_tr_cv, y_test = train_test_split(X, y, test_size=0.2, random_state=42)\n",
        "\n",
        "X_train, X_val, y_train, y_val = train_test_split(X_tr_cv, y_tr_cv, test_size=0.25, random_state=42) # 0.25 x 0.8 = 0.2"
      ],
      "metadata": {
        "id": "FmJXG9dhNIh1"
      },
      "execution_count": null,
      "outputs": []
    },
    {
      "cell_type": "code",
      "source": [
        "X_train.head()"
      ],
      "metadata": {
        "colab": {
          "base_uri": "https://localhost:8080/",
          "height": 334
        },
        "id": "nJlxfUT34N9F",
        "outputId": "8465e760-8a94-4614-dfaf-13948bf11ea9"
      },
      "execution_count": null,
      "outputs": [
        {
          "output_type": "execute_result",
          "data": {
            "text/plain": [
              "        city            category_name  product_id  amount           device  \\\n",
              "21739  DUBAI           Dubai Aquarium        2545   87.12          DESKTOP   \n",
              "16970  DUBAI               Boat Tours        9387   49.01          IOS_APP   \n",
              "43517  DUBAI  Desert Safaris in Dubai        7456   68.06          DESKTOP   \n",
              "46897  DUBAI       At The Top Tickets        1866   96.93          DESKTOP   \n",
              "73944  DUBAI              Attractions        7210   53.09  HIGH_END_MOBILE   \n",
              "\n",
              "                    customer_ip               customer_id  \\\n",
              "21739  wWJfUhoQCwchmy/3xjNdlA==  aJnycyTV6pNjK2eWk+Qxfw==   \n",
              "16970  BBRWqHvUck2tPR3l3slN5w==  TbCD0Vag9EplxAl8m6jkGg==   \n",
              "43517  EgKAHe+a1s642TtkTB2lmw==  emCZn9kJuGmgQy9aS+LsQg==   \n",
              "46897  q9N9GowseBTMTM4G3xWbKw==  mVx+fGN99N4U1F2E4tUvbA==   \n",
              "73944  Hb00MH7akjKcWnQC9vKOmg==  zqFQtvovB6Q8gPC82ojMLQ==   \n",
              "\n",
              "      payment_method_provider  payment_method_bin payment_method_type  ...  \\\n",
              "21739                    Visa            471386.0              Credit  ...   \n",
              "16970                    Visa            455862.0             Prepaid  ...   \n",
              "43517                    Visa            440066.0              Credit  ...   \n",
              "46897                    Visa            471386.0              Credit  ...   \n",
              "73944                    Visa            443913.0               Debit  ...   \n",
              "\n",
              "      created_dow_sin created_dow_cos created_wom_sin created_wom_cos  \\\n",
              "21739        0.000000             1.0    5.877853e-01       -0.809017   \n",
              "16970        0.000000             1.0   -2.449294e-16        1.000000   \n",
              "43517        0.000000             1.0    5.877853e-01       -0.809017   \n",
              "46897       -0.866025             0.5   -2.449294e-16        1.000000   \n",
              "73944       -0.866025            -0.5   -9.510565e-01        0.309017   \n",
              "\n",
              "       experience_dom_sin  experience_dom_cos  experience_dow_sin  \\\n",
              "21739            0.988468            0.151428        1.224647e-16   \n",
              "16970           -0.201299            0.979530        0.000000e+00   \n",
              "43517           -0.394356            0.918958       -2.449294e-16   \n",
              "46897           -0.394356            0.918958       -2.449294e-16   \n",
              "73944           -0.790776           -0.612106       -8.660254e-01   \n",
              "\n",
              "       experience_dow_cos  experience_wom_sin  experience_wom_cos  \n",
              "21739                -1.0        5.877853e-01           -0.809017  \n",
              "16970                 1.0       -9.510565e-01            0.309017  \n",
              "43517                 1.0       -2.449294e-16            1.000000  \n",
              "46897                 1.0       -2.449294e-16            1.000000  \n",
              "73944                -0.5       -9.510565e-01            0.309017  \n",
              "\n",
              "[5 rows x 29 columns]"
            ],
            "text/html": [
              "\n",
              "  <div id=\"df-ce637cc7-d06a-46b9-9f91-b88269f0f8ae\">\n",
              "    <div class=\"colab-df-container\">\n",
              "      <div>\n",
              "<style scoped>\n",
              "    .dataframe tbody tr th:only-of-type {\n",
              "        vertical-align: middle;\n",
              "    }\n",
              "\n",
              "    .dataframe tbody tr th {\n",
              "        vertical-align: top;\n",
              "    }\n",
              "\n",
              "    .dataframe thead th {\n",
              "        text-align: right;\n",
              "    }\n",
              "</style>\n",
              "<table border=\"1\" class=\"dataframe\">\n",
              "  <thead>\n",
              "    <tr style=\"text-align: right;\">\n",
              "      <th></th>\n",
              "      <th>city</th>\n",
              "      <th>category_name</th>\n",
              "      <th>product_id</th>\n",
              "      <th>amount</th>\n",
              "      <th>device</th>\n",
              "      <th>customer_ip</th>\n",
              "      <th>customer_id</th>\n",
              "      <th>payment_method_provider</th>\n",
              "      <th>payment_method_bin</th>\n",
              "      <th>payment_method_type</th>\n",
              "      <th>...</th>\n",
              "      <th>created_dow_sin</th>\n",
              "      <th>created_dow_cos</th>\n",
              "      <th>created_wom_sin</th>\n",
              "      <th>created_wom_cos</th>\n",
              "      <th>experience_dom_sin</th>\n",
              "      <th>experience_dom_cos</th>\n",
              "      <th>experience_dow_sin</th>\n",
              "      <th>experience_dow_cos</th>\n",
              "      <th>experience_wom_sin</th>\n",
              "      <th>experience_wom_cos</th>\n",
              "    </tr>\n",
              "  </thead>\n",
              "  <tbody>\n",
              "    <tr>\n",
              "      <th>21739</th>\n",
              "      <td>DUBAI</td>\n",
              "      <td>Dubai Aquarium</td>\n",
              "      <td>2545</td>\n",
              "      <td>87.12</td>\n",
              "      <td>DESKTOP</td>\n",
              "      <td>wWJfUhoQCwchmy/3xjNdlA==</td>\n",
              "      <td>aJnycyTV6pNjK2eWk+Qxfw==</td>\n",
              "      <td>Visa</td>\n",
              "      <td>471386.0</td>\n",
              "      <td>Credit</td>\n",
              "      <td>...</td>\n",
              "      <td>0.000000</td>\n",
              "      <td>1.0</td>\n",
              "      <td>5.877853e-01</td>\n",
              "      <td>-0.809017</td>\n",
              "      <td>0.988468</td>\n",
              "      <td>0.151428</td>\n",
              "      <td>1.224647e-16</td>\n",
              "      <td>-1.0</td>\n",
              "      <td>5.877853e-01</td>\n",
              "      <td>-0.809017</td>\n",
              "    </tr>\n",
              "    <tr>\n",
              "      <th>16970</th>\n",
              "      <td>DUBAI</td>\n",
              "      <td>Boat Tours</td>\n",
              "      <td>9387</td>\n",
              "      <td>49.01</td>\n",
              "      <td>IOS_APP</td>\n",
              "      <td>BBRWqHvUck2tPR3l3slN5w==</td>\n",
              "      <td>TbCD0Vag9EplxAl8m6jkGg==</td>\n",
              "      <td>Visa</td>\n",
              "      <td>455862.0</td>\n",
              "      <td>Prepaid</td>\n",
              "      <td>...</td>\n",
              "      <td>0.000000</td>\n",
              "      <td>1.0</td>\n",
              "      <td>-2.449294e-16</td>\n",
              "      <td>1.000000</td>\n",
              "      <td>-0.201299</td>\n",
              "      <td>0.979530</td>\n",
              "      <td>0.000000e+00</td>\n",
              "      <td>1.0</td>\n",
              "      <td>-9.510565e-01</td>\n",
              "      <td>0.309017</td>\n",
              "    </tr>\n",
              "    <tr>\n",
              "      <th>43517</th>\n",
              "      <td>DUBAI</td>\n",
              "      <td>Desert Safaris in Dubai</td>\n",
              "      <td>7456</td>\n",
              "      <td>68.06</td>\n",
              "      <td>DESKTOP</td>\n",
              "      <td>EgKAHe+a1s642TtkTB2lmw==</td>\n",
              "      <td>emCZn9kJuGmgQy9aS+LsQg==</td>\n",
              "      <td>Visa</td>\n",
              "      <td>440066.0</td>\n",
              "      <td>Credit</td>\n",
              "      <td>...</td>\n",
              "      <td>0.000000</td>\n",
              "      <td>1.0</td>\n",
              "      <td>5.877853e-01</td>\n",
              "      <td>-0.809017</td>\n",
              "      <td>-0.394356</td>\n",
              "      <td>0.918958</td>\n",
              "      <td>-2.449294e-16</td>\n",
              "      <td>1.0</td>\n",
              "      <td>-2.449294e-16</td>\n",
              "      <td>1.000000</td>\n",
              "    </tr>\n",
              "    <tr>\n",
              "      <th>46897</th>\n",
              "      <td>DUBAI</td>\n",
              "      <td>At The Top Tickets</td>\n",
              "      <td>1866</td>\n",
              "      <td>96.93</td>\n",
              "      <td>DESKTOP</td>\n",
              "      <td>q9N9GowseBTMTM4G3xWbKw==</td>\n",
              "      <td>mVx+fGN99N4U1F2E4tUvbA==</td>\n",
              "      <td>Visa</td>\n",
              "      <td>471386.0</td>\n",
              "      <td>Credit</td>\n",
              "      <td>...</td>\n",
              "      <td>-0.866025</td>\n",
              "      <td>0.5</td>\n",
              "      <td>-2.449294e-16</td>\n",
              "      <td>1.000000</td>\n",
              "      <td>-0.394356</td>\n",
              "      <td>0.918958</td>\n",
              "      <td>-2.449294e-16</td>\n",
              "      <td>1.0</td>\n",
              "      <td>-2.449294e-16</td>\n",
              "      <td>1.000000</td>\n",
              "    </tr>\n",
              "    <tr>\n",
              "      <th>73944</th>\n",
              "      <td>DUBAI</td>\n",
              "      <td>Attractions</td>\n",
              "      <td>7210</td>\n",
              "      <td>53.09</td>\n",
              "      <td>HIGH_END_MOBILE</td>\n",
              "      <td>Hb00MH7akjKcWnQC9vKOmg==</td>\n",
              "      <td>zqFQtvovB6Q8gPC82ojMLQ==</td>\n",
              "      <td>Visa</td>\n",
              "      <td>443913.0</td>\n",
              "      <td>Debit</td>\n",
              "      <td>...</td>\n",
              "      <td>-0.866025</td>\n",
              "      <td>-0.5</td>\n",
              "      <td>-9.510565e-01</td>\n",
              "      <td>0.309017</td>\n",
              "      <td>-0.790776</td>\n",
              "      <td>-0.612106</td>\n",
              "      <td>-8.660254e-01</td>\n",
              "      <td>-0.5</td>\n",
              "      <td>-9.510565e-01</td>\n",
              "      <td>0.309017</td>\n",
              "    </tr>\n",
              "  </tbody>\n",
              "</table>\n",
              "<p>5 rows × 29 columns</p>\n",
              "</div>\n",
              "      <button class=\"colab-df-convert\" onclick=\"convertToInteractive('df-ce637cc7-d06a-46b9-9f91-b88269f0f8ae')\"\n",
              "              title=\"Convert this dataframe to an interactive table.\"\n",
              "              style=\"display:none;\">\n",
              "        \n",
              "  <svg xmlns=\"http://www.w3.org/2000/svg\" height=\"24px\"viewBox=\"0 0 24 24\"\n",
              "       width=\"24px\">\n",
              "    <path d=\"M0 0h24v24H0V0z\" fill=\"none\"/>\n",
              "    <path d=\"M18.56 5.44l.94 2.06.94-2.06 2.06-.94-2.06-.94-.94-2.06-.94 2.06-2.06.94zm-11 1L8.5 8.5l.94-2.06 2.06-.94-2.06-.94L8.5 2.5l-.94 2.06-2.06.94zm10 10l.94 2.06.94-2.06 2.06-.94-2.06-.94-.94-2.06-.94 2.06-2.06.94z\"/><path d=\"M17.41 7.96l-1.37-1.37c-.4-.4-.92-.59-1.43-.59-.52 0-1.04.2-1.43.59L10.3 9.45l-7.72 7.72c-.78.78-.78 2.05 0 2.83L4 21.41c.39.39.9.59 1.41.59.51 0 1.02-.2 1.41-.59l7.78-7.78 2.81-2.81c.8-.78.8-2.07 0-2.86zM5.41 20L4 18.59l7.72-7.72 1.47 1.35L5.41 20z\"/>\n",
              "  </svg>\n",
              "      </button>\n",
              "      \n",
              "  <style>\n",
              "    .colab-df-container {\n",
              "      display:flex;\n",
              "      flex-wrap:wrap;\n",
              "      gap: 12px;\n",
              "    }\n",
              "\n",
              "    .colab-df-convert {\n",
              "      background-color: #E8F0FE;\n",
              "      border: none;\n",
              "      border-radius: 50%;\n",
              "      cursor: pointer;\n",
              "      display: none;\n",
              "      fill: #1967D2;\n",
              "      height: 32px;\n",
              "      padding: 0 0 0 0;\n",
              "      width: 32px;\n",
              "    }\n",
              "\n",
              "    .colab-df-convert:hover {\n",
              "      background-color: #E2EBFA;\n",
              "      box-shadow: 0px 1px 2px rgba(60, 64, 67, 0.3), 0px 1px 3px 1px rgba(60, 64, 67, 0.15);\n",
              "      fill: #174EA6;\n",
              "    }\n",
              "\n",
              "    [theme=dark] .colab-df-convert {\n",
              "      background-color: #3B4455;\n",
              "      fill: #D2E3FC;\n",
              "    }\n",
              "\n",
              "    [theme=dark] .colab-df-convert:hover {\n",
              "      background-color: #434B5C;\n",
              "      box-shadow: 0px 1px 3px 1px rgba(0, 0, 0, 0.15);\n",
              "      filter: drop-shadow(0px 1px 2px rgba(0, 0, 0, 0.3));\n",
              "      fill: #FFFFFF;\n",
              "    }\n",
              "  </style>\n",
              "\n",
              "      <script>\n",
              "        const buttonEl =\n",
              "          document.querySelector('#df-ce637cc7-d06a-46b9-9f91-b88269f0f8ae button.colab-df-convert');\n",
              "        buttonEl.style.display =\n",
              "          google.colab.kernel.accessAllowed ? 'block' : 'none';\n",
              "\n",
              "        async function convertToInteractive(key) {\n",
              "          const element = document.querySelector('#df-ce637cc7-d06a-46b9-9f91-b88269f0f8ae');\n",
              "          const dataTable =\n",
              "            await google.colab.kernel.invokeFunction('convertToInteractive',\n",
              "                                                     [key], {});\n",
              "          if (!dataTable) return;\n",
              "\n",
              "          const docLinkHtml = 'Like what you see? Visit the ' +\n",
              "            '<a target=\"_blank\" href=https://colab.research.google.com/notebooks/data_table.ipynb>data table notebook</a>'\n",
              "            + ' to learn more about interactive tables.';\n",
              "          element.innerHTML = '';\n",
              "          dataTable['output_type'] = 'display_data';\n",
              "          await google.colab.output.renderOutput(dataTable, element);\n",
              "          const docLink = document.createElement('div');\n",
              "          docLink.innerHTML = docLinkHtml;\n",
              "          element.appendChild(docLink);\n",
              "        }\n",
              "      </script>\n",
              "    </div>\n",
              "  </div>\n",
              "  "
            ]
          },
          "metadata": {},
          "execution_count": 26
        }
      ]
    },
    {
      "cell_type": "code",
      "source": [
        "set(X.columns) - set(X.select_dtypes(['number']).columns)"
      ],
      "metadata": {
        "colab": {
          "base_uri": "https://localhost:8080/"
        },
        "id": "0-rYN0wF4vqw",
        "outputId": "a642afba-fe79-46ea-852d-5e0d9083f4dd"
      },
      "execution_count": null,
      "outputs": [
        {
          "output_type": "execute_result",
          "data": {
            "text/plain": [
              "{'category_name',\n",
              " 'city',\n",
              " 'customer_id',\n",
              " 'customer_ip',\n",
              " 'device',\n",
              " 'payment_method_card_category',\n",
              " 'payment_method_issuer_bank',\n",
              " 'payment_method_issuer_country',\n",
              " 'payment_method_product',\n",
              " 'payment_method_provider',\n",
              " 'payment_method_type'}"
            ]
          },
          "metadata": {},
          "execution_count": 27
        }
      ]
    },
    {
      "cell_type": "code",
      "source": [
        "# Target encoding using mean \n",
        "#\n",
        "ce_target = ce.TargetEncoder(cols = ['category_name','city','customer_id','customer_ip','device','payment_method_card_category','payment_method_issuer_bank','payment_method_issuer_country','payment_method_product','payment_method_provider','payment_method_type'])\n",
        "X_train = ce_target.fit_transform(X_train, y_train)"
      ],
      "metadata": {
        "id": "EdTxl8iPNcXQ"
      },
      "execution_count": null,
      "outputs": []
    },
    {
      "cell_type": "code",
      "source": [
        "X_val = ce_target.transform(X_val)\n",
        "X_test = ce_target.transform(X_test)"
      ],
      "metadata": {
        "id": "xGwDDiXTNq8W"
      },
      "execution_count": null,
      "outputs": []
    },
    {
      "cell_type": "code",
      "source": [
        "# Hyper-pram tuning\n",
        "from sklearn.linear_model import LogisticRegression\n",
        "from sklearn.pipeline import make_pipeline\n",
        "from sklearn.metrics import f1_score\n",
        "\n",
        "train_scores = []\n",
        "val_scores = []\n",
        "scaler = StandardScaler()\n",
        "l=0.01\n",
        "h= 1000.0\n",
        "d=50.0\n",
        "\n",
        "for la in np.arange(l,h,d):\n",
        "  scaled_lr = make_pipeline( scaler, LogisticRegression(C=1/la))\n",
        "  scaled_lr.fit(X_train, y_train)\n",
        "  train_y_pred = scaled_lr.predict(X_train)\n",
        "  val_y_pred = scaled_lr.predict(X_val)\n",
        "  train_score = f1_score(y_train, train_y_pred)\n",
        "  val_score = f1_score(y_val, val_y_pred)\n",
        "  train_scores.append(train_score)\n",
        "  val_scores.append(val_score)"
      ],
      "metadata": {
        "id": "NepeZJCD5q1A"
      },
      "execution_count": null,
      "outputs": []
    },
    {
      "cell_type": "code",
      "source": [
        "plt.figure()\n",
        "plt.plot(list(np.arange(l,h,d)), train_scores, label=\"train\")\n",
        "plt.plot(list(np.arange(l,h,d)), val_scores, label=\"val\")\n",
        "plt.legend(loc='lower right')\n",
        "plt.xlabel(\"lambda\")\n",
        "plt.ylabel(\"F1-Score\")\n",
        "plt.grid()\n",
        "plt.show()"
      ],
      "metadata": {
        "colab": {
          "base_uri": "https://localhost:8080/",
          "height": 279
        },
        "id": "9qruNnDg6l7x",
        "outputId": "0ebc7516-8e9a-46f5-93bf-cf338a202fc5"
      },
      "execution_count": null,
      "outputs": [
        {
          "output_type": "display_data",
          "data": {
            "text/plain": [
              "<Figure size 432x288 with 1 Axes>"
            ],
            "image/png": "[encoded data removed]"
          },
          "metadata": {
            "needs_background": "light"
          }
        }
      ]
    },
    {
      "cell_type": "code",
      "source": [
        "# minority class needs more re-weighting\n",
        "\n",
        "# Hyper-pram tuning\n",
        "from sklearn.linear_model import LogisticRegression\n",
        "from sklearn.pipeline import make_pipeline\n",
        "from sklearn.metrics import f1_score\n",
        "\n",
        "train_scores = []\n",
        "val_scores = []\n",
        "scaler = StandardScaler()\n",
        "l=0.01\n",
        "h= 1000.0\n",
        "d=50.0\n",
        "\n",
        "for la in np.arange(l,h,d):\n",
        "  scaled_lr = make_pipeline( scaler, LogisticRegression(C=1/la, class_weight={ 0:0.1, 1:0.9 }))\n",
        "  scaled_lr.fit(X_train, y_train)\n",
        "  train_y_pred = scaled_lr.predict(X_train)\n",
        "  val_y_pred = scaled_lr.predict(X_val)\n",
        "  train_score = f1_score(y_train, train_y_pred)\n",
        "  val_score = f1_score(y_val, val_y_pred)\n",
        "  train_scores.append(train_score)\n",
        "  val_scores.append(val_score)\n",
        "\n",
        "#plotting\n",
        "plt.figure()\n",
        "plt.plot(list(np.arange(l,h,d)), train_scores, label=\"train\")\n",
        "plt.plot(list(np.arange(l,h,d)), val_scores, label=\"val\")\n",
        "plt.legend(loc='lower right')\n",
        "plt.xlabel(\"lambda\")\n",
        "plt.ylabel(\"F1-Score\")\n",
        "plt.grid()\n",
        "plt.show()"
      ],
      "metadata": {
        "colab": {
          "base_uri": "https://localhost:8080/",
          "height": 279
        },
        "id": "AuEbc_vF8Rt3",
        "outputId": "0b498f6f-1b23-4438-cacc-cfe4fc863948"
      },
      "execution_count": null,
      "outputs": [
        {
          "output_type": "display_data",
          "data": {
            "text/plain": [
              "<Figure size 432x288 with 1 Axes>"
            ],
            "image/png": "[encoded data removed]"
          },
          "metadata": {
            "needs_background": "light"
          }
        }
      ]
    },
    {
      "cell_type": "code",
      "source": [
        "# minority class needs more weighting\n",
        "\n",
        "# Hyper-pram tuning\n",
        "from sklearn.linear_model import LogisticRegression\n",
        "from sklearn.pipeline import make_pipeline\n",
        "from sklearn.metrics import f1_score\n",
        "\n",
        "train_scores = []\n",
        "val_scores = []\n",
        "scaler = StandardScaler()\n",
        "l=0.01\n",
        "h= 1000.0\n",
        "d=50.0\n",
        "\n",
        "for la in np.arange(l,h,d):\n",
        "  scaled_lr = make_pipeline( scaler, LogisticRegression(C=1/la, class_weight={ 0:0.1, 1:0.9 }))\n",
        "  scaled_lr.fit(X_train, y_train)\n",
        "  train_y_pred = scaled_lr.predict(X_train)\n",
        "  val_y_pred = scaled_lr.predict(X_val)\n",
        "  train_score = f1_score(y_train, train_y_pred)\n",
        "  val_score = f1_score(y_val, val_y_pred)\n",
        "  train_scores.append(train_score)\n",
        "  val_scores.append(val_score)\n",
        "\n",
        "#plotting\n",
        "plt.figure()\n",
        "plt.plot(list(np.arange(l,h,d)), train_scores, label=\"train\")\n",
        "plt.plot(list(np.arange(l,h,d)), val_scores, label=\"val\")\n",
        "plt.legend(loc='lower right')\n",
        "plt.xlabel(\"lambda\")\n",
        "plt.ylabel(\"F1-Score\")\n",
        "plt.grid()\n",
        "plt.show()"
      ],
      "metadata": {
        "id": "xRwavoQ08nIc",
        "colab": {
          "base_uri": "https://localhost:8080/",
          "height": 279
        },
        "outputId": "dfe5300a-9e7e-46e6-c1a8-651f3fd37534"
      },
      "execution_count": null,
      "outputs": [
        {
          "output_type": "display_data",
          "data": {
            "text/plain": [
              "<Figure size 432x288 with 1 Axes>"
            ],
            "image/png": "[encoded data removed]"
          },
          "metadata": {
            "needs_background": "light"
          }
        }
      ]
    },
    {
      "cell_type": "code",
      "source": [
        "# minority class needs more weighting\n",
        "\n",
        "# Hyper-pram tuning\n",
        "from sklearn.linear_model import LogisticRegression\n",
        "from sklearn.pipeline import make_pipeline\n",
        "from sklearn.metrics import f1_score\n",
        "\n",
        "train_scores = []\n",
        "val_scores = []\n",
        "scaler = StandardScaler()\n",
        "l=0.01\n",
        "h= 10000.0 # change to 10000.0\n",
        "d=500.0 # change to 500.0\n",
        "\n",
        "for la in np.arange(l,h,d):\n",
        "  scaled_lr = make_pipeline( scaler, LogisticRegression(C=1/la, class_weight={ 0:0.01, 1:0.75 }))\n",
        "  scaled_lr.fit(X_train, y_train)\n",
        "  train_y_pred = scaled_lr.predict(X_train)\n",
        "  val_y_pred = scaled_lr.predict(X_val)\n",
        "  train_score = f1_score(y_train, train_y_pred)\n",
        "  val_score = f1_score(y_val, val_y_pred)\n",
        "  train_scores.append(train_score)\n",
        "  val_scores.append(val_score)\n",
        "\n",
        "#plotting\n",
        "plt.figure()\n",
        "plt.plot(list(np.arange(l,h,d)), train_scores, label=\"train\")\n",
        "plt.plot(list(np.arange(l,h,d)), val_scores, label=\"val\")\n",
        "plt.legend(loc='lower right')\n",
        "plt.xlabel(\"lambda\")\n",
        "plt.ylabel(\"F1-Score\")\n",
        "plt.grid()\n",
        "plt.show()"
      ],
      "metadata": {
        "colab": {
          "base_uri": "https://localhost:8080/",
          "height": 279
        },
        "id": "_s4jB_N49xYb",
        "outputId": "92d16519-9b17-4361-9978-a4bd3509691e"
      },
      "execution_count": null,
      "outputs": [
        {
          "output_type": "display_data",
          "data": {
            "text/plain": [
              "<Figure size 432x288 with 1 Axes>"
            ],
            "image/png": "[encoded data removed]"
          },
          "metadata": {
            "needs_background": "light"
          }
        }
      ]
    },
    {
      "cell_type": "code",
      "source": [
        "best_idx = np.argmax(val_scores)\n",
        "print(val_scores[best_idx])"
      ],
      "metadata": {
        "colab": {
          "base_uri": "https://localhost:8080/"
        },
        "id": "MUgn2VXV-aFV",
        "outputId": "621445a7-96f4-4e84-ca9f-1d67f2061833"
      },
      "execution_count": null,
      "outputs": [
        {
          "output_type": "stream",
          "name": "stdout",
          "text": [
            "0.6283662477558348\n"
          ]
        }
      ]
    },
    {
      "cell_type": "code",
      "source": [
        "# Model with lambda_best\n",
        "best_idx = np.argmax(val_scores)\n",
        "l_best = l+d*best_idx\n",
        "scaled_lr = make_pipeline( scaler, LogisticRegression(C=1/l_best, class_weight={ 0:0.01, 1:0.75 }))\n",
        "scaled_lr.fit(X_train, y_train)\n",
        "\n",
        "y_pred_test = scaled_lr.predict(X_test)\n",
        "test_score = f1_score(y_test, y_pred_test)\n",
        "\n",
        "print(test_score)\n"
      ],
      "metadata": {
        "colab": {
          "base_uri": "https://localhost:8080/"
        },
        "id": "6JCNstdeufRd",
        "outputId": "c56e43ac-8275-4ad6-8db0-82676e89dce7"
      },
      "execution_count": null,
      "outputs": [
        {
          "output_type": "stream",
          "name": "stdout",
          "text": [
            "0.6007751937984496\n"
          ]
        }
      ]
    },
    {
      "cell_type": "code",
      "source": [
        "confusion_matrix(y_test, y_pred_test)"
      ],
      "metadata": {
        "id": "JM5J906__gLj",
        "outputId": "8ab94a3c-66e0-41ca-8bc3-97262361cf2c",
        "colab": {
          "base_uri": "https://localhost:8080/"
        }
      },
      "execution_count": null,
      "outputs": [
        {
          "output_type": "execute_result",
          "data": {
            "text/plain": [
              "array([[13549,   175],\n",
              "       [   31,   155]])"
            ]
          },
          "metadata": {},
          "execution_count": 34
        }
      ]
    },
    {
      "cell_type": "code",
      "source": [
        "# minority class needs more weighting\n",
        "\n",
        "# Hyper-pram tuning\n",
        "from sklearn.linear_model import LogisticRegression\n",
        "from sklearn.pipeline import make_pipeline\n",
        "from sklearn.metrics import f1_score\n",
        "\n",
        "train_scores = []\n",
        "val_scores = []\n",
        "scaler = StandardScaler()\n",
        "l=0.01\n",
        "h= 10000.0 # change to 10000.0\n",
        "d=500.0 # change to 500.0\n",
        "\n",
        "for la in np.arange(l,h,d):\n",
        "  scaled_lr = make_pipeline( scaler, LogisticRegression(C=1/la, class_weight={ 0:0.001, 1:0.2 }))\n",
        "  scaled_lr.fit(X_train, y_train)\n",
        "  train_y_pred = scaled_lr.predict(X_train)\n",
        "  val_y_pred = scaled_lr.predict(X_val)\n",
        "  train_score = f1_score(y_train, train_y_pred)\n",
        "  val_score = f1_score(y_val, val_y_pred)\n",
        "  train_scores.append(train_score)\n",
        "  val_scores.append(val_score)\n",
        "\n",
        "#plotting\n",
        "plt.figure()\n",
        "plt.plot(list(np.arange(l,h,d)), train_scores, label=\"train\")\n",
        "plt.plot(list(np.arange(l,h,d)), val_scores, label=\"val\")\n",
        "plt.legend(loc='lower right')\n",
        "plt.xlabel(\"lambda\")\n",
        "plt.ylabel(\"F1-Score\")\n",
        "plt.grid()\n",
        "plt.show()"
      ],
      "metadata": {
        "colab": {
          "base_uri": "https://localhost:8080/",
          "height": 279
        },
        "id": "-BsklhG4-zo4",
        "outputId": "9092ec84-da25-4068-c3ae-7d0286a77400"
      },
      "execution_count": null,
      "outputs": [
        {
          "output_type": "display_data",
          "data": {
            "text/plain": [
              "<Figure size 432x288 with 1 Axes>"
            ],
            "image/png": "[encoded data removed]"
          },
          "metadata": {
            "needs_background": "light"
          }
        }
      ]
    },
    {
      "cell_type": "code",
      "source": [
        "# Alternatives metrics for imbalanced data:\n",
        "# Brier-Score: 1/n*SUM[Y_i - Y_i_hat]^2 = AVG Squared Error\n",
        "# G-mean: SQRT(Sensitivity * Specificity)=SQRT(TPR*TNR) ----Seldom used"
      ],
      "metadata": {
        "id": "2YcCAJ_JAxWp"
      },
      "execution_count": null,
      "outputs": []
    },
    {
      "cell_type": "code",
      "source": [],
      "metadata": {
        "id": "G5CywEEoQTVJ"
      },
      "execution_count": null,
      "outputs": []
    }
  ]
}