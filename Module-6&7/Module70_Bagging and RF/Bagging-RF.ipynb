{
 "cells": [
  {
   "cell_type": "code",
   "execution_count": 1,
   "id": "2a2ee94e-92d7-4688-900d-30113237457f",
   "metadata": {},
   "outputs": [],
   "source": [
    "# Importing the required libraries\n",
    "import pandas as pd\n",
    "import numpy as np\n",
    "import matplotlib.pyplot as plt\n",
    "import seaborn as sns\n",
    "%matplotlib inline\n"
   ]
  },
  {
   "cell_type": "code",
   "execution_count": 16,
   "id": "3ebc6c18-77c6-4653-9298-37e7590c620a",
   "metadata": {},
   "outputs": [
    {
     "data": {
      "text/html": [
       "<div>\n",
       "<style scoped>\n",
       "    .dataframe tbody tr th:only-of-type {\n",
       "        vertical-align: middle;\n",
       "    }\n",
       "\n",
       "    .dataframe tbody tr th {\n",
       "        vertical-align: top;\n",
       "    }\n",
       "\n",
       "    .dataframe thead th {\n",
       "        text-align: right;\n",
       "    }\n",
       "</style>\n",
       "<table border=\"1\" class=\"dataframe\">\n",
       "  <thead>\n",
       "    <tr style=\"text-align: right;\">\n",
       "      <th></th>\n",
       "      <th>ID</th>\n",
       "      <th>LIMIT_BAL</th>\n",
       "      <th>SEX</th>\n",
       "      <th>EDUCATION</th>\n",
       "      <th>MARRIAGE</th>\n",
       "      <th>AGE</th>\n",
       "      <th>PAY_0</th>\n",
       "      <th>PAY_2</th>\n",
       "      <th>PAY_3</th>\n",
       "      <th>PAY_4</th>\n",
       "      <th>...</th>\n",
       "      <th>BILL_AMT4</th>\n",
       "      <th>BILL_AMT5</th>\n",
       "      <th>BILL_AMT6</th>\n",
       "      <th>PAY_AMT1</th>\n",
       "      <th>PAY_AMT2</th>\n",
       "      <th>PAY_AMT3</th>\n",
       "      <th>PAY_AMT4</th>\n",
       "      <th>PAY_AMT5</th>\n",
       "      <th>PAY_AMT6</th>\n",
       "      <th>defaulted</th>\n",
       "    </tr>\n",
       "  </thead>\n",
       "  <tbody>\n",
       "    <tr>\n",
       "      <th>0</th>\n",
       "      <td>1</td>\n",
       "      <td>20000</td>\n",
       "      <td>2</td>\n",
       "      <td>2</td>\n",
       "      <td>1</td>\n",
       "      <td>24</td>\n",
       "      <td>2</td>\n",
       "      <td>2</td>\n",
       "      <td>-1</td>\n",
       "      <td>-1</td>\n",
       "      <td>...</td>\n",
       "      <td>0</td>\n",
       "      <td>0</td>\n",
       "      <td>0</td>\n",
       "      <td>0</td>\n",
       "      <td>689</td>\n",
       "      <td>0</td>\n",
       "      <td>0</td>\n",
       "      <td>0</td>\n",
       "      <td>0</td>\n",
       "      <td>1</td>\n",
       "    </tr>\n",
       "    <tr>\n",
       "      <th>1</th>\n",
       "      <td>2</td>\n",
       "      <td>120000</td>\n",
       "      <td>2</td>\n",
       "      <td>2</td>\n",
       "      <td>2</td>\n",
       "      <td>26</td>\n",
       "      <td>-1</td>\n",
       "      <td>2</td>\n",
       "      <td>0</td>\n",
       "      <td>0</td>\n",
       "      <td>...</td>\n",
       "      <td>3272</td>\n",
       "      <td>3455</td>\n",
       "      <td>3261</td>\n",
       "      <td>0</td>\n",
       "      <td>1000</td>\n",
       "      <td>1000</td>\n",
       "      <td>1000</td>\n",
       "      <td>0</td>\n",
       "      <td>2000</td>\n",
       "      <td>1</td>\n",
       "    </tr>\n",
       "    <tr>\n",
       "      <th>2</th>\n",
       "      <td>3</td>\n",
       "      <td>90000</td>\n",
       "      <td>2</td>\n",
       "      <td>2</td>\n",
       "      <td>2</td>\n",
       "      <td>34</td>\n",
       "      <td>0</td>\n",
       "      <td>0</td>\n",
       "      <td>0</td>\n",
       "      <td>0</td>\n",
       "      <td>...</td>\n",
       "      <td>14331</td>\n",
       "      <td>14948</td>\n",
       "      <td>15549</td>\n",
       "      <td>1518</td>\n",
       "      <td>1500</td>\n",
       "      <td>1000</td>\n",
       "      <td>1000</td>\n",
       "      <td>1000</td>\n",
       "      <td>5000</td>\n",
       "      <td>0</td>\n",
       "    </tr>\n",
       "    <tr>\n",
       "      <th>3</th>\n",
       "      <td>4</td>\n",
       "      <td>50000</td>\n",
       "      <td>2</td>\n",
       "      <td>2</td>\n",
       "      <td>1</td>\n",
       "      <td>37</td>\n",
       "      <td>0</td>\n",
       "      <td>0</td>\n",
       "      <td>0</td>\n",
       "      <td>0</td>\n",
       "      <td>...</td>\n",
       "      <td>28314</td>\n",
       "      <td>28959</td>\n",
       "      <td>29547</td>\n",
       "      <td>2000</td>\n",
       "      <td>2019</td>\n",
       "      <td>1200</td>\n",
       "      <td>1100</td>\n",
       "      <td>1069</td>\n",
       "      <td>1000</td>\n",
       "      <td>0</td>\n",
       "    </tr>\n",
       "    <tr>\n",
       "      <th>4</th>\n",
       "      <td>5</td>\n",
       "      <td>50000</td>\n",
       "      <td>1</td>\n",
       "      <td>2</td>\n",
       "      <td>1</td>\n",
       "      <td>57</td>\n",
       "      <td>-1</td>\n",
       "      <td>0</td>\n",
       "      <td>-1</td>\n",
       "      <td>0</td>\n",
       "      <td>...</td>\n",
       "      <td>20940</td>\n",
       "      <td>19146</td>\n",
       "      <td>19131</td>\n",
       "      <td>2000</td>\n",
       "      <td>36681</td>\n",
       "      <td>10000</td>\n",
       "      <td>9000</td>\n",
       "      <td>689</td>\n",
       "      <td>679</td>\n",
       "      <td>0</td>\n",
       "    </tr>\n",
       "  </tbody>\n",
       "</table>\n",
       "<p>5 rows × 25 columns</p>\n",
       "</div>"
      ],
      "text/plain": [
       "   ID  LIMIT_BAL  SEX  EDUCATION  MARRIAGE  AGE  PAY_0  PAY_2  PAY_3  PAY_4  \\\n",
       "0   1      20000    2          2         1   24      2      2     -1     -1   \n",
       "1   2     120000    2          2         2   26     -1      2      0      0   \n",
       "2   3      90000    2          2         2   34      0      0      0      0   \n",
       "3   4      50000    2          2         1   37      0      0      0      0   \n",
       "4   5      50000    1          2         1   57     -1      0     -1      0   \n",
       "\n",
       "   ...  BILL_AMT4  BILL_AMT5  BILL_AMT6  PAY_AMT1  PAY_AMT2  PAY_AMT3  \\\n",
       "0  ...          0          0          0         0       689         0   \n",
       "1  ...       3272       3455       3261         0      1000      1000   \n",
       "2  ...      14331      14948      15549      1518      1500      1000   \n",
       "3  ...      28314      28959      29547      2000      2019      1200   \n",
       "4  ...      20940      19146      19131      2000     36681     10000   \n",
       "\n",
       "   PAY_AMT4  PAY_AMT5  PAY_AMT6  defaulted  \n",
       "0         0         0         0          1  \n",
       "1      1000         0      2000          1  \n",
       "2      1000      1000      5000          0  \n",
       "3      1100      1069      1000          0  \n",
       "4      9000       689       679          0  \n",
       "\n",
       "[5 rows x 25 columns]"
      ]
     },
     "execution_count": 16,
     "metadata": {},
     "output_type": "execute_result"
    }
   ],
   "source": [
    " df = pd.read_csv('credit-card-default.csv')\n",
    "df.head()"
   ]
  },
  {
   "cell_type": "code",
   "execution_count": 17,
   "id": "2f108df3-8068-4c7e-8431-3b79a4007e75",
   "metadata": {},
   "outputs": [
    {
     "data": {
      "text/plain": [
       "0    23364\n",
       "1     6636\n",
       "Name: defaulted, dtype: int64"
      ]
     },
     "execution_count": 17,
     "metadata": {},
     "output_type": "execute_result"
    }
   ],
   "source": [
    "df.defaulted.value_counts()"
   ]
  },
  {
   "cell_type": "code",
   "execution_count": 4,
   "id": "8401a291-ad08-433b-b734-b8c6ae1fb930",
   "metadata": {},
   "outputs": [
    {
     "name": "stdout",
     "output_type": "stream",
     "text": [
      "<class 'pandas.core.frame.DataFrame'>\n",
      "RangeIndex: 30000 entries, 0 to 29999\n",
      "Data columns (total 25 columns):\n",
      " #   Column     Non-Null Count  Dtype\n",
      "---  ------     --------------  -----\n",
      " 0   ID         30000 non-null  int64\n",
      " 1   LIMIT_BAL  30000 non-null  int64\n",
      " 2   SEX        30000 non-null  int64\n",
      " 3   EDUCATION  30000 non-null  int64\n",
      " 4   MARRIAGE   30000 non-null  int64\n",
      " 5   AGE        30000 non-null  int64\n",
      " 6   PAY_0      30000 non-null  int64\n",
      " 7   PAY_2      30000 non-null  int64\n",
      " 8   PAY_3      30000 non-null  int64\n",
      " 9   PAY_4      30000 non-null  int64\n",
      " 10  PAY_5      30000 non-null  int64\n",
      " 11  PAY_6      30000 non-null  int64\n",
      " 12  BILL_AMT1  30000 non-null  int64\n",
      " 13  BILL_AMT2  30000 non-null  int64\n",
      " 14  BILL_AMT3  30000 non-null  int64\n",
      " 15  BILL_AMT4  30000 non-null  int64\n",
      " 16  BILL_AMT5  30000 non-null  int64\n",
      " 17  BILL_AMT6  30000 non-null  int64\n",
      " 18  PAY_AMT1   30000 non-null  int64\n",
      " 19  PAY_AMT2   30000 non-null  int64\n",
      " 20  PAY_AMT3   30000 non-null  int64\n",
      " 21  PAY_AMT4   30000 non-null  int64\n",
      " 22  PAY_AMT5   30000 non-null  int64\n",
      " 23  PAY_AMT6   30000 non-null  int64\n",
      " 24  defaulted  30000 non-null  int64\n",
      "dtypes: int64(25)\n",
      "memory usage: 5.7 MB\n"
     ]
    }
   ],
   "source": [
    "df.info()"
   ]
  },
  {
   "cell_type": "code",
   "execution_count": 18,
   "id": "9e4bb8f7-5c3e-46f5-9221-72ea699d4163",
   "metadata": {},
   "outputs": [],
   "source": [
    "# Importing test_train_split from sklearn library\n",
    "from sklearn.model_selection import train_test_split"
   ]
  },
  {
   "cell_type": "code",
   "execution_count": 20,
   "id": "2640114d-da00-433d-bd22-405ea15bd09c",
   "metadata": {},
   "outputs": [],
   "source": [
    "# Putting feature variable to X\n",
    "X = df.drop(['defaulted', 'ID'],axis=1)\n",
    "\n",
    "# Putting response variable to y\n",
    "y = df['defaulted']\n",
    "\n",
    "# Splitting the data into train and test\n",
    "X_train, X_test, y_train, y_test = train_test_split(X, y, test_size=0.30, random_state=101)"
   ]
  },
  {
   "cell_type": "code",
   "execution_count": 21,
   "id": "9e3e93be-c97c-4bb5-ad6b-158a81fdb9aa",
   "metadata": {},
   "outputs": [],
   "source": [
    "from sklearn.ensemble import RandomForestClassifier"
   ]
  },
  {
   "cell_type": "code",
   "execution_count": 24,
   "id": "ae0fcfd6-f4ff-449b-9cb0-a7cb0d729830",
   "metadata": {},
   "outputs": [],
   "source": [
    "rf = RandomForestClassifier()"
   ]
  },
  {
   "cell_type": "code",
   "execution_count": 25,
   "id": "8ba8ddec-60bc-4a88-9ec8-88bc35337f87",
   "metadata": {},
   "outputs": [
    {
     "data": {
      "text/plain": [
       "Index(['LIMIT_BAL', 'SEX', 'EDUCATION', 'MARRIAGE', 'AGE', 'PAY_0', 'PAY_2',\n",
       "       'PAY_3', 'PAY_4', 'PAY_5', 'PAY_6', 'BILL_AMT1', 'BILL_AMT2',\n",
       "       'BILL_AMT3', 'BILL_AMT4', 'BILL_AMT5', 'BILL_AMT6', 'PAY_AMT1',\n",
       "       'PAY_AMT2', 'PAY_AMT3', 'PAY_AMT4', 'PAY_AMT5', 'PAY_AMT6'],\n",
       "      dtype='object')"
      ]
     },
     "execution_count": 25,
     "metadata": {},
     "output_type": "execute_result"
    }
   ],
   "source": [
    "X_train.columns"
   ]
  },
  {
   "cell_type": "code",
   "execution_count": 26,
   "id": "1f941c7a-6fc2-4f19-a5b9-091d4ec232c3",
   "metadata": {},
   "outputs": [
    {
     "data": {
      "text/plain": [
       "RandomForestClassifier()"
      ]
     },
     "execution_count": 26,
     "metadata": {},
     "output_type": "execute_result"
    }
   ],
   "source": [
    "rf.fit(X_train, y_train)"
   ]
  },
  {
   "cell_type": "code",
   "execution_count": 27,
   "id": "f3e00ca2-1bbe-4a1c-ac75-290dd0552443",
   "metadata": {},
   "outputs": [],
   "source": [
    "pred = rf.predict(X_test)"
   ]
  },
  {
   "cell_type": "code",
   "execution_count": 28,
   "id": "45ac8554-328a-4071-a8e3-95ce4eecf80f",
   "metadata": {},
   "outputs": [],
   "source": [
    "from sklearn.metrics import classification_report"
   ]
  },
  {
   "cell_type": "code",
   "execution_count": 29,
   "id": "c6896852-8bce-4be6-9219-f632d384feaa",
   "metadata": {},
   "outputs": [
    {
     "name": "stdout",
     "output_type": "stream",
     "text": [
      "              precision    recall  f1-score   support\n",
      "\n",
      "           0       0.84      0.94      0.89      7058\n",
      "           1       0.63      0.36      0.46      1942\n",
      "\n",
      "    accuracy                           0.82      9000\n",
      "   macro avg       0.74      0.65      0.68      9000\n",
      "weighted avg       0.80      0.82      0.80      9000\n",
      "\n"
     ]
    }
   ],
   "source": [
    "print(classification_report(y_test, pred))"
   ]
  },
  {
   "cell_type": "code",
   "execution_count": 30,
   "id": "d0165663-48ed-4cef-a291-616caa02e9ff",
   "metadata": {},
   "outputs": [
    {
     "data": {
      "text/plain": [
       "GridSearchCV(cv=5, estimator=RandomForestClassifier(),\n",
       "             param_grid={'max_depth': range(4, 20, 2)}, return_train_score=True,\n",
       "             scoring='accuracy')"
      ]
     },
     "execution_count": 30,
     "metadata": {},
     "output_type": "execute_result"
    }
   ],
   "source": [
    "# GridSearchCV to find optimal n_estimators\n",
    "from sklearn.model_selection import KFold\n",
    "from sklearn.model_selection import GridSearchCV\n",
    "\n",
    "\n",
    "# specify number of folds for k-fold CV\n",
    "n_folds = 5\n",
    "\n",
    "# parameters to build the model on\n",
    "parameters = {'max_depth': range(4, 20, 2)}\n",
    "\n",
    "# instantiate the model\n",
    "rf = RandomForestClassifier()\n",
    "\n",
    "\n",
    "# fit tree on training data\n",
    "rf = GridSearchCV(rf, parameters, \n",
    "                    cv=n_folds, \n",
    "                   scoring=\"accuracy\",return_train_score=True)\n",
    "rf.fit(X_train, y_train)"
   ]
  },
  {
   "cell_type": "code",
   "execution_count": 31,
   "id": "4c271238-6d89-471b-908d-9505506e0bf8",
   "metadata": {},
   "outputs": [
    {
     "data": {
      "text/html": [
       "<div>\n",
       "<style scoped>\n",
       "    .dataframe tbody tr th:only-of-type {\n",
       "        vertical-align: middle;\n",
       "    }\n",
       "\n",
       "    .dataframe tbody tr th {\n",
       "        vertical-align: top;\n",
       "    }\n",
       "\n",
       "    .dataframe thead th {\n",
       "        text-align: right;\n",
       "    }\n",
       "</style>\n",
       "<table border=\"1\" class=\"dataframe\">\n",
       "  <thead>\n",
       "    <tr style=\"text-align: right;\">\n",
       "      <th></th>\n",
       "      <th>mean_fit_time</th>\n",
       "      <th>std_fit_time</th>\n",
       "      <th>mean_score_time</th>\n",
       "      <th>std_score_time</th>\n",
       "      <th>param_max_depth</th>\n",
       "      <th>params</th>\n",
       "      <th>split0_test_score</th>\n",
       "      <th>split1_test_score</th>\n",
       "      <th>split2_test_score</th>\n",
       "      <th>split3_test_score</th>\n",
       "      <th>...</th>\n",
       "      <th>mean_test_score</th>\n",
       "      <th>std_test_score</th>\n",
       "      <th>rank_test_score</th>\n",
       "      <th>split0_train_score</th>\n",
       "      <th>split1_train_score</th>\n",
       "      <th>split2_train_score</th>\n",
       "      <th>split3_train_score</th>\n",
       "      <th>split4_train_score</th>\n",
       "      <th>mean_train_score</th>\n",
       "      <th>std_train_score</th>\n",
       "    </tr>\n",
       "  </thead>\n",
       "  <tbody>\n",
       "    <tr>\n",
       "      <th>0</th>\n",
       "      <td>0.926538</td>\n",
       "      <td>0.014340</td>\n",
       "      <td>0.030660</td>\n",
       "      <td>0.001820</td>\n",
       "      <td>4</td>\n",
       "      <td>{'max_depth': 4}</td>\n",
       "      <td>0.810476</td>\n",
       "      <td>0.814048</td>\n",
       "      <td>0.810952</td>\n",
       "      <td>0.807381</td>\n",
       "      <td>...</td>\n",
       "      <td>0.810238</td>\n",
       "      <td>0.002318</td>\n",
       "      <td>8</td>\n",
       "      <td>0.810714</td>\n",
       "      <td>0.810417</td>\n",
       "      <td>0.813333</td>\n",
       "      <td>0.813869</td>\n",
       "      <td>0.811786</td>\n",
       "      <td>0.812024</td>\n",
       "      <td>0.001377</td>\n",
       "    </tr>\n",
       "    <tr>\n",
       "      <th>1</th>\n",
       "      <td>1.270555</td>\n",
       "      <td>0.046214</td>\n",
       "      <td>0.034903</td>\n",
       "      <td>0.000602</td>\n",
       "      <td>6</td>\n",
       "      <td>{'max_depth': 6}</td>\n",
       "      <td>0.817143</td>\n",
       "      <td>0.818095</td>\n",
       "      <td>0.817619</td>\n",
       "      <td>0.813095</td>\n",
       "      <td>...</td>\n",
       "      <td>0.817048</td>\n",
       "      <td>0.002101</td>\n",
       "      <td>3</td>\n",
       "      <td>0.826845</td>\n",
       "      <td>0.823571</td>\n",
       "      <td>0.825536</td>\n",
       "      <td>0.825714</td>\n",
       "      <td>0.827560</td>\n",
       "      <td>0.825845</td>\n",
       "      <td>0.001358</td>\n",
       "    </tr>\n",
       "    <tr>\n",
       "      <th>2</th>\n",
       "      <td>1.566117</td>\n",
       "      <td>0.029402</td>\n",
       "      <td>0.041918</td>\n",
       "      <td>0.001069</td>\n",
       "      <td>8</td>\n",
       "      <td>{'max_depth': 8}</td>\n",
       "      <td>0.815476</td>\n",
       "      <td>0.821429</td>\n",
       "      <td>0.819286</td>\n",
       "      <td>0.815238</td>\n",
       "      <td>...</td>\n",
       "      <td>0.818238</td>\n",
       "      <td>0.002459</td>\n",
       "      <td>1</td>\n",
       "      <td>0.839702</td>\n",
       "      <td>0.839464</td>\n",
       "      <td>0.840893</td>\n",
       "      <td>0.842976</td>\n",
       "      <td>0.841250</td>\n",
       "      <td>0.840857</td>\n",
       "      <td>0.001259</td>\n",
       "    </tr>\n",
       "    <tr>\n",
       "      <th>3</th>\n",
       "      <td>1.872611</td>\n",
       "      <td>0.038308</td>\n",
       "      <td>0.048282</td>\n",
       "      <td>0.001718</td>\n",
       "      <td>10</td>\n",
       "      <td>{'max_depth': 10}</td>\n",
       "      <td>0.816667</td>\n",
       "      <td>0.820476</td>\n",
       "      <td>0.819762</td>\n",
       "      <td>0.812857</td>\n",
       "      <td>...</td>\n",
       "      <td>0.818000</td>\n",
       "      <td>0.002915</td>\n",
       "      <td>2</td>\n",
       "      <td>0.862262</td>\n",
       "      <td>0.860060</td>\n",
       "      <td>0.859821</td>\n",
       "      <td>0.865000</td>\n",
       "      <td>0.862262</td>\n",
       "      <td>0.861881</td>\n",
       "      <td>0.001875</td>\n",
       "    </tr>\n",
       "    <tr>\n",
       "      <th>4</th>\n",
       "      <td>2.156648</td>\n",
       "      <td>0.073203</td>\n",
       "      <td>0.054451</td>\n",
       "      <td>0.000671</td>\n",
       "      <td>12</td>\n",
       "      <td>{'max_depth': 12}</td>\n",
       "      <td>0.814762</td>\n",
       "      <td>0.818810</td>\n",
       "      <td>0.818571</td>\n",
       "      <td>0.813095</td>\n",
       "      <td>...</td>\n",
       "      <td>0.816714</td>\n",
       "      <td>0.002340</td>\n",
       "      <td>4</td>\n",
       "      <td>0.884643</td>\n",
       "      <td>0.885060</td>\n",
       "      <td>0.882381</td>\n",
       "      <td>0.885357</td>\n",
       "      <td>0.885119</td>\n",
       "      <td>0.884512</td>\n",
       "      <td>0.001090</td>\n",
       "    </tr>\n",
       "  </tbody>\n",
       "</table>\n",
       "<p>5 rows × 21 columns</p>\n",
       "</div>"
      ],
      "text/plain": [
       "   mean_fit_time  std_fit_time  mean_score_time  std_score_time  \\\n",
       "0       0.926538      0.014340         0.030660        0.001820   \n",
       "1       1.270555      0.046214         0.034903        0.000602   \n",
       "2       1.566117      0.029402         0.041918        0.001069   \n",
       "3       1.872611      0.038308         0.048282        0.001718   \n",
       "4       2.156648      0.073203         0.054451        0.000671   \n",
       "\n",
       "  param_max_depth             params  split0_test_score  split1_test_score  \\\n",
       "0               4   {'max_depth': 4}           0.810476           0.814048   \n",
       "1               6   {'max_depth': 6}           0.817143           0.818095   \n",
       "2               8   {'max_depth': 8}           0.815476           0.821429   \n",
       "3              10  {'max_depth': 10}           0.816667           0.820476   \n",
       "4              12  {'max_depth': 12}           0.814762           0.818810   \n",
       "\n",
       "   split2_test_score  split3_test_score  ...  mean_test_score  std_test_score  \\\n",
       "0           0.810952           0.807381  ...         0.810238        0.002318   \n",
       "1           0.817619           0.813095  ...         0.817048        0.002101   \n",
       "2           0.819286           0.815238  ...         0.818238        0.002459   \n",
       "3           0.819762           0.812857  ...         0.818000        0.002915   \n",
       "4           0.818571           0.813095  ...         0.816714        0.002340   \n",
       "\n",
       "   rank_test_score  split0_train_score  split1_train_score  \\\n",
       "0                8            0.810714            0.810417   \n",
       "1                3            0.826845            0.823571   \n",
       "2                1            0.839702            0.839464   \n",
       "3                2            0.862262            0.860060   \n",
       "4                4            0.884643            0.885060   \n",
       "\n",
       "   split2_train_score  split3_train_score  split4_train_score  \\\n",
       "0            0.813333            0.813869            0.811786   \n",
       "1            0.825536            0.825714            0.827560   \n",
       "2            0.840893            0.842976            0.841250   \n",
       "3            0.859821            0.865000            0.862262   \n",
       "4            0.882381            0.885357            0.885119   \n",
       "\n",
       "   mean_train_score  std_train_score  \n",
       "0          0.812024         0.001377  \n",
       "1          0.825845         0.001358  \n",
       "2          0.840857         0.001259  \n",
       "3          0.861881         0.001875  \n",
       "4          0.884512         0.001090  \n",
       "\n",
       "[5 rows x 21 columns]"
      ]
     },
     "execution_count": 31,
     "metadata": {},
     "output_type": "execute_result"
    }
   ],
   "source": [
    "# scores of GridSearch CV\n",
    "scores = rf.cv_results_\n",
    "pd.DataFrame(scores).head()"
   ]
  },
  {
   "cell_type": "code",
   "execution_count": 32,
   "id": "5d9c97df-27df-4feb-b47a-3b4fc7a6c6da",
   "metadata": {},
   "outputs": [
    {
     "data": {
      "image/png": "[encoded data removed]",
      "text/plain": [
       "<Figure size 432x288 with 1 Axes>"
      ]
     },
     "metadata": {
      "needs_background": "light"
     },
     "output_type": "display_data"
    }
   ],
   "source": [
    "# plotting accuracies with max_depth\n",
    "plt.figure()\n",
    "plt.plot(scores[\"param_max_depth\"], \n",
    "         scores[\"mean_train_score\"], \n",
    "         label=\"training accuracy\")\n",
    "plt.plot(scores[\"param_max_depth\"], \n",
    "         scores[\"mean_test_score\"], \n",
    "         label=\"test accuracy\")\n",
    "plt.xlabel(\"max_depth\")\n",
    "plt.ylabel(\"Accuracy\")\n",
    "plt.legend()\n",
    "plt.show()"
   ]
  },
  {
   "cell_type": "code",
   "execution_count": 33,
   "id": "a53c1f84-e3ef-48e4-9a35-86ca03a1ec39",
   "metadata": {},
   "outputs": [
    {
     "data": {
      "text/plain": [
       "GridSearchCV(cv=5, estimator=RandomForestClassifier(max_depth=4),\n",
       "             param_grid={'n_estimators': range(100, 1500, 400)},\n",
       "             return_train_score=True, scoring='accuracy')"
      ]
     },
     "execution_count": 33,
     "metadata": {},
     "output_type": "execute_result"
    }
   ],
   "source": [
    "# GridSearchCV to find optimal n_estimators\n",
    "from sklearn.model_selection import KFold\n",
    "from sklearn.model_selection import GridSearchCV\n",
    "\n",
    "\n",
    "# specify number of folds for k-fold CV\n",
    "n_folds = 5\n",
    "\n",
    "# parameters to build the model on\n",
    "parameters = {'n_estimators': range(100, 1500, 400)}\n",
    "\n",
    "# instantiate the model (note we are specifying a max_depth)\n",
    "rf = RandomForestClassifier(max_depth=4)\n",
    "\n",
    "\n",
    "# fit tree on training data\n",
    "rf = GridSearchCV(rf, parameters, \n",
    "                    cv=n_folds, \n",
    "                   scoring=\"accuracy\",return_train_score=True)\n",
    "rf.fit(X_train, y_train)"
   ]
  },
  {
   "cell_type": "code",
   "execution_count": 35,
   "id": "0431e6e7-c257-4263-9de4-c3fa5bf55890",
   "metadata": {},
   "outputs": [
    {
     "data": {
      "text/html": [
       "<div>\n",
       "<style scoped>\n",
       "    .dataframe tbody tr th:only-of-type {\n",
       "        vertical-align: middle;\n",
       "    }\n",
       "\n",
       "    .dataframe tbody tr th {\n",
       "        vertical-align: top;\n",
       "    }\n",
       "\n",
       "    .dataframe thead th {\n",
       "        text-align: right;\n",
       "    }\n",
       "</style>\n",
       "<table border=\"1\" class=\"dataframe\">\n",
       "  <thead>\n",
       "    <tr style=\"text-align: right;\">\n",
       "      <th></th>\n",
       "      <th>mean_fit_time</th>\n",
       "      <th>std_fit_time</th>\n",
       "      <th>mean_score_time</th>\n",
       "      <th>std_score_time</th>\n",
       "      <th>param_n_estimators</th>\n",
       "      <th>params</th>\n",
       "      <th>split0_test_score</th>\n",
       "      <th>split1_test_score</th>\n",
       "      <th>split2_test_score</th>\n",
       "      <th>split3_test_score</th>\n",
       "      <th>...</th>\n",
       "      <th>mean_test_score</th>\n",
       "      <th>std_test_score</th>\n",
       "      <th>rank_test_score</th>\n",
       "      <th>split0_train_score</th>\n",
       "      <th>split1_train_score</th>\n",
       "      <th>split2_train_score</th>\n",
       "      <th>split3_train_score</th>\n",
       "      <th>split4_train_score</th>\n",
       "      <th>mean_train_score</th>\n",
       "      <th>std_train_score</th>\n",
       "    </tr>\n",
       "  </thead>\n",
       "  <tbody>\n",
       "    <tr>\n",
       "      <th>0</th>\n",
       "      <td>0.924057</td>\n",
       "      <td>0.025811</td>\n",
       "      <td>0.029706</td>\n",
       "      <td>0.000689</td>\n",
       "      <td>100</td>\n",
       "      <td>{'n_estimators': 100}</td>\n",
       "      <td>0.812857</td>\n",
       "      <td>0.811429</td>\n",
       "      <td>0.811905</td>\n",
       "      <td>0.808095</td>\n",
       "      <td>...</td>\n",
       "      <td>0.810333</td>\n",
       "      <td>0.002180</td>\n",
       "      <td>1</td>\n",
       "      <td>0.811786</td>\n",
       "      <td>0.810238</td>\n",
       "      <td>0.812679</td>\n",
       "      <td>0.813750</td>\n",
       "      <td>0.812798</td>\n",
       "      <td>0.812250</td>\n",
       "      <td>0.001183</td>\n",
       "    </tr>\n",
       "    <tr>\n",
       "      <th>1</th>\n",
       "      <td>4.537511</td>\n",
       "      <td>0.077610</td>\n",
       "      <td>0.138278</td>\n",
       "      <td>0.002069</td>\n",
       "      <td>500</td>\n",
       "      <td>{'n_estimators': 500}</td>\n",
       "      <td>0.811429</td>\n",
       "      <td>0.814286</td>\n",
       "      <td>0.811190</td>\n",
       "      <td>0.805476</td>\n",
       "      <td>...</td>\n",
       "      <td>0.810238</td>\n",
       "      <td>0.002947</td>\n",
       "      <td>3</td>\n",
       "      <td>0.811071</td>\n",
       "      <td>0.810655</td>\n",
       "      <td>0.811726</td>\n",
       "      <td>0.813036</td>\n",
       "      <td>0.812560</td>\n",
       "      <td>0.811810</td>\n",
       "      <td>0.000889</td>\n",
       "    </tr>\n",
       "    <tr>\n",
       "      <th>2</th>\n",
       "      <td>8.110594</td>\n",
       "      <td>0.056447</td>\n",
       "      <td>0.244395</td>\n",
       "      <td>0.005139</td>\n",
       "      <td>900</td>\n",
       "      <td>{'n_estimators': 900}</td>\n",
       "      <td>0.811667</td>\n",
       "      <td>0.814286</td>\n",
       "      <td>0.811905</td>\n",
       "      <td>0.805714</td>\n",
       "      <td>...</td>\n",
       "      <td>0.810333</td>\n",
       "      <td>0.003040</td>\n",
       "      <td>1</td>\n",
       "      <td>0.810893</td>\n",
       "      <td>0.810060</td>\n",
       "      <td>0.811786</td>\n",
       "      <td>0.812798</td>\n",
       "      <td>0.812976</td>\n",
       "      <td>0.811702</td>\n",
       "      <td>0.001112</td>\n",
       "    </tr>\n",
       "    <tr>\n",
       "      <th>3</th>\n",
       "      <td>12.073076</td>\n",
       "      <td>0.719893</td>\n",
       "      <td>0.353877</td>\n",
       "      <td>0.008876</td>\n",
       "      <td>1300</td>\n",
       "      <td>{'n_estimators': 1300}</td>\n",
       "      <td>0.810952</td>\n",
       "      <td>0.814524</td>\n",
       "      <td>0.810952</td>\n",
       "      <td>0.805000</td>\n",
       "      <td>...</td>\n",
       "      <td>0.810048</td>\n",
       "      <td>0.003120</td>\n",
       "      <td>4</td>\n",
       "      <td>0.811250</td>\n",
       "      <td>0.810357</td>\n",
       "      <td>0.812560</td>\n",
       "      <td>0.812083</td>\n",
       "      <td>0.812738</td>\n",
       "      <td>0.811798</td>\n",
       "      <td>0.000886</td>\n",
       "    </tr>\n",
       "  </tbody>\n",
       "</table>\n",
       "<p>4 rows × 21 columns</p>\n",
       "</div>"
      ],
      "text/plain": [
       "   mean_fit_time  std_fit_time  mean_score_time  std_score_time  \\\n",
       "0       0.924057      0.025811         0.029706        0.000689   \n",
       "1       4.537511      0.077610         0.138278        0.002069   \n",
       "2       8.110594      0.056447         0.244395        0.005139   \n",
       "3      12.073076      0.719893         0.353877        0.008876   \n",
       "\n",
       "  param_n_estimators                  params  split0_test_score  \\\n",
       "0                100   {'n_estimators': 100}           0.812857   \n",
       "1                500   {'n_estimators': 500}           0.811429   \n",
       "2                900   {'n_estimators': 900}           0.811667   \n",
       "3               1300  {'n_estimators': 1300}           0.810952   \n",
       "\n",
       "   split1_test_score  split2_test_score  split3_test_score  ...  \\\n",
       "0           0.811429           0.811905           0.808095  ...   \n",
       "1           0.814286           0.811190           0.805476  ...   \n",
       "2           0.814286           0.811905           0.805714  ...   \n",
       "3           0.814524           0.810952           0.805000  ...   \n",
       "\n",
       "   mean_test_score  std_test_score  rank_test_score  split0_train_score  \\\n",
       "0         0.810333        0.002180                1            0.811786   \n",
       "1         0.810238        0.002947                3            0.811071   \n",
       "2         0.810333        0.003040                1            0.810893   \n",
       "3         0.810048        0.003120                4            0.811250   \n",
       "\n",
       "   split1_train_score  split2_train_score  split3_train_score  \\\n",
       "0            0.810238            0.812679            0.813750   \n",
       "1            0.810655            0.811726            0.813036   \n",
       "2            0.810060            0.811786            0.812798   \n",
       "3            0.810357            0.812560            0.812083   \n",
       "\n",
       "   split4_train_score  mean_train_score  std_train_score  \n",
       "0            0.812798          0.812250         0.001183  \n",
       "1            0.812560          0.811810         0.000889  \n",
       "2            0.812976          0.811702         0.001112  \n",
       "3            0.812738          0.811798         0.000886  \n",
       "\n",
       "[4 rows x 21 columns]"
      ]
     },
     "execution_count": 35,
     "metadata": {},
     "output_type": "execute_result"
    }
   ],
   "source": [
    "# scores of GridSearch CV\n",
    "scores = rf.cv_results_\n",
    "pd.DataFrame(scores).head()"
   ]
  },
  {
   "cell_type": "code",
   "execution_count": 36,
   "id": "be989b80-fcc1-4ff7-baba-bcab06289494",
   "metadata": {},
   "outputs": [
    {
     "data": {
      "image/png": "[encoded data removed]",
      "text/plain": [
       "<Figure size 432x288 with 1 Axes>"
      ]
     },
     "metadata": {
      "needs_background": "light"
     },
     "output_type": "display_data"
    }
   ],
   "source": [
    "# plotting accuracies with n_estimators\n",
    "plt.figure()\n",
    "plt.plot(scores[\"param_n_estimators\"], \n",
    "         scores[\"mean_train_score\"], \n",
    "         label=\"training accuracy\")\n",
    "plt.plot(scores[\"param_n_estimators\"], \n",
    "         scores[\"mean_test_score\"], \n",
    "         label=\"test accuracy\")\n",
    "plt.xlabel(\"n_estimators\")\n",
    "plt.ylabel(\"Accuracy\")\n",
    "plt.legend()\n",
    "plt.show()"
   ]
  },
  {
   "cell_type": "code",
   "execution_count": 38,
   "id": "48df9348-457c-41a5-ab52-1e4701247ef8",
   "metadata": {},
   "outputs": [
    {
     "data": {
      "text/plain": [
       "GridSearchCV(cv=5, estimator=RandomForestClassifier(max_depth=4),\n",
       "             param_grid={'max_features': [4, 8, 14, 20]},\n",
       "             return_train_score=True, scoring='accuracy')"
      ]
     },
     "execution_count": 38,
     "metadata": {},
     "output_type": "execute_result"
    }
   ],
   "source": [
    "# GridSearchCV to find optimal max_features\n",
    "from sklearn.model_selection import KFold\n",
    "from sklearn.model_selection import GridSearchCV\n",
    "\n",
    "\n",
    "# specify number of folds for k-fold CV\n",
    "n_folds = 5\n",
    "\n",
    "# parameters to build the model on\n",
    "parameters = {'max_features': [4, 8, 14, 20]}\n",
    "\n",
    "# instantiate the model\n",
    "rf = RandomForestClassifier(max_depth=4)\n",
    "\n",
    "\n",
    "# fit tree on training data\n",
    "rf = GridSearchCV(rf, parameters, \n",
    "                    cv=n_folds, \n",
    "                   scoring=\"accuracy\",return_train_score=True)\n",
    "rf.fit(X_train, y_train)"
   ]
  },
  {
   "cell_type": "code",
   "execution_count": 39,
   "id": "3cfad4e9-0f13-4c33-b08c-470bc982e18b",
   "metadata": {},
   "outputs": [
    {
     "data": {
      "text/html": [
       "<div>\n",
       "<style scoped>\n",
       "    .dataframe tbody tr th:only-of-type {\n",
       "        vertical-align: middle;\n",
       "    }\n",
       "\n",
       "    .dataframe tbody tr th {\n",
       "        vertical-align: top;\n",
       "    }\n",
       "\n",
       "    .dataframe thead th {\n",
       "        text-align: right;\n",
       "    }\n",
       "</style>\n",
       "<table border=\"1\" class=\"dataframe\">\n",
       "  <thead>\n",
       "    <tr style=\"text-align: right;\">\n",
       "      <th></th>\n",
       "      <th>mean_fit_time</th>\n",
       "      <th>std_fit_time</th>\n",
       "      <th>mean_score_time</th>\n",
       "      <th>std_score_time</th>\n",
       "      <th>param_max_features</th>\n",
       "      <th>params</th>\n",
       "      <th>split0_test_score</th>\n",
       "      <th>split1_test_score</th>\n",
       "      <th>split2_test_score</th>\n",
       "      <th>split3_test_score</th>\n",
       "      <th>...</th>\n",
       "      <th>mean_test_score</th>\n",
       "      <th>std_test_score</th>\n",
       "      <th>rank_test_score</th>\n",
       "      <th>split0_train_score</th>\n",
       "      <th>split1_train_score</th>\n",
       "      <th>split2_train_score</th>\n",
       "      <th>split3_train_score</th>\n",
       "      <th>split4_train_score</th>\n",
       "      <th>mean_train_score</th>\n",
       "      <th>std_train_score</th>\n",
       "    </tr>\n",
       "  </thead>\n",
       "  <tbody>\n",
       "    <tr>\n",
       "      <th>0</th>\n",
       "      <td>0.918512</td>\n",
       "      <td>0.013648</td>\n",
       "      <td>0.029355</td>\n",
       "      <td>0.001013</td>\n",
       "      <td>4</td>\n",
       "      <td>{'max_features': 4}</td>\n",
       "      <td>0.811429</td>\n",
       "      <td>0.813571</td>\n",
       "      <td>0.810714</td>\n",
       "      <td>0.805000</td>\n",
       "      <td>...</td>\n",
       "      <td>0.809571</td>\n",
       "      <td>0.003084</td>\n",
       "      <td>4</td>\n",
       "      <td>0.811071</td>\n",
       "      <td>0.811369</td>\n",
       "      <td>0.811964</td>\n",
       "      <td>0.812321</td>\n",
       "      <td>0.811548</td>\n",
       "      <td>0.811655</td>\n",
       "      <td>0.000441</td>\n",
       "    </tr>\n",
       "    <tr>\n",
       "      <th>1</th>\n",
       "      <td>1.605756</td>\n",
       "      <td>0.060549</td>\n",
       "      <td>0.028212</td>\n",
       "      <td>0.001134</td>\n",
       "      <td>8</td>\n",
       "      <td>{'max_features': 8}</td>\n",
       "      <td>0.818095</td>\n",
       "      <td>0.820714</td>\n",
       "      <td>0.819524</td>\n",
       "      <td>0.817857</td>\n",
       "      <td>...</td>\n",
       "      <td>0.818952</td>\n",
       "      <td>0.001050</td>\n",
       "      <td>2</td>\n",
       "      <td>0.822202</td>\n",
       "      <td>0.820357</td>\n",
       "      <td>0.822083</td>\n",
       "      <td>0.821607</td>\n",
       "      <td>0.821548</td>\n",
       "      <td>0.821560</td>\n",
       "      <td>0.000654</td>\n",
       "    </tr>\n",
       "    <tr>\n",
       "      <th>2</th>\n",
       "      <td>2.628163</td>\n",
       "      <td>0.093004</td>\n",
       "      <td>0.029548</td>\n",
       "      <td>0.002145</td>\n",
       "      <td>14</td>\n",
       "      <td>{'max_features': 14}</td>\n",
       "      <td>0.818095</td>\n",
       "      <td>0.820714</td>\n",
       "      <td>0.818810</td>\n",
       "      <td>0.817619</td>\n",
       "      <td>...</td>\n",
       "      <td>0.818714</td>\n",
       "      <td>0.001071</td>\n",
       "      <td>3</td>\n",
       "      <td>0.822083</td>\n",
       "      <td>0.820536</td>\n",
       "      <td>0.821905</td>\n",
       "      <td>0.822976</td>\n",
       "      <td>0.821726</td>\n",
       "      <td>0.821845</td>\n",
       "      <td>0.000783</td>\n",
       "    </tr>\n",
       "    <tr>\n",
       "      <th>3</th>\n",
       "      <td>3.579532</td>\n",
       "      <td>0.069549</td>\n",
       "      <td>0.029305</td>\n",
       "      <td>0.002175</td>\n",
       "      <td>20</td>\n",
       "      <td>{'max_features': 20}</td>\n",
       "      <td>0.817381</td>\n",
       "      <td>0.820476</td>\n",
       "      <td>0.819524</td>\n",
       "      <td>0.819048</td>\n",
       "      <td>...</td>\n",
       "      <td>0.819143</td>\n",
       "      <td>0.001006</td>\n",
       "      <td>1</td>\n",
       "      <td>0.822857</td>\n",
       "      <td>0.820714</td>\n",
       "      <td>0.821548</td>\n",
       "      <td>0.823155</td>\n",
       "      <td>0.823393</td>\n",
       "      <td>0.822333</td>\n",
       "      <td>0.001031</td>\n",
       "    </tr>\n",
       "  </tbody>\n",
       "</table>\n",
       "<p>4 rows × 21 columns</p>\n",
       "</div>"
      ],
      "text/plain": [
       "   mean_fit_time  std_fit_time  mean_score_time  std_score_time  \\\n",
       "0       0.918512      0.013648         0.029355        0.001013   \n",
       "1       1.605756      0.060549         0.028212        0.001134   \n",
       "2       2.628163      0.093004         0.029548        0.002145   \n",
       "3       3.579532      0.069549         0.029305        0.002175   \n",
       "\n",
       "  param_max_features                params  split0_test_score  \\\n",
       "0                  4   {'max_features': 4}           0.811429   \n",
       "1                  8   {'max_features': 8}           0.818095   \n",
       "2                 14  {'max_features': 14}           0.818095   \n",
       "3                 20  {'max_features': 20}           0.817381   \n",
       "\n",
       "   split1_test_score  split2_test_score  split3_test_score  ...  \\\n",
       "0           0.813571           0.810714           0.805000  ...   \n",
       "1           0.820714           0.819524           0.817857  ...   \n",
       "2           0.820714           0.818810           0.817619  ...   \n",
       "3           0.820476           0.819524           0.819048  ...   \n",
       "\n",
       "   mean_test_score  std_test_score  rank_test_score  split0_train_score  \\\n",
       "0         0.809571        0.003084                4            0.811071   \n",
       "1         0.818952        0.001050                2            0.822202   \n",
       "2         0.818714        0.001071                3            0.822083   \n",
       "3         0.819143        0.001006                1            0.822857   \n",
       "\n",
       "   split1_train_score  split2_train_score  split3_train_score  \\\n",
       "0            0.811369            0.811964            0.812321   \n",
       "1            0.820357            0.822083            0.821607   \n",
       "2            0.820536            0.821905            0.822976   \n",
       "3            0.820714            0.821548            0.823155   \n",
       "\n",
       "   split4_train_score  mean_train_score  std_train_score  \n",
       "0            0.811548          0.811655         0.000441  \n",
       "1            0.821548          0.821560         0.000654  \n",
       "2            0.821726          0.821845         0.000783  \n",
       "3            0.823393          0.822333         0.001031  \n",
       "\n",
       "[4 rows x 21 columns]"
      ]
     },
     "execution_count": 39,
     "metadata": {},
     "output_type": "execute_result"
    }
   ],
   "source": [
    "# scores of GridSearch CV\n",
    "scores = rf.cv_results_\n",
    "pd.DataFrame(scores).head()"
   ]
  },
  {
   "cell_type": "code",
   "execution_count": 40,
   "id": "2d86fca9-caff-4fe6-84aa-09b80785bcbd",
   "metadata": {},
   "outputs": [
    {
     "data": {
      "image/png": "[encoded data removed]",
      "text/plain": [
       "<Figure size 432x288 with 1 Axes>"
      ]
     },
     "metadata": {
      "needs_background": "light"
     },
     "output_type": "display_data"
    }
   ],
   "source": [
    "# plotting accuracies with max_features\n",
    "plt.figure()\n",
    "plt.plot(scores[\"param_max_features\"], \n",
    "         scores[\"mean_train_score\"], \n",
    "         label=\"training accuracy\")\n",
    "plt.plot(scores[\"param_max_features\"], \n",
    "         scores[\"mean_test_score\"], \n",
    "         label=\"test accuracy\")\n",
    "plt.xlabel(\"max_features\")\n",
    "plt.ylabel(\"Accuracy\")\n",
    "plt.legend()\n",
    "plt.show()"
   ]
  },
  {
   "cell_type": "code",
   "execution_count": 41,
   "id": "6eee0cb4-a4cb-4629-b0e4-8fe9b0e9794c",
   "metadata": {},
   "outputs": [],
   "source": [
    "# Create the parameter grid based on the results of random search \n",
    "param_grid = {\n",
    "    'max_depth': [4,8,10],\n",
    "    'min_samples_leaf': range(100, 400, 200),\n",
    "    'min_samples_split': range(200, 500, 200),\n",
    "    'n_estimators': [100,200, 300], \n",
    "    'max_features': [5, 10]\n",
    "}\n",
    "# Create a based model\n",
    "rf = RandomForestClassifier()\n",
    "# Instantiate the grid search model\n",
    "grid_search = GridSearchCV(estimator = rf, param_grid = param_grid, \n",
    "                          cv = 3, n_jobs = -1,verbose = 1)"
   ]
  },
  {
   "cell_type": "code",
   "execution_count": 42,
   "id": "b46dacfc-5c60-490a-9588-19cb2760761d",
   "metadata": {},
   "outputs": [
    {
     "name": "stdout",
     "output_type": "stream",
     "text": [
      "Fitting 3 folds for each of 72 candidates, totalling 216 fits\n"
     ]
    },
    {
     "data": {
      "text/plain": [
       "GridSearchCV(cv=3, estimator=RandomForestClassifier(), n_jobs=-1,\n",
       "             param_grid={'max_depth': [4, 8, 10], 'max_features': [5, 10],\n",
       "                         'min_samples_leaf': range(100, 400, 200),\n",
       "                         'min_samples_split': range(200, 500, 200),\n",
       "                         'n_estimators': [100, 200, 300]},\n",
       "             verbose=1)"
      ]
     },
     "execution_count": 42,
     "metadata": {},
     "output_type": "execute_result"
    }
   ],
   "source": [
    "# Fit the grid search to the data\n",
    "grid_search.fit(X_train, y_train)"
   ]
  },
  {
   "cell_type": "code",
   "execution_count": 43,
   "id": "276bd521-7e76-4766-885f-a57863ce6f68",
   "metadata": {},
   "outputs": [
    {
     "name": "stdout",
     "output_type": "stream",
     "text": [
      "We can get accuracy of 0.8184761904761905 using {'max_depth': 4, 'max_features': 10, 'min_samples_leaf': 100, 'min_samples_split': 400, 'n_estimators': 300}\n"
     ]
    }
   ],
   "source": [
    "print('We can get accuracy of',grid_search.best_score_,'using',grid_search.best_params_)"
   ]
  },
  {
   "cell_type": "code",
   "execution_count": 53,
   "id": "9c13dd8a-a2d9-4a6d-85d5-a6eb481a2f6e",
   "metadata": {},
   "outputs": [],
   "source": [
    "# model with the best hyperparameters\n",
    "from sklearn.ensemble import RandomForestClassifier\n",
    "rfc = RandomForestClassifier(bootstrap=True,\n",
    "                             max_depth=10,\n",
    "                             min_samples_leaf=100, \n",
    "                             min_samples_split=200,\n",
    "                             class_weight='balanced',\n",
    "                             max_features=10,\n",
    "                             n_estimators=100\n",
    "                    )"
   ]
  },
  {
   "cell_type": "code",
   "execution_count": null,
   "id": "20cb0b71-bc73-4e82-94d8-20685f9e8a74",
   "metadata": {},
   "outputs": [],
   "source": [
    "RandomForestClassifier()"
   ]
  },
  {
   "cell_type": "code",
   "execution_count": 54,
   "id": "e355b94b-56fc-49a7-baa9-16ffa8d32fd5",
   "metadata": {},
   "outputs": [
    {
     "data": {
      "text/plain": [
       "RandomForestClassifier(class_weight='balanced', max_depth=10, max_features=10,\n",
       "                       min_samples_leaf=100, min_samples_split=200)"
      ]
     },
     "execution_count": 54,
     "metadata": {},
     "output_type": "execute_result"
    }
   ],
   "source": [
    "rfc.fit(X_train,y_train)"
   ]
  },
  {
   "cell_type": "code",
   "execution_count": 55,
   "id": "b2f66a05-2ed5-412c-ad4b-d6f829005348",
   "metadata": {},
   "outputs": [],
   "source": [
    "predictions = rfc.predict(X_test)"
   ]
  },
  {
   "cell_type": "code",
   "execution_count": 56,
   "id": "ca3ae07a-91e7-4108-9c80-9c77958ecc4e",
   "metadata": {},
   "outputs": [
    {
     "name": "stdout",
     "output_type": "stream",
     "text": [
      "              precision    recall  f1-score   support\n",
      "\n",
      "           0       0.89      0.81      0.85      7058\n",
      "           1       0.48      0.62      0.54      1942\n",
      "\n",
      "    accuracy                           0.77      9000\n",
      "   macro avg       0.68      0.72      0.69      9000\n",
      "weighted avg       0.80      0.77      0.78      9000\n",
      "\n"
     ]
    }
   ],
   "source": [
    "print(classification_report(y_test,predictions))"
   ]
  },
  {
   "cell_type": "code",
   "execution_count": 57,
   "id": "4f94434b-027a-4abf-84cb-abea5a1ca3d8",
   "metadata": {},
   "outputs": [
    {
     "data": {
      "text/plain": [
       "array([0.04197431, 0.00233988, 0.00281892, 0.00348681, 0.00778075,\n",
       "       0.41775392, 0.12510368, 0.06977408, 0.0408294 , 0.03537821,\n",
       "       0.00892927, 0.03144374, 0.0198358 , 0.01542184, 0.00905292,\n",
       "       0.00981799, 0.00873791, 0.02256083, 0.04125783, 0.03204485,\n",
       "       0.02206924, 0.01763032, 0.01395751])"
      ]
     },
     "execution_count": 57,
     "metadata": {},
     "output_type": "execute_result"
    }
   ],
   "source": [
    "rfc.feature_importances_"
   ]
  },
  {
   "cell_type": "code",
   "execution_count": null,
   "id": "16ef1b0d-71b3-4f91-983a-c231872be781",
   "metadata": {},
   "outputs": [],
   "source": []
  }
 ],
 "metadata": {
  "kernelspec": {
   "display_name": "Python 3",
   "language": "python",
   "name": "python3"
  },
  "language_info": {
   "codemirror_mode": {
    "name": "ipython",
    "version": 3
   },
   "file_extension": ".py",
   "mimetype": "text/x-python",
   "name": "python",
   "nbconvert_exporter": "python",
   "pygments_lexer": "ipython3",
   "version": "3.8.8"
  }
 },
 "nbformat": 4,
 "nbformat_minor": 5
}
